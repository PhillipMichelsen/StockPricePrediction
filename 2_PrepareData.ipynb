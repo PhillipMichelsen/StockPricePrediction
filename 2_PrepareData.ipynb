{
 "cells": [
  {
   "cell_type": "code",
   "execution_count": 2,
   "metadata": {
    "collapsed": true,
    "ExecuteTime": {
     "end_time": "2023-05-28T10:18:00.569109287Z",
     "start_time": "2023-05-28T10:17:55.600246278Z"
    }
   },
   "outputs": [],
   "source": [
    "%reset\n",
    "import os\n",
    "import datetime\n",
    "\n",
    "import pandas as pd\n",
    "import matplotlib.pyplot as plt\n",
    "import numpy as np\n",
    "\n",
    "import ta\n",
    "\n",
    "RawStockDataDirectory = 'Data/Raw/S&P500/'\n",
    "ProcessedStockDataDirectory = 'Data/Processed/S&P500/'"
   ]
  },
  {
   "cell_type": "code",
   "execution_count": 4,
   "outputs": [],
   "source": [
    "for stockData in os.listdir(RawStockDataDirectory):\n",
    "    stock = pd.read_csv(RawStockDataDirectory + stockData, usecols=[1,2,3,4,5])\n",
    "\n",
    "    stock['MA10'] = stock['Close'].rolling(window=10).mean()\n",
    "    stock['MA50'] = stock['Close'].rolling(window=50).mean()\n",
    "    stock['MA200'] = stock['Close'].rolling(window=200).mean()\n",
    "\n",
    "    # Calculate RSI\n",
    "    stock['RSI'] = ta.momentum.rsi(stock['Close'], window=14)\n",
    "\n",
    "    # Calculate Bollinger Bands\n",
    "    BB = ta.volatility.BollingerBands(stock['Close'])\n",
    "    stock['BBup'], stock['BBmid'], stock['BBlow'] = BB.bollinger_hband(), BB.bollinger_mavg(), BB.bollinger_lband()\n",
    "\n",
    "    # Calculate MACD\n",
    "    MACD = ta.trend.MACD(stock['Close'])\n",
    "    stock['MACD'], stock['MACDsig'], stock['MACDdiff'] = MACD.macd(), MACD.macd_signal(), MACD.macd_diff()\n",
    "\n",
    "    stock.dropna(inplace=True)\n",
    "    stock.reset_index(drop=True, inplace=True)\n",
    "\n",
    "    stock.to_csv(ProcessedStockDataDirectory +  stockData)"
   ],
   "metadata": {
    "collapsed": false,
    "ExecuteTime": {
     "end_time": "2023-05-28T10:18:52.766962842Z",
     "start_time": "2023-05-28T10:18:10.014687685Z"
    }
   }
  },
  {
   "cell_type": "code",
   "execution_count": null,
   "outputs": [],
   "source": [],
   "metadata": {
    "collapsed": false
   }
  }
 ],
 "metadata": {
  "kernelspec": {
   "display_name": "Python 3",
   "language": "python",
   "name": "python3"
  },
  "language_info": {
   "codemirror_mode": {
    "name": "ipython",
    "version": 2
   },
   "file_extension": ".py",
   "mimetype": "text/x-python",
   "name": "python",
   "nbconvert_exporter": "python",
   "pygments_lexer": "ipython2",
   "version": "2.7.6"
  }
 },
 "nbformat": 4,
 "nbformat_minor": 0
}
