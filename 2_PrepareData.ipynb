{
 "cells": [
  {
   "cell_type": "code",
   "execution_count": 6,
   "metadata": {
    "collapsed": true
   },
   "outputs": [],
   "source": [
    "%reset\n",
    "import os\n",
    "import datetime\n",
    "\n",
    "import pandas as pd\n",
    "import matplotlib.pyplot as plt\n",
    "import numpy as np\n",
    "\n",
    "import ta\n",
    "\n",
    "RawStockDataDirectory = 'StockData/Raw/'\n",
    "ProcessedStockDataDirectory = 'StockData/Processed/'"
   ]
  },
  {
   "cell_type": "code",
   "execution_count": 7,
   "outputs": [],
   "source": [
    "allData = list()\n",
    "\n",
    "for stockData in os.listdir(RawStockDataDirectory):\n",
    "    allData.append(pd.read_csv(RawStockDataDirectory + stockData, usecols=[1,2,3,4,5]))"
   ],
   "metadata": {
    "collapsed": false
   }
  },
  {
   "cell_type": "code",
   "execution_count": 8,
   "outputs": [
    {
     "data": {
      "text/plain": "             Open        High         Low       Close     Volume\n0        0.099722    0.100155    0.099722    0.099722  469033600\n1        0.094953    0.094953    0.094519    0.094519  175884800\n2        0.088015    0.088015    0.087582    0.087582  105728000\n3        0.089749    0.090183    0.089749    0.089749   86441600\n4        0.092351    0.092785    0.092351    0.092351   73449600\n...           ...         ...         ...         ...        ...\n10645  153.789993  156.300003  153.460007  153.830002   87558000\n10646  153.699997  154.029999  151.130005  151.600006   56182000\n10647  152.809998  153.470001  151.830002  152.869995   47204800\n10648  153.559998  154.539993  150.229996  150.589996   53833600\n10649  150.210007  150.940002  147.610001  148.500000   68524400\n\n[10650 rows x 5 columns]",
      "text/html": "<div>\n<style scoped>\n    .dataframe tbody tr th:only-of-type {\n        vertical-align: middle;\n    }\n\n    .dataframe tbody tr th {\n        vertical-align: top;\n    }\n\n    .dataframe thead th {\n        text-align: right;\n    }\n</style>\n<table border=\"1\" class=\"dataframe\">\n  <thead>\n    <tr style=\"text-align: right;\">\n      <th></th>\n      <th>Open</th>\n      <th>High</th>\n      <th>Low</th>\n      <th>Close</th>\n      <th>Volume</th>\n    </tr>\n  </thead>\n  <tbody>\n    <tr>\n      <th>0</th>\n      <td>0.099722</td>\n      <td>0.100155</td>\n      <td>0.099722</td>\n      <td>0.099722</td>\n      <td>469033600</td>\n    </tr>\n    <tr>\n      <th>1</th>\n      <td>0.094953</td>\n      <td>0.094953</td>\n      <td>0.094519</td>\n      <td>0.094519</td>\n      <td>175884800</td>\n    </tr>\n    <tr>\n      <th>2</th>\n      <td>0.088015</td>\n      <td>0.088015</td>\n      <td>0.087582</td>\n      <td>0.087582</td>\n      <td>105728000</td>\n    </tr>\n    <tr>\n      <th>3</th>\n      <td>0.089749</td>\n      <td>0.090183</td>\n      <td>0.089749</td>\n      <td>0.089749</td>\n      <td>86441600</td>\n    </tr>\n    <tr>\n      <th>4</th>\n      <td>0.092351</td>\n      <td>0.092785</td>\n      <td>0.092351</td>\n      <td>0.092351</td>\n      <td>73449600</td>\n    </tr>\n    <tr>\n      <th>...</th>\n      <td>...</td>\n      <td>...</td>\n      <td>...</td>\n      <td>...</td>\n      <td>...</td>\n    </tr>\n    <tr>\n      <th>10645</th>\n      <td>153.789993</td>\n      <td>156.300003</td>\n      <td>153.460007</td>\n      <td>153.830002</td>\n      <td>87558000</td>\n    </tr>\n    <tr>\n      <th>10646</th>\n      <td>153.699997</td>\n      <td>154.029999</td>\n      <td>151.130005</td>\n      <td>151.600006</td>\n      <td>56182000</td>\n    </tr>\n    <tr>\n      <th>10647</th>\n      <td>152.809998</td>\n      <td>153.470001</td>\n      <td>151.830002</td>\n      <td>152.869995</td>\n      <td>47204800</td>\n    </tr>\n    <tr>\n      <th>10648</th>\n      <td>153.559998</td>\n      <td>154.539993</td>\n      <td>150.229996</td>\n      <td>150.589996</td>\n      <td>53833600</td>\n    </tr>\n    <tr>\n      <th>10649</th>\n      <td>150.210007</td>\n      <td>150.940002</td>\n      <td>147.610001</td>\n      <td>148.500000</td>\n      <td>68524400</td>\n    </tr>\n  </tbody>\n</table>\n<p>10650 rows × 5 columns</p>\n</div>"
     },
     "execution_count": 8,
     "metadata": {},
     "output_type": "execute_result"
    }
   ],
   "source": [
    "allData[0]"
   ],
   "metadata": {
    "collapsed": false
   }
  },
  {
   "cell_type": "code",
   "execution_count": 9,
   "outputs": [],
   "source": [
    "count = 1\n",
    "for stock in allData:\n",
    "    # Calculate moving averages\n",
    "    stock['MA10'] = stock['Close'].rolling(window=10).mean()\n",
    "    stock['MA20'] = stock['Close'].rolling(window=20).mean()\n",
    "    stock['MA50'] = stock['Close'].rolling(window=50).mean()\n",
    "    stock['MA100'] = stock['Close'].rolling(window=100).mean()\n",
    "    stock['MA200'] = stock['Close'].rolling(window=200).mean()\n",
    "\n",
    "    # Calculate RSI\n",
    "    stock['RSI'] = ta.momentum.rsi(stock['Close'], window=14)\n",
    "\n",
    "    # Calculate Bollinger Bands\n",
    "    BB = ta.volatility.BollingerBands(stock['Close'])\n",
    "    stock['BBup'], stock['BBmid'], stock['BBlow'] = BB.bollinger_hband(), BB.bollinger_mavg(), BB.bollinger_lband()\n",
    "\n",
    "    # Calculate MACD\n",
    "    MACD = ta.trend.MACD(stock['Close'])\n",
    "    stock['MACD'], stock['MACDsig'], stock['MACDdiff'] = MACD.macd(), MACD.macd_signal(), MACD.macd_diff()\n",
    "\n",
    "    # Calculate ROC\n",
    "    stock['ROC'] = ta.momentum.ROCIndicator(stock['Close']).roc()\n",
    "\n",
    "    # Calculate KAMA\n",
    "    stock['KAMA'] = ta.momentum.kama(stock['Close'])\n",
    "\n",
    "    # Calculate OBV\n",
    "    stock['OBX'] = ta.volume.OnBalanceVolumeIndicator(close=stock['Close'], volume=stock['Volume']).on_balance_volume()\n",
    "\n",
    "    # Calculate STOCH\n",
    "    STOCH = ta.momentum.StochasticOscillator(close=stock['Close'], high=stock['High'], low=stock['Low'])\n",
    "    stock['STOCH'] = STOCH.stoch()\n",
    "    stock['STOCHsig'] = STOCH.stoch_signal()\n",
    "\n",
    "    stock.dropna(inplace=True)\n",
    "    stock.reset_index(drop=True, inplace=True)\n",
    "\n",
    "    stock.to_csv(ProcessedStockDataDirectory + \"Processed_\" + str(count))\n",
    "    count += 1"
   ],
   "metadata": {
    "collapsed": false
   }
  },
  {
   "cell_type": "code",
   "execution_count": 10,
   "outputs": [
    {
     "data": {
      "text/plain": "             Open        High         Low       Close    Volume        MA10  \\\n0        0.049861    0.050294    0.049861    0.049861  91728000    0.058359   \n1        0.052462    0.052896    0.052462    0.052462  94684800    0.057188   \n2        0.052896    0.053329    0.052896    0.052896  49996800    0.056191   \n3        0.052896    0.053329    0.052896    0.052896  61129600    0.055367   \n4        0.057232    0.057665    0.057232    0.057232  45046400    0.054934   \n...           ...         ...         ...         ...       ...         ...   \n10446  153.789993  156.300003  153.460007  153.830002  87558000  148.491000   \n10447  153.699997  154.029999  151.130005  151.600006  56182000  148.803001   \n10448  152.809998  153.470001  151.830002  152.869995  47204800  149.199001   \n10449  153.559998  154.539993  150.229996  150.589996  53833600  149.318001   \n10450  150.210007  150.940002  147.610001  148.500000  68524400  149.497000   \n\n             MA20        MA50       MA100       MA200  ...       BBmid  \\\n0        0.064256    0.073569    0.086697    0.091779  ...    0.064256   \n1        0.063388    0.072944    0.086259    0.091542  ...    0.063388   \n2        0.062326    0.072337    0.085817    0.091334  ...    0.062326   \n3        0.061199    0.071826    0.085396    0.091161  ...    0.061199   \n4        0.060483    0.071357    0.085019    0.090998  ...    0.060483   \n...           ...         ...         ...         ...  ...         ...   \n10446  150.640067  141.761182  143.000702  146.823159  ...  150.640067   \n10447  150.645132  142.088312  143.131319  146.880270  ...  150.645132   \n10448  150.567921  142.505144  143.281016  146.961002  ...  150.567921   \n10449  150.513000  142.883764  143.361560  147.029140  ...  150.513000   \n10450  150.406001  143.257128  143.467158  147.059353  ...  150.406001   \n\n            BBlow      MACD   MACDsig  MACDdiff        ROC        KAMA  \\\n0        0.050029 -0.006020 -0.004922 -0.001098 -27.673345    0.053552   \n1        0.048521 -0.006071 -0.005152 -0.000919 -22.930674    0.053355   \n2        0.047649 -0.006007 -0.005323 -0.000684 -19.736803    0.053286   \n3        0.047280 -0.005889 -0.005436 -0.000453 -17.567692    0.053236   \n4        0.047314 -0.005383 -0.005425  0.000042  -8.964926    0.053380   \n...           ...       ...       ...       ...        ...         ...   \n10446  144.779566  1.460911  1.910799 -0.449888  -0.965686  148.666778   \n10447  144.781497  1.524348  1.833508 -0.309161  -1.372715  148.749423   \n10448  144.866416  1.657987  1.798404 -0.140417   0.209762  148.897996   \n10449  144.834612  1.561916  1.751106 -0.189191   1.421067  148.914562   \n10450  144.660959  1.302123  1.661310 -0.359187  -0.275337  148.908805   \n\n                OBX      STOCH   STOCHsig  \n0         -87180800   2.173856   0.724619  \n1           7504000  15.216262   5.796706  \n2          57500800  18.180428  11.856848  \n3         118630400  20.512045  17.969578  \n4         163676800  51.431175  30.041216  \n...             ...        ...        ...  \n10446  224730377800  79.887382  51.139744  \n10447  224674195800  61.946961  66.398523  \n10448  224721400600  72.164083  71.332809  \n10449  224667567000  53.951593  62.687546  \n10450  224599042600  37.096796  54.404157  \n\n[10451 rows x 22 columns]",
      "text/html": "<div>\n<style scoped>\n    .dataframe tbody tr th:only-of-type {\n        vertical-align: middle;\n    }\n\n    .dataframe tbody tr th {\n        vertical-align: top;\n    }\n\n    .dataframe thead th {\n        text-align: right;\n    }\n</style>\n<table border=\"1\" class=\"dataframe\">\n  <thead>\n    <tr style=\"text-align: right;\">\n      <th></th>\n      <th>Open</th>\n      <th>High</th>\n      <th>Low</th>\n      <th>Close</th>\n      <th>Volume</th>\n      <th>MA10</th>\n      <th>MA20</th>\n      <th>MA50</th>\n      <th>MA100</th>\n      <th>MA200</th>\n      <th>...</th>\n      <th>BBmid</th>\n      <th>BBlow</th>\n      <th>MACD</th>\n      <th>MACDsig</th>\n      <th>MACDdiff</th>\n      <th>ROC</th>\n      <th>KAMA</th>\n      <th>OBX</th>\n      <th>STOCH</th>\n      <th>STOCHsig</th>\n    </tr>\n  </thead>\n  <tbody>\n    <tr>\n      <th>0</th>\n      <td>0.049861</td>\n      <td>0.050294</td>\n      <td>0.049861</td>\n      <td>0.049861</td>\n      <td>91728000</td>\n      <td>0.058359</td>\n      <td>0.064256</td>\n      <td>0.073569</td>\n      <td>0.086697</td>\n      <td>0.091779</td>\n      <td>...</td>\n      <td>0.064256</td>\n      <td>0.050029</td>\n      <td>-0.006020</td>\n      <td>-0.004922</td>\n      <td>-0.001098</td>\n      <td>-27.673345</td>\n      <td>0.053552</td>\n      <td>-87180800</td>\n      <td>2.173856</td>\n      <td>0.724619</td>\n    </tr>\n    <tr>\n      <th>1</th>\n      <td>0.052462</td>\n      <td>0.052896</td>\n      <td>0.052462</td>\n      <td>0.052462</td>\n      <td>94684800</td>\n      <td>0.057188</td>\n      <td>0.063388</td>\n      <td>0.072944</td>\n      <td>0.086259</td>\n      <td>0.091542</td>\n      <td>...</td>\n      <td>0.063388</td>\n      <td>0.048521</td>\n      <td>-0.006071</td>\n      <td>-0.005152</td>\n      <td>-0.000919</td>\n      <td>-22.930674</td>\n      <td>0.053355</td>\n      <td>7504000</td>\n      <td>15.216262</td>\n      <td>5.796706</td>\n    </tr>\n    <tr>\n      <th>2</th>\n      <td>0.052896</td>\n      <td>0.053329</td>\n      <td>0.052896</td>\n      <td>0.052896</td>\n      <td>49996800</td>\n      <td>0.056191</td>\n      <td>0.062326</td>\n      <td>0.072337</td>\n      <td>0.085817</td>\n      <td>0.091334</td>\n      <td>...</td>\n      <td>0.062326</td>\n      <td>0.047649</td>\n      <td>-0.006007</td>\n      <td>-0.005323</td>\n      <td>-0.000684</td>\n      <td>-19.736803</td>\n      <td>0.053286</td>\n      <td>57500800</td>\n      <td>18.180428</td>\n      <td>11.856848</td>\n    </tr>\n    <tr>\n      <th>3</th>\n      <td>0.052896</td>\n      <td>0.053329</td>\n      <td>0.052896</td>\n      <td>0.052896</td>\n      <td>61129600</td>\n      <td>0.055367</td>\n      <td>0.061199</td>\n      <td>0.071826</td>\n      <td>0.085396</td>\n      <td>0.091161</td>\n      <td>...</td>\n      <td>0.061199</td>\n      <td>0.047280</td>\n      <td>-0.005889</td>\n      <td>-0.005436</td>\n      <td>-0.000453</td>\n      <td>-17.567692</td>\n      <td>0.053236</td>\n      <td>118630400</td>\n      <td>20.512045</td>\n      <td>17.969578</td>\n    </tr>\n    <tr>\n      <th>4</th>\n      <td>0.057232</td>\n      <td>0.057665</td>\n      <td>0.057232</td>\n      <td>0.057232</td>\n      <td>45046400</td>\n      <td>0.054934</td>\n      <td>0.060483</td>\n      <td>0.071357</td>\n      <td>0.085019</td>\n      <td>0.090998</td>\n      <td>...</td>\n      <td>0.060483</td>\n      <td>0.047314</td>\n      <td>-0.005383</td>\n      <td>-0.005425</td>\n      <td>0.000042</td>\n      <td>-8.964926</td>\n      <td>0.053380</td>\n      <td>163676800</td>\n      <td>51.431175</td>\n      <td>30.041216</td>\n    </tr>\n    <tr>\n      <th>...</th>\n      <td>...</td>\n      <td>...</td>\n      <td>...</td>\n      <td>...</td>\n      <td>...</td>\n      <td>...</td>\n      <td>...</td>\n      <td>...</td>\n      <td>...</td>\n      <td>...</td>\n      <td>...</td>\n      <td>...</td>\n      <td>...</td>\n      <td>...</td>\n      <td>...</td>\n      <td>...</td>\n      <td>...</td>\n      <td>...</td>\n      <td>...</td>\n      <td>...</td>\n      <td>...</td>\n    </tr>\n    <tr>\n      <th>10446</th>\n      <td>153.789993</td>\n      <td>156.300003</td>\n      <td>153.460007</td>\n      <td>153.830002</td>\n      <td>87558000</td>\n      <td>148.491000</td>\n      <td>150.640067</td>\n      <td>141.761182</td>\n      <td>143.000702</td>\n      <td>146.823159</td>\n      <td>...</td>\n      <td>150.640067</td>\n      <td>144.779566</td>\n      <td>1.460911</td>\n      <td>1.910799</td>\n      <td>-0.449888</td>\n      <td>-0.965686</td>\n      <td>148.666778</td>\n      <td>224730377800</td>\n      <td>79.887382</td>\n      <td>51.139744</td>\n    </tr>\n    <tr>\n      <th>10447</th>\n      <td>153.699997</td>\n      <td>154.029999</td>\n      <td>151.130005</td>\n      <td>151.600006</td>\n      <td>56182000</td>\n      <td>148.803001</td>\n      <td>150.645132</td>\n      <td>142.088312</td>\n      <td>143.131319</td>\n      <td>146.880270</td>\n      <td>...</td>\n      <td>150.645132</td>\n      <td>144.781497</td>\n      <td>1.524348</td>\n      <td>1.833508</td>\n      <td>-0.309161</td>\n      <td>-1.372715</td>\n      <td>148.749423</td>\n      <td>224674195800</td>\n      <td>61.946961</td>\n      <td>66.398523</td>\n    </tr>\n    <tr>\n      <th>10448</th>\n      <td>152.809998</td>\n      <td>153.470001</td>\n      <td>151.830002</td>\n      <td>152.869995</td>\n      <td>47204800</td>\n      <td>149.199001</td>\n      <td>150.567921</td>\n      <td>142.505144</td>\n      <td>143.281016</td>\n      <td>146.961002</td>\n      <td>...</td>\n      <td>150.567921</td>\n      <td>144.866416</td>\n      <td>1.657987</td>\n      <td>1.798404</td>\n      <td>-0.140417</td>\n      <td>0.209762</td>\n      <td>148.897996</td>\n      <td>224721400600</td>\n      <td>72.164083</td>\n      <td>71.332809</td>\n    </tr>\n    <tr>\n      <th>10449</th>\n      <td>153.559998</td>\n      <td>154.539993</td>\n      <td>150.229996</td>\n      <td>150.589996</td>\n      <td>53833600</td>\n      <td>149.318001</td>\n      <td>150.513000</td>\n      <td>142.883764</td>\n      <td>143.361560</td>\n      <td>147.029140</td>\n      <td>...</td>\n      <td>150.513000</td>\n      <td>144.834612</td>\n      <td>1.561916</td>\n      <td>1.751106</td>\n      <td>-0.189191</td>\n      <td>1.421067</td>\n      <td>148.914562</td>\n      <td>224667567000</td>\n      <td>53.951593</td>\n      <td>62.687546</td>\n    </tr>\n    <tr>\n      <th>10450</th>\n      <td>150.210007</td>\n      <td>150.940002</td>\n      <td>147.610001</td>\n      <td>148.500000</td>\n      <td>68524400</td>\n      <td>149.497000</td>\n      <td>150.406001</td>\n      <td>143.257128</td>\n      <td>143.467158</td>\n      <td>147.059353</td>\n      <td>...</td>\n      <td>150.406001</td>\n      <td>144.660959</td>\n      <td>1.302123</td>\n      <td>1.661310</td>\n      <td>-0.359187</td>\n      <td>-0.275337</td>\n      <td>148.908805</td>\n      <td>224599042600</td>\n      <td>37.096796</td>\n      <td>54.404157</td>\n    </tr>\n  </tbody>\n</table>\n<p>10451 rows × 22 columns</p>\n</div>"
     },
     "execution_count": 10,
     "metadata": {},
     "output_type": "execute_result"
    }
   ],
   "source": [
    "allData[0]"
   ],
   "metadata": {
    "collapsed": false
   }
  }
 ],
 "metadata": {
  "kernelspec": {
   "display_name": "Python 3",
   "language": "python",
   "name": "python3"
  },
  "language_info": {
   "codemirror_mode": {
    "name": "ipython",
    "version": 2
   },
   "file_extension": ".py",
   "mimetype": "text/x-python",
   "name": "python",
   "nbconvert_exporter": "python",
   "pygments_lexer": "ipython2",
   "version": "2.7.6"
  }
 },
 "nbformat": 4,
 "nbformat_minor": 0
}
