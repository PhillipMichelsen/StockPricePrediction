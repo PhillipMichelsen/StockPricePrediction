{
 "cells": [
  {
   "cell_type": "code",
   "execution_count": 1,
   "metadata": {
    "collapsed": true
   },
   "outputs": [],
   "source": [
    "%reset\n",
    "import os\n",
    "import datetime\n",
    "\n",
    "import pandas as pd\n",
    "import matplotlib.pyplot as plt\n",
    "import numpy as np\n",
    "\n",
    "import ta\n",
    "\n",
    "RawStockDataDirectory = 'Data/Raw/Stock/'\n",
    "ProcessedStockDataDirectory = 'Data/Processed/'"
   ]
  },
  {
   "cell_type": "code",
   "execution_count": 2,
   "outputs": [],
   "source": [
    "allData = list()\n",
    "\n",
    "for stockData in os.listdir(RawStockDataDirectory):\n",
    "    allData.append(pd.read_csv(RawStockDataDirectory + stockData, usecols=[1,2,3,4,5]))"
   ],
   "metadata": {
    "collapsed": false
   }
  },
  {
   "cell_type": "code",
   "execution_count": 3,
   "outputs": [
    {
     "data": {
      "text/plain": "            Open        High         Low       Close    Volume\n0       0.000000    0.453585    0.444327    0.444327  14728800\n1       0.444327    0.453585    0.444327    0.444327   6511200\n2       0.462841    0.472098    0.462841    0.462841   2380800\n3       0.462841    0.472098    0.462841    0.462841   1317600\n4       0.472098    0.481355    0.472098    0.472098   1128000\n...          ...         ...         ...         ...       ...\n9496  208.000000  211.119995  206.970001  208.330002   1299100\n9497  209.000000  211.509995  205.070007  205.479996   1209800\n9498  205.839996  207.580002  203.070007  204.509995   1012300\n9499  205.710007  208.750000  199.899994  200.490005   1439700\n9500  201.110001  201.369995  193.119995  194.020004   1341200\n\n[9501 rows x 5 columns]",
      "text/html": "<div>\n<style scoped>\n    .dataframe tbody tr th:only-of-type {\n        vertical-align: middle;\n    }\n\n    .dataframe tbody tr th {\n        vertical-align: top;\n    }\n\n    .dataframe thead th {\n        text-align: right;\n    }\n</style>\n<table border=\"1\" class=\"dataframe\">\n  <thead>\n    <tr style=\"text-align: right;\">\n      <th></th>\n      <th>Open</th>\n      <th>High</th>\n      <th>Low</th>\n      <th>Close</th>\n      <th>Volume</th>\n    </tr>\n  </thead>\n  <tbody>\n    <tr>\n      <th>0</th>\n      <td>0.000000</td>\n      <td>0.453585</td>\n      <td>0.444327</td>\n      <td>0.444327</td>\n      <td>14728800</td>\n    </tr>\n    <tr>\n      <th>1</th>\n      <td>0.444327</td>\n      <td>0.453585</td>\n      <td>0.444327</td>\n      <td>0.444327</td>\n      <td>6511200</td>\n    </tr>\n    <tr>\n      <th>2</th>\n      <td>0.462841</td>\n      <td>0.472098</td>\n      <td>0.462841</td>\n      <td>0.462841</td>\n      <td>2380800</td>\n    </tr>\n    <tr>\n      <th>3</th>\n      <td>0.462841</td>\n      <td>0.472098</td>\n      <td>0.462841</td>\n      <td>0.462841</td>\n      <td>1317600</td>\n    </tr>\n    <tr>\n      <th>4</th>\n      <td>0.472098</td>\n      <td>0.481355</td>\n      <td>0.472098</td>\n      <td>0.472098</td>\n      <td>1128000</td>\n    </tr>\n    <tr>\n      <th>...</th>\n      <td>...</td>\n      <td>...</td>\n      <td>...</td>\n      <td>...</td>\n      <td>...</td>\n    </tr>\n    <tr>\n      <th>9496</th>\n      <td>208.000000</td>\n      <td>211.119995</td>\n      <td>206.970001</td>\n      <td>208.330002</td>\n      <td>1299100</td>\n    </tr>\n    <tr>\n      <th>9497</th>\n      <td>209.000000</td>\n      <td>211.509995</td>\n      <td>205.070007</td>\n      <td>205.479996</td>\n      <td>1209800</td>\n    </tr>\n    <tr>\n      <th>9498</th>\n      <td>205.839996</td>\n      <td>207.580002</td>\n      <td>203.070007</td>\n      <td>204.509995</td>\n      <td>1012300</td>\n    </tr>\n    <tr>\n      <th>9499</th>\n      <td>205.710007</td>\n      <td>208.750000</td>\n      <td>199.899994</td>\n      <td>200.490005</td>\n      <td>1439700</td>\n    </tr>\n    <tr>\n      <th>9500</th>\n      <td>201.110001</td>\n      <td>201.369995</td>\n      <td>193.119995</td>\n      <td>194.020004</td>\n      <td>1341200</td>\n    </tr>\n  </tbody>\n</table>\n<p>9501 rows × 5 columns</p>\n</div>"
     },
     "execution_count": 3,
     "metadata": {},
     "output_type": "execute_result"
    }
   ],
   "source": [
    "allData[0]"
   ],
   "metadata": {
    "collapsed": false
   }
  },
  {
   "cell_type": "code",
   "execution_count": 4,
   "outputs": [],
   "source": [
    "count = 1\n",
    "for stock in allData:\n",
    "    # Calculate moving averages\n",
    "    stock['MA10'] = stock['Close'].rolling(window=10).mean()\n",
    "    stock['MA20'] = stock['Close'].rolling(window=20).mean()\n",
    "    stock['MA50'] = stock['Close'].rolling(window=50).mean()\n",
    "    stock['MA100'] = stock['Close'].rolling(window=100).mean()\n",
    "    stock['MA200'] = stock['Close'].rolling(window=200).mean()\n",
    "\n",
    "    # Calculate RSI\n",
    "    stock['RSI'] = ta.momentum.rsi(stock['Close'], window=14)\n",
    "\n",
    "    # Calculate Bollinger Bands\n",
    "    BB = ta.volatility.BollingerBands(stock['Close'])\n",
    "    stock['BBup'], stock['BBmid'], stock['BBlow'] = BB.bollinger_hband(), BB.bollinger_mavg(), BB.bollinger_lband()\n",
    "\n",
    "    # Calculate MACD\n",
    "    MACD = ta.trend.MACD(stock['Close'])\n",
    "    stock['MACD'], stock['MACDsig'], stock['MACDdiff'] = MACD.macd(), MACD.macd_signal(), MACD.macd_diff()\n",
    "\n",
    "    # Calculate ROC\n",
    "    stock['ROC'] = ta.momentum.ROCIndicator(stock['Close']).roc()\n",
    "\n",
    "    # Calculate KAMA\n",
    "    stock['KAMA'] = ta.momentum.kama(stock['Close'])\n",
    "\n",
    "    # Calculate OBV\n",
    "    stock['OBX'] = ta.volume.OnBalanceVolumeIndicator(close=stock['Close'], volume=stock['Volume']).on_balance_volume()\n",
    "\n",
    "    # Calculate STOCH\n",
    "    STOCH = ta.momentum.StochasticOscillator(close=stock['Close'], high=stock['High'], low=stock['Low'])\n",
    "    stock['STOCH'] = STOCH.stoch()\n",
    "    stock['STOCHsig'] = STOCH.stoch_signal()\n",
    "\n",
    "    stock.dropna(inplace=True)\n",
    "    stock.reset_index(drop=True, inplace=True)\n",
    "\n",
    "    stock.to_csv(ProcessedStockDataDirectory + \"Processed_\" + str(count))\n",
    "    count += 1"
   ],
   "metadata": {
    "collapsed": false
   }
  },
  {
   "cell_type": "code",
   "execution_count": 5,
   "outputs": [
    {
     "data": {
      "text/plain": "            Open        High         Low       Close   Volume        MA10  \\\n0       0.971966    0.971966    0.962709    0.971966    93600    0.934939   \n1       0.971966    1.018250    0.971966    1.018250   691200    0.945121   \n2       1.018250    1.055278    1.018250    1.032135   324000    0.956692   \n3       1.032135    1.133960    1.032135    1.101561  2656800    0.977057   \n4       1.101561    1.110818    1.101561    1.101561   456000    0.999273   \n...          ...         ...         ...         ...      ...         ...   \n9297  208.000000  211.119995  206.970001  208.330002  1299100  205.461002   \n9298  209.000000  211.509995  205.070007  205.479996  1209800  204.454001   \n9299  205.839996  207.580002  203.070007  204.509995  1012300  203.235001   \n9300  205.710007  208.750000  199.899994  200.490005  1439700  201.168001   \n9301  201.110001  201.369995  193.119995  194.020004  1341200  201.317001   \n\n            MA20        MA50       MA100       MA200  ...       BBmid  \\\n0       0.953916    0.985944    0.915962    0.731891  ...    0.953916   \n1       0.954378    0.987981    0.919573    0.734760  ...    0.954378   \n2       0.955535    0.990295    0.923044    0.737699  ...    0.955535   \n3       0.959701    0.993997    0.926839    0.740893  ...    0.959701   \n4       0.965023    0.997700    0.930634    0.744086  ...    0.965023   \n...          ...         ...         ...         ...  ...         ...   \n9297  214.440000  205.356000  204.102400  200.866400  ...  214.440000   \n9298  213.797000  205.621000  204.246900  200.953900  ...  213.797000   \n9299  212.840000  205.949200  204.355600  201.007850  ...  212.840000   \n9300  211.798500  206.195800  204.422000  201.053250  ...  211.798500   \n9301  210.267001  206.350400  204.464100  201.105800  ...  210.267001   \n\n           BBlow      MACD   MACDsig  MACDdiff        ROC        KAMA  \\\n0       0.878207 -0.008528 -0.014172  0.005644   1.941681    0.919770   \n1       0.877229 -0.002573 -0.011852  0.009279   8.910886    0.936578   \n2       0.874546  0.003229 -0.008836  0.012065  12.060246    0.954385   \n3       0.859862  0.013276 -0.004414  0.017690  20.201885    1.002880   \n4       0.848282  0.020997  0.000668  0.020328  20.201885    1.046738   \n...          ...       ...       ...       ...        ...         ...   \n9297  191.670252 -2.135909 -0.147563 -1.988345  -9.137298  206.950883   \n9298  190.779138 -2.146318 -0.547314 -1.599004  -7.495615  206.908398   \n9299  189.949129 -2.207394 -0.879330 -1.328063  -7.032458  206.819476   \n9300  188.651676 -2.550772 -1.213619 -1.337153  -6.986777  206.311490   \n9301  186.675131 -3.306858 -1.632266 -1.674591 -10.466079  206.211153   \n\n             OBX       STOCH   STOCHsig  \n0      101008800   99.999500  91.110638  \n1      101700000  100.000000  99.999666  \n2      102024000   88.095086  96.031529  \n3      104680800   88.135375  92.076820  \n4      105136800   88.135375  88.121945  \n...          ...         ...        ...  \n9297  1393633300   44.576404  37.476913  \n9298  1392423500   37.064391  41.307031  \n9299  1391411200   38.497771  40.046189  \n9300  1389971500   30.056469  35.206211  \n9301  1388630300    8.568588  25.707609  \n\n[9302 rows x 22 columns]",
      "text/html": "<div>\n<style scoped>\n    .dataframe tbody tr th:only-of-type {\n        vertical-align: middle;\n    }\n\n    .dataframe tbody tr th {\n        vertical-align: top;\n    }\n\n    .dataframe thead th {\n        text-align: right;\n    }\n</style>\n<table border=\"1\" class=\"dataframe\">\n  <thead>\n    <tr style=\"text-align: right;\">\n      <th></th>\n      <th>Open</th>\n      <th>High</th>\n      <th>Low</th>\n      <th>Close</th>\n      <th>Volume</th>\n      <th>MA10</th>\n      <th>MA20</th>\n      <th>MA50</th>\n      <th>MA100</th>\n      <th>MA200</th>\n      <th>...</th>\n      <th>BBmid</th>\n      <th>BBlow</th>\n      <th>MACD</th>\n      <th>MACDsig</th>\n      <th>MACDdiff</th>\n      <th>ROC</th>\n      <th>KAMA</th>\n      <th>OBX</th>\n      <th>STOCH</th>\n      <th>STOCHsig</th>\n    </tr>\n  </thead>\n  <tbody>\n    <tr>\n      <th>0</th>\n      <td>0.971966</td>\n      <td>0.971966</td>\n      <td>0.962709</td>\n      <td>0.971966</td>\n      <td>93600</td>\n      <td>0.934939</td>\n      <td>0.953916</td>\n      <td>0.985944</td>\n      <td>0.915962</td>\n      <td>0.731891</td>\n      <td>...</td>\n      <td>0.953916</td>\n      <td>0.878207</td>\n      <td>-0.008528</td>\n      <td>-0.014172</td>\n      <td>0.005644</td>\n      <td>1.941681</td>\n      <td>0.919770</td>\n      <td>101008800</td>\n      <td>99.999500</td>\n      <td>91.110638</td>\n    </tr>\n    <tr>\n      <th>1</th>\n      <td>0.971966</td>\n      <td>1.018250</td>\n      <td>0.971966</td>\n      <td>1.018250</td>\n      <td>691200</td>\n      <td>0.945121</td>\n      <td>0.954378</td>\n      <td>0.987981</td>\n      <td>0.919573</td>\n      <td>0.734760</td>\n      <td>...</td>\n      <td>0.954378</td>\n      <td>0.877229</td>\n      <td>-0.002573</td>\n      <td>-0.011852</td>\n      <td>0.009279</td>\n      <td>8.910886</td>\n      <td>0.936578</td>\n      <td>101700000</td>\n      <td>100.000000</td>\n      <td>99.999666</td>\n    </tr>\n    <tr>\n      <th>2</th>\n      <td>1.018250</td>\n      <td>1.055278</td>\n      <td>1.018250</td>\n      <td>1.032135</td>\n      <td>324000</td>\n      <td>0.956692</td>\n      <td>0.955535</td>\n      <td>0.990295</td>\n      <td>0.923044</td>\n      <td>0.737699</td>\n      <td>...</td>\n      <td>0.955535</td>\n      <td>0.874546</td>\n      <td>0.003229</td>\n      <td>-0.008836</td>\n      <td>0.012065</td>\n      <td>12.060246</td>\n      <td>0.954385</td>\n      <td>102024000</td>\n      <td>88.095086</td>\n      <td>96.031529</td>\n    </tr>\n    <tr>\n      <th>3</th>\n      <td>1.032135</td>\n      <td>1.133960</td>\n      <td>1.032135</td>\n      <td>1.101561</td>\n      <td>2656800</td>\n      <td>0.977057</td>\n      <td>0.959701</td>\n      <td>0.993997</td>\n      <td>0.926839</td>\n      <td>0.740893</td>\n      <td>...</td>\n      <td>0.959701</td>\n      <td>0.859862</td>\n      <td>0.013276</td>\n      <td>-0.004414</td>\n      <td>0.017690</td>\n      <td>20.201885</td>\n      <td>1.002880</td>\n      <td>104680800</td>\n      <td>88.135375</td>\n      <td>92.076820</td>\n    </tr>\n    <tr>\n      <th>4</th>\n      <td>1.101561</td>\n      <td>1.110818</td>\n      <td>1.101561</td>\n      <td>1.101561</td>\n      <td>456000</td>\n      <td>0.999273</td>\n      <td>0.965023</td>\n      <td>0.997700</td>\n      <td>0.930634</td>\n      <td>0.744086</td>\n      <td>...</td>\n      <td>0.965023</td>\n      <td>0.848282</td>\n      <td>0.020997</td>\n      <td>0.000668</td>\n      <td>0.020328</td>\n      <td>20.201885</td>\n      <td>1.046738</td>\n      <td>105136800</td>\n      <td>88.135375</td>\n      <td>88.121945</td>\n    </tr>\n    <tr>\n      <th>...</th>\n      <td>...</td>\n      <td>...</td>\n      <td>...</td>\n      <td>...</td>\n      <td>...</td>\n      <td>...</td>\n      <td>...</td>\n      <td>...</td>\n      <td>...</td>\n      <td>...</td>\n      <td>...</td>\n      <td>...</td>\n      <td>...</td>\n      <td>...</td>\n      <td>...</td>\n      <td>...</td>\n      <td>...</td>\n      <td>...</td>\n      <td>...</td>\n      <td>...</td>\n      <td>...</td>\n    </tr>\n    <tr>\n      <th>9297</th>\n      <td>208.000000</td>\n      <td>211.119995</td>\n      <td>206.970001</td>\n      <td>208.330002</td>\n      <td>1299100</td>\n      <td>205.461002</td>\n      <td>214.440000</td>\n      <td>205.356000</td>\n      <td>204.102400</td>\n      <td>200.866400</td>\n      <td>...</td>\n      <td>214.440000</td>\n      <td>191.670252</td>\n      <td>-2.135909</td>\n      <td>-0.147563</td>\n      <td>-1.988345</td>\n      <td>-9.137298</td>\n      <td>206.950883</td>\n      <td>1393633300</td>\n      <td>44.576404</td>\n      <td>37.476913</td>\n    </tr>\n    <tr>\n      <th>9298</th>\n      <td>209.000000</td>\n      <td>211.509995</td>\n      <td>205.070007</td>\n      <td>205.479996</td>\n      <td>1209800</td>\n      <td>204.454001</td>\n      <td>213.797000</td>\n      <td>205.621000</td>\n      <td>204.246900</td>\n      <td>200.953900</td>\n      <td>...</td>\n      <td>213.797000</td>\n      <td>190.779138</td>\n      <td>-2.146318</td>\n      <td>-0.547314</td>\n      <td>-1.599004</td>\n      <td>-7.495615</td>\n      <td>206.908398</td>\n      <td>1392423500</td>\n      <td>37.064391</td>\n      <td>41.307031</td>\n    </tr>\n    <tr>\n      <th>9299</th>\n      <td>205.839996</td>\n      <td>207.580002</td>\n      <td>203.070007</td>\n      <td>204.509995</td>\n      <td>1012300</td>\n      <td>203.235001</td>\n      <td>212.840000</td>\n      <td>205.949200</td>\n      <td>204.355600</td>\n      <td>201.007850</td>\n      <td>...</td>\n      <td>212.840000</td>\n      <td>189.949129</td>\n      <td>-2.207394</td>\n      <td>-0.879330</td>\n      <td>-1.328063</td>\n      <td>-7.032458</td>\n      <td>206.819476</td>\n      <td>1391411200</td>\n      <td>38.497771</td>\n      <td>40.046189</td>\n    </tr>\n    <tr>\n      <th>9300</th>\n      <td>205.710007</td>\n      <td>208.750000</td>\n      <td>199.899994</td>\n      <td>200.490005</td>\n      <td>1439700</td>\n      <td>201.168001</td>\n      <td>211.798500</td>\n      <td>206.195800</td>\n      <td>204.422000</td>\n      <td>201.053250</td>\n      <td>...</td>\n      <td>211.798500</td>\n      <td>188.651676</td>\n      <td>-2.550772</td>\n      <td>-1.213619</td>\n      <td>-1.337153</td>\n      <td>-6.986777</td>\n      <td>206.311490</td>\n      <td>1389971500</td>\n      <td>30.056469</td>\n      <td>35.206211</td>\n    </tr>\n    <tr>\n      <th>9301</th>\n      <td>201.110001</td>\n      <td>201.369995</td>\n      <td>193.119995</td>\n      <td>194.020004</td>\n      <td>1341200</td>\n      <td>201.317001</td>\n      <td>210.267001</td>\n      <td>206.350400</td>\n      <td>204.464100</td>\n      <td>201.105800</td>\n      <td>...</td>\n      <td>210.267001</td>\n      <td>186.675131</td>\n      <td>-3.306858</td>\n      <td>-1.632266</td>\n      <td>-1.674591</td>\n      <td>-10.466079</td>\n      <td>206.211153</td>\n      <td>1388630300</td>\n      <td>8.568588</td>\n      <td>25.707609</td>\n    </tr>\n  </tbody>\n</table>\n<p>9302 rows × 22 columns</p>\n</div>"
     },
     "execution_count": 5,
     "metadata": {},
     "output_type": "execute_result"
    }
   ],
   "source": [
    "allData[0]"
   ],
   "metadata": {
    "collapsed": false
   }
  }
 ],
 "metadata": {
  "kernelspec": {
   "display_name": "Python 3",
   "language": "python",
   "name": "python3"
  },
  "language_info": {
   "codemirror_mode": {
    "name": "ipython",
    "version": 2
   },
   "file_extension": ".py",
   "mimetype": "text/x-python",
   "name": "python",
   "nbconvert_exporter": "python",
   "pygments_lexer": "ipython2",
   "version": "2.7.6"
  }
 },
 "nbformat": 4,
 "nbformat_minor": 0
}
