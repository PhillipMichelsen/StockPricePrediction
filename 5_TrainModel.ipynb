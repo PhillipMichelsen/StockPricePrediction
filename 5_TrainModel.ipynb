{
 "cells": [
  {
   "cell_type": "code",
   "execution_count": 37,
   "metadata": {
    "collapsed": true
   },
   "outputs": [
    {
     "name": "stdout",
     "output_type": "stream",
     "text": [
      "env: HSA_OVERRIDE_GFX_VERSION=10.3.0\n"
     ]
    }
   ],
   "source": [
    "%reset\n",
    "%env HSA_OVERRIDE_GFX_VERSION=10.3.0"
   ]
  },
  {
   "cell_type": "code",
   "execution_count": 38,
   "outputs": [],
   "source": [
    "import os\n",
    "import time\n",
    "import warnings\n",
    "\n",
    "import torch\n",
    "from torch.utils.data import Dataset, DataLoader\n",
    "from torch import nn\n",
    "from torchinfo import summary\n",
    "from Classes import StockData, LSTM\n",
    "\n",
    "import matplotlib.pyplot as plt\n",
    "\n",
    "# Parameters\n",
    "TRAIN_DATASET_DIRECTORY = 'StockData/Datasets/DS5.4_FOREX.pt'\n",
    "TEST_DATASET_DIRECTORY = 'StockData/Datasets/DS5.5_FOREX_TEST.pt'\n",
    "DATASET_SPLIT = [0.7,0.3]\n",
    "NUM_EPOCHS = 50\n",
    "\n",
    "MODEL_DIRECTORY = 'Models/I(90,22)_O(14,1)_128HS_5L_64B'\n",
    "MODEL_VERSION = 'BASE.pt'\n",
    "MODEL_SAVE_NAME = '[DS5.1_FOREX-DS5.5].pt'"
   ],
   "metadata": {
    "collapsed": false
   }
  },
  {
   "cell_type": "code",
   "execution_count": 39,
   "outputs": [],
   "source": [
    "model_parameters = MODEL_DIRECTORY[7:].split('_')\n",
    "\n",
    "INPUT_LENGTH = int(model_parameters[0][2:-1].split(',')[0])\n",
    "INPUT_FEATURES = int(model_parameters[0][2:-1].split(',')[1])\n",
    "OUTPUT_LENGTH = int(model_parameters[1][2:-1].split(',')[0])\n",
    "OUTPUT_FEATURES = int(model_parameters[1][2:-1].split(',')[1])\n",
    "\n",
    "MODEL_HIDDEN_SIZE = int(model_parameters[2][:-2])\n",
    "MODEL_NUM_LAYERS = int(model_parameters[3][:-1])\n",
    "BATCH_SIZE = int(model_parameters[4][:-1])"
   ],
   "metadata": {
    "collapsed": false
   }
  },
  {
   "cell_type": "code",
   "execution_count": 40,
   "outputs": [
    {
     "name": "stdout",
     "output_type": "stream",
     "text": [
      "Model parameters as follows:\n",
      "Input shape - (90,22)\n",
      "Output shape - (14,1)\n",
      "----------------------------------\n",
      "Hidden size - 128\n",
      "Number of layers - 5\n",
      "Batch size - 64\n"
     ]
    }
   ],
   "source": [
    "print('Model parameters as follows:')\n",
    "print(f'Input shape - ({INPUT_LENGTH},{INPUT_FEATURES})')\n",
    "print(f'Output shape - ({OUTPUT_LENGTH},{OUTPUT_FEATURES})')\n",
    "print('----------------------------------')\n",
    "print(f'Hidden size - {MODEL_HIDDEN_SIZE}')\n",
    "print(f'Number of layers - {MODEL_NUM_LAYERS}')\n",
    "print(f'Batch size - {BATCH_SIZE}')"
   ],
   "metadata": {
    "collapsed": false
   }
  },
  {
   "cell_type": "code",
   "execution_count": 41,
   "outputs": [],
   "source": [
    "torch.cuda.is_available()\n",
    "device = torch.device('cuda')"
   ],
   "metadata": {
    "collapsed": false
   }
  },
  {
   "cell_type": "code",
   "execution_count": 42,
   "outputs": [
    {
     "data": {
      "text/plain": "LSTM(\n  (lstm): LSTM(22, 128, num_layers=5, dropout=0.2)\n  (fc): Linear(in_features=128, out_features=14, bias=True)\n  (dropout): Dropout(p=0.2, inplace=False)\n)"
     },
     "execution_count": 42,
     "metadata": {},
     "output_type": "execute_result"
    }
   ],
   "source": [
    "model = LSTM(INPUT_FEATURES,MODEL_HIDDEN_SIZE,MODEL_NUM_LAYERS,OUTPUT_LENGTH)\n",
    "model.load_state_dict(torch.load(f'{MODEL_DIRECTORY}/{MODEL_VERSION}'))\n",
    "model.to(device)"
   ],
   "metadata": {
    "collapsed": false
   }
  },
  {
   "cell_type": "code",
   "execution_count": 43,
   "outputs": [],
   "source": [
    "main_dataset = torch.load(TRAIN_DATASET_DIRECTORY)\n",
    "train_dataset = torch.load(TEST_DATASET_DIRECTORY)\n",
    "\n",
    "train_dataset, validation_dataset = torch.utils.data.random_split(main_dataset, DATASET_SPLIT)"
   ],
   "metadata": {
    "collapsed": false
   }
  },
  {
   "cell_type": "code",
   "execution_count": 44,
   "outputs": [],
   "source": [
    "train_dataloader = DataLoader(train_dataset, batch_size=BATCH_SIZE,shuffle=True, drop_last=True)\n",
    "validation_dataloader = DataLoader(validation_dataset, batch_size=BATCH_SIZE,shuffle=False, drop_last=True)"
   ],
   "metadata": {
    "collapsed": false
   }
  },
  {
   "cell_type": "code",
   "execution_count": 45,
   "outputs": [],
   "source": [
    "criterion = nn.MSELoss()\n",
    "optimizer = torch.optim.Adam(model.parameters())\n",
    "\n",
    "train_losses = []\n",
    "test_losses = []\n",
    "epoch_times = []"
   ],
   "metadata": {
    "collapsed": false
   }
  },
  {
   "cell_type": "code",
   "execution_count": 46,
   "outputs": [
    {
     "name": "stdout",
     "output_type": "stream",
     "text": [
      "Epoch 1/50, Train Loss: 0.00263439, Test Loss: 0.00222793 | Time taken: 3.1 seconds\n",
      "Epoch 2/50, Train Loss: 0.00218795, Test Loss: 0.00193432 | Time taken: 3.3 seconds\n",
      "Epoch 3/50, Train Loss: 0.00180918, Test Loss: 0.00168992 | Time taken: 3.2 seconds\n",
      "Epoch 4/50, Train Loss: 0.00158837, Test Loss: 0.00148541 | Time taken: 3.2 seconds\n",
      "Epoch 5/50, Train Loss: 0.00132844, Test Loss: 0.00129404 | Time taken: 3.2 seconds\n",
      "Epoch 6/50, Train Loss: 0.00117690, Test Loss: 0.00093077 | Time taken: 3.2 seconds\n",
      "Epoch 7/50, Train Loss: 0.00093990, Test Loss: 0.00079710 | Time taken: 3.2 seconds\n",
      "Epoch 8/50, Train Loss: 0.00084999, Test Loss: 0.00085998 | Time taken: 3.2 seconds\n",
      "Epoch 9/50, Train Loss: 0.00079910, Test Loss: 0.00079676 | Time taken: 3.2 seconds\n",
      "Epoch 10/50, Train Loss: 0.00067446, Test Loss: 0.00055091 | Time taken: 3.2 seconds\n",
      "Epoch 11/50, Train Loss: 0.00060127, Test Loss: 0.00047539 | Time taken: 3.2 seconds\n",
      "Epoch 12/50, Train Loss: 0.00055864, Test Loss: 0.00046240 | Time taken: 3.2 seconds\n",
      "Epoch 13/50, Train Loss: 0.00054631, Test Loss: 0.00048481 | Time taken: 3.2 seconds\n",
      "Epoch 14/50, Train Loss: 0.00051471, Test Loss: 0.00047286 | Time taken: 3.2 seconds\n",
      "Epoch 15/50, Train Loss: 0.00051661, Test Loss: 0.00042673 | Time taken: 3.1 seconds\n",
      "Epoch 16/50, Train Loss: 0.00049422, Test Loss: 0.00037410 | Time taken: 3.2 seconds\n",
      "Epoch 17/50, Train Loss: 0.00047336, Test Loss: 0.00039530 | Time taken: 3.1 seconds\n",
      "Epoch 18/50, Train Loss: 0.00046451, Test Loss: 0.00040408 | Time taken: 3.1 seconds\n",
      "Epoch 19/50, Train Loss: 0.00047833, Test Loss: 0.00044831 | Time taken: 3.2 seconds\n",
      "Epoch 20/50, Train Loss: 0.00047652, Test Loss: 0.00034480 | Time taken: 3.2 seconds\n",
      "Epoch 21/50, Train Loss: 0.00043541, Test Loss: 0.00034646 | Time taken: 3.2 seconds\n",
      "Epoch 22/50, Train Loss: 0.00042601, Test Loss: 0.00033836 | Time taken: 3.2 seconds\n",
      "Epoch 23/50, Train Loss: 0.00043773, Test Loss: 0.00038079 | Time taken: 3.2 seconds\n",
      "Epoch 24/50, Train Loss: 0.00043096, Test Loss: 0.00030075 | Time taken: 3.2 seconds\n",
      "Epoch 25/50, Train Loss: 0.00041863, Test Loss: 0.00034300 | Time taken: 3.1 seconds\n",
      "Epoch 26/50, Train Loss: 0.00040596, Test Loss: 0.00028438 | Time taken: 3.2 seconds\n",
      "Epoch 27/50, Train Loss: 0.00040337, Test Loss: 0.00029268 | Time taken: 3.2 seconds\n",
      "Epoch 28/50, Train Loss: 0.00041405, Test Loss: 0.00033456 | Time taken: 3.2 seconds\n",
      "Epoch 29/50, Train Loss: 0.00045398, Test Loss: 0.00034501 | Time taken: 3.2 seconds\n",
      "Epoch 30/50, Train Loss: 0.00043443, Test Loss: 0.00030893 | Time taken: 3.2 seconds\n",
      "Epoch 31/50, Train Loss: 0.00043903, Test Loss: 0.00031274 | Time taken: 3.2 seconds\n",
      "Epoch 32/50, Train Loss: 0.00040768, Test Loss: 0.00026864 | Time taken: 3.1 seconds\n",
      "Epoch 33/50, Train Loss: 0.00038244, Test Loss: 0.00027759 | Time taken: 3.2 seconds\n",
      "Epoch 34/50, Train Loss: 0.00039552, Test Loss: 0.00035383 | Time taken: 3.2 seconds\n",
      "Epoch 35/50, Train Loss: 0.00043715, Test Loss: 0.00032124 | Time taken: 3.2 seconds\n",
      "Epoch 36/50, Train Loss: 0.00039455, Test Loss: 0.00027828 | Time taken: 3.2 seconds\n",
      "Epoch 37/50, Train Loss: 0.00037504, Test Loss: 0.00025700 | Time taken: 3.2 seconds\n",
      "Epoch 38/50, Train Loss: 0.00036986, Test Loss: 0.00026066 | Time taken: 3.2 seconds\n",
      "Epoch 39/50, Train Loss: 0.00038781, Test Loss: 0.00028708 | Time taken: 3.2 seconds\n",
      "Epoch 40/50, Train Loss: 0.00040589, Test Loss: 0.00028439 | Time taken: 3.2 seconds\n",
      "Epoch 41/50, Train Loss: 0.00036541, Test Loss: 0.00025230 | Time taken: 3.2 seconds\n",
      "Epoch 42/50, Train Loss: 0.00039057, Test Loss: 0.00026384 | Time taken: 3.2 seconds\n",
      "Epoch 43/50, Train Loss: 0.00037913, Test Loss: 0.00027299 | Time taken: 3.2 seconds\n",
      "Epoch 44/50, Train Loss: 0.00038752, Test Loss: 0.00028877 | Time taken: 3.2 seconds\n",
      "Epoch 45/50, Train Loss: 0.00037130, Test Loss: 0.00026772 | Time taken: 3.2 seconds\n",
      "Epoch 46/50, Train Loss: 0.00035962, Test Loss: 0.00026961 | Time taken: 3.2 seconds\n",
      "Epoch 47/50, Train Loss: 0.00037114, Test Loss: 0.00024591 | Time taken: 3.2 seconds\n",
      "Epoch 48/50, Train Loss: 0.00036629, Test Loss: 0.00027929 | Time taken: 3.2 seconds\n",
      "Epoch 49/50, Train Loss: 0.00040304, Test Loss: 0.00027357 | Time taken: 3.2 seconds\n",
      "Epoch 50/50, Train Loss: 0.00035867, Test Loss: 0.00024009 | Time taken: 3.2 seconds\n"
     ]
    }
   ],
   "source": [
    "for epoch in range(NUM_EPOCHS):\n",
    "    start_time = time.time()\n",
    "    train_loss = 0\n",
    "\n",
    "    # Train for epoch\n",
    "    model.train()\n",
    "    for inputs, targets in train_dataloader:\n",
    "        inputs, targets = inputs.float().to(device), targets.float().to(device)\n",
    "\n",
    "        optimizer.zero_grad()\n",
    "        outputs = model(inputs).float()\n",
    "        loss = criterion(outputs, targets)\n",
    "        loss.backward()\n",
    "        optimizer.step()\n",
    "\n",
    "        train_loss += loss.item()\n",
    "\n",
    "    train_loss /= len(train_dataloader)\n",
    "    train_losses.append(train_loss)\n",
    "\n",
    "    # Evaluate for epoch\n",
    "    with torch.no_grad():\n",
    "        test_loss = 0\n",
    "        model.eval()\n",
    "\n",
    "        for inputs, targets in validation_dataloader:\n",
    "            inputs, targets = inputs.float().to(device), targets.to(device)\n",
    "\n",
    "            outputs = model(inputs)\n",
    "            loss = criterion(outputs, targets)\n",
    "            test_loss += loss.item()\n",
    "\n",
    "        test_loss /= len(validation_dataloader)\n",
    "        test_losses.append(test_loss)\n",
    "\n",
    "    epoch_time = time.time() - start_time\n",
    "    epoch_times.append(epoch_time)\n",
    "\n",
    "    print(f\"Epoch {epoch+1}/{NUM_EPOCHS}, Train Loss: {train_loss:.8f}, Test Loss: {test_loss:.8f} | Time taken: {epoch_time:.1f} seconds\")"
   ],
   "metadata": {
    "collapsed": false
   }
  },
  {
   "cell_type": "code",
   "execution_count": 47,
   "outputs": [],
   "source": [
    "torch.save(model.state_dict(), f'{MODEL_DIRECTORY}/{MODEL_SAVE_NAME}')"
   ],
   "metadata": {
    "collapsed": false
   }
  },
  {
   "cell_type": "code",
   "execution_count": 48,
   "outputs": [
    {
     "data": {
      "text/plain": "[<matplotlib.lines.Line2D at 0x7fd69437ae30>]"
     },
     "execution_count": 48,
     "metadata": {},
     "output_type": "execute_result"
    },
    {
     "data": {
      "text/plain": "<Figure size 640x480 with 1 Axes>",
      "image/png": "[encoded data removed]"
     },
     "metadata": {},
     "output_type": "display_data"
    }
   ],
   "source": [
    "plt.plot(train_losses)\n",
    "plt.plot(test_losses)"
   ],
   "metadata": {
    "collapsed": false
   }
  },
  {
   "cell_type": "code",
   "execution_count": 48,
   "outputs": [],
   "source": [],
   "metadata": {
    "collapsed": false
   }
  }
 ],
 "metadata": {
  "kernelspec": {
   "display_name": "Python 3",
   "language": "python",
   "name": "python3"
  },
  "language_info": {
   "codemirror_mode": {
    "name": "ipython",
    "version": 2
   },
   "file_extension": ".py",
   "mimetype": "text/x-python",
   "name": "python",
   "nbconvert_exporter": "python",
   "pygments_lexer": "ipython2",
   "version": "2.7.6"
  }
 },
 "nbformat": 4,
 "nbformat_minor": 0
}
