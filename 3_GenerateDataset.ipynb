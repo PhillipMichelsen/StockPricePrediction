{
 "cells": [
  {
   "cell_type": "code",
   "execution_count": 1,
   "metadata": {
    "collapsed": true,
    "ExecuteTime": {
     "end_time": "2023-05-28T10:25:01.349892019Z",
     "start_time": "2023-05-28T10:24:43.480930757Z"
    }
   },
   "outputs": [],
   "source": [
    "%reset"
   ]
  },
  {
   "cell_type": "code",
   "execution_count": 2,
   "outputs": [],
   "source": [
    "import os\n",
    "import sys\n",
    "\n",
    "import torch\n",
    "from torch.utils.data import Dataset\n",
    "import pandas as pd\n",
    "from Classes import StockData\n",
    "\n",
    "import warnings\n",
    "warnings.filterwarnings(\"ignore\", category=UserWarning)\n",
    "\n",
    "\n",
    "PROCESSED_DATA_DIRECTORY = 'Data/Processed/S&P500/'\n",
    "DATASET_DIRECTORY = 'Data/Datasets/Stock_S&P500/'"
   ],
   "metadata": {
    "collapsed": false,
    "ExecuteTime": {
     "end_time": "2023-05-28T10:25:35.137033099Z",
     "start_time": "2023-05-28T10:25:02.496689244Z"
    }
   }
  },
  {
   "cell_type": "code",
   "execution_count": 3,
   "outputs": [],
   "source": [
    "master_dataframe = pd.DataFrame()"
   ],
   "metadata": {
    "collapsed": false,
    "ExecuteTime": {
     "end_time": "2023-05-28T10:25:37.382057034Z",
     "start_time": "2023-05-28T10:25:37.378636159Z"
    }
   }
  },
  {
   "cell_type": "code",
   "execution_count": null,
   "outputs": [],
   "source": [
    "for file in os.listdir(f'{PROCESSED_DATA_DIRECTORY}'):\n",
    "    current_stock_dataframe = pd.read_csv(f'{PROCESSED_DATA_DIRECTORY}{file}', index_col=0)\n",
    "    master_dataframe = pd.concat([master_dataframe, current_stock_dataframe])"
   ],
   "metadata": {
    "collapsed": false,
    "is_executing": true,
    "ExecuteTime": {
     "start_time": "2023-05-28T10:25:39.164619258Z"
    }
   }
  },
  {
   "cell_type": "code",
   "execution_count": null,
   "outputs": [],
   "source": [
    "dataset = StockData(master_dataframe)\n",
    "print(f'Length: {len(dataset)}')\n",
    "print(f'File size: {sys.getsizeof(dataset)}')"
   ],
   "metadata": {
    "collapsed": false,
    "is_executing": true
   }
  },
  {
   "cell_type": "code",
   "execution_count": 5,
   "outputs": [],
   "source": [
    "torch.save(dataset, f'{DATASET_DIRECTORY}/MASTER.pt')"
   ],
   "metadata": {
    "collapsed": false,
    "ExecuteTime": {
     "end_time": "2023-05-25T15:31:45.457732594Z",
     "start_time": "2023-05-25T15:30:50.579178826Z"
    }
   }
  },
  {
   "cell_type": "code",
   "execution_count": 9,
   "outputs": [],
   "source": [
    "files = os.listdir(PROCESSED_DATA_DIRECTORY)\n",
    "batched_files = [files[i:i+5] for i in range(0, len(files), 10)]"
   ],
   "metadata": {
    "collapsed": false,
    "ExecuteTime": {
     "end_time": "2023-05-23T14:37:46.038746023Z",
     "start_time": "2023-05-23T14:37:44.303389727Z"
    }
   }
  },
  {
   "cell_type": "code",
   "execution_count": 10,
   "outputs": [],
   "source": [
    "for i, batch in enumerate(batched_files):\n",
    "    current_batch_dataset = []\n",
    "    for file in batch:\n",
    "        stockFile = pd.read_csv(f'{PROCESSED_DATA_DIRECTORY}/{file}', index_col=0)\n",
    "        stockFile.astype(float)\n",
    "        current_batch_dataset.append(StockData(stockFile))\n",
    "\n",
    "    current_batch_dataset = torch.utils.data.ConcatDataset(current_batch_dataset)\n",
    "    torch.save(current_batch_dataset, f'{DATASET_DIRECTORY}/Stock100_10.{i+1}.pt')"
   ],
   "metadata": {
    "collapsed": false,
    "ExecuteTime": {
     "end_time": "2023-05-23T14:39:13.454884131Z",
     "start_time": "2023-05-23T14:37:44.313902961Z"
    }
   }
  }
 ],
 "metadata": {
  "kernelspec": {
   "display_name": "Python 3",
   "language": "python",
   "name": "python3"
  },
  "language_info": {
   "codemirror_mode": {
    "name": "ipython",
    "version": 2
   },
   "file_extension": ".py",
   "mimetype": "text/x-python",
   "name": "python",
   "nbconvert_exporter": "python",
   "pygments_lexer": "ipython2",
   "version": "2.7.6"
  }
 },
 "nbformat": 4,
 "nbformat_minor": 0
}
