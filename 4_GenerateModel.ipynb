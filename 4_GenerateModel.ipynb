{
 "cells": [
  {
   "cell_type": "code",
   "execution_count": 1,
   "outputs": [
    {
     "name": "stdout",
     "output_type": "stream",
     "text": [
      "env: HSA_OVERRIDE_GFX_VERSION=10.3.0\n"
     ]
    }
   ],
   "source": [
    "%reset\n",
    "%env HSA_OVERRIDE_GFX_VERSION=10.3.0"
   ],
   "metadata": {
    "collapsed": false,
    "ExecuteTime": {
     "end_time": "2023-05-23T14:29:13.508200847Z",
     "start_time": "2023-05-23T14:28:51.710638872Z"
    }
   }
  },
  {
   "cell_type": "code",
   "execution_count": 2,
   "outputs": [],
   "source": [
    "import os\n",
    "\n",
    "import torch\n",
    "from torchinfo import summary\n",
    "from Classes import ConvLSTM\n",
    "\n",
    "INPUT_LENGTH = 90\n",
    "INPUT_FEATURES = 15\n",
    "OUTPUT_LENGTH = 1\n",
    "OUTPUT_FEATURES = 1\n",
    "\n",
    "CONV_HIDDEN_SIZES = [32, 64]\n",
    "LSTM_HIDDEN_SIZES = [128, 128]\n",
    "KERNEL_SIZE = 3\n",
    "BATCH_SIZE = 32\n",
    "\n",
    "MODEL_NAME = f'work_please'"
   ],
   "metadata": {
    "collapsed": false,
    "ExecuteTime": {
     "end_time": "2023-05-23T14:29:15.151839442Z",
     "start_time": "2023-05-23T14:29:13.504699302Z"
    }
   }
  },
  {
   "cell_type": "code",
   "execution_count": 3,
   "outputs": [
    {
     "data": {
      "text/plain": "=================================================================\nLayer (type:depth-idx)                   Param #\n=================================================================\nConvLSTM                                 --\n├─ModuleList: 1-1                        --\n│    └─Conv1d: 2-1                       1,472\n│    └─Conv1d: 2-2                       6,208\n├─ModuleList: 1-2                        --\n│    └─LSTM: 2-3                         99,328\n│    └─LSTM: 2-4                         132,096\n├─Conv1d: 1-3                            1,472\n├─Linear: 1-4                            129\n├─Dropout: 1-5                           --\n=================================================================\nTotal params: 240,705\nTrainable params: 240,705\nNon-trainable params: 0\n================================================================="
     },
     "execution_count": 3,
     "metadata": {},
     "output_type": "execute_result"
    }
   ],
   "source": [
    "model = ConvLSTM(input_features=INPUT_FEATURES,\n",
    "                 conv_hidden_sizes=CONV_HIDDEN_SIZES,\n",
    "                 kernel_size=KERNEL_SIZE,\n",
    "                 lstm_hidden_sizes=LSTM_HIDDEN_SIZES,\n",
    "                 output_features=OUTPUT_FEATURES,\n",
    "                )\n",
    "summary(model)"
   ],
   "metadata": {
    "collapsed": false,
    "ExecuteTime": {
     "end_time": "2023-05-23T14:29:15.764054389Z",
     "start_time": "2023-05-23T14:29:15.152538113Z"
    }
   }
  },
  {
   "cell_type": "code",
   "execution_count": 4,
   "outputs": [],
   "source": [
    "if not os.path.exists(f'Models/{MODEL_NAME}'):\n",
    "    os.makedirs(f'Models/{MODEL_NAME}')\n",
    "\n",
    "torch.save(model.state_dict(), f'Models/{MODEL_NAME}/BASE.pt')"
   ],
   "metadata": {
    "collapsed": false,
    "ExecuteTime": {
     "end_time": "2023-05-23T14:29:15.770307600Z",
     "start_time": "2023-05-23T14:29:15.764793069Z"
    }
   }
  },
  {
   "cell_type": "code",
   "execution_count": 5,
   "outputs": [],
   "source": [
    "params = {\n",
    "    \"input_length\": INPUT_LENGTH,\n",
    "    \"input_features\": INPUT_FEATURES,\n",
    "    \"output_length\": OUTPUT_LENGTH,\n",
    "    \"output_features\": OUTPUT_FEATURES,\n",
    "    \"conv_hidden_sizes\": CONV_HIDDEN_SIZES,\n",
    "    \"lstm_hidden_sizes\": LSTM_HIDDEN_SIZES,\n",
    "    \"kernel_size\": KERNEL_SIZE,\n",
    "    \"batch_size\": BATCH_SIZE,\n",
    "    \"model_name\": MODEL_NAME\n",
    "}\n",
    "\n",
    "with open(f'Models/{MODEL_NAME}/params.txt', 'w') as f:\n",
    "    for key, value in params.items():\n",
    "        f.write(f\"{key}: {value}\\n\")"
   ],
   "metadata": {
    "collapsed": false,
    "ExecuteTime": {
     "end_time": "2023-05-23T14:29:15.776848255Z",
     "start_time": "2023-05-23T14:29:15.771125689Z"
    }
   }
  }
 ],
 "metadata": {
  "kernelspec": {
   "display_name": "Python 3",
   "language": "python",
   "name": "python3"
  },
  "language_info": {
   "codemirror_mode": {
    "name": "ipython",
    "version": 2
   },
   "file_extension": ".py",
   "mimetype": "text/x-python",
   "name": "python",
   "nbconvert_exporter": "python",
   "pygments_lexer": "ipython2",
   "version": "2.7.6"
  }
 },
 "nbformat": 4,
 "nbformat_minor": 0
}
