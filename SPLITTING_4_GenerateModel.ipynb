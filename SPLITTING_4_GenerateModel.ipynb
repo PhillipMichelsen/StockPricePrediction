{
 "cells": [
  {
   "cell_type": "code",
   "execution_count": 11,
   "outputs": [
    {
     "name": "stdout",
     "output_type": "stream",
     "text": [
      "env: HSA_OVERRIDE_GFX_VERSION=10.3.0\n"
     ]
    }
   ],
   "source": [
    "%reset\n",
    "%env HSA_OVERRIDE_GFX_VERSION=10.3.0"
   ],
   "metadata": {
    "collapsed": false
   }
  },
  {
   "cell_type": "code",
   "execution_count": 1,
   "outputs": [],
   "source": [
    "import os\n",
    "import time\n",
    "\n",
    "import torch\n",
    "from torch.utils.data import Dataset, DataLoader\n",
    "from torch import nn\n",
    "from torchinfo import summary\n",
    "from Classes import StockData, LSTM\n",
    "\n",
    "import pandas as pd\n",
    "import numpy as np\n",
    "import matplotlib.pyplot as plt\n",
    "\n",
    "from sklearn.preprocessing import MinMaxScaler\n",
    "\n",
    "# Parameters\n",
    "MAIN_DATASET_LOCATION = 'StockData/Datasets/Dataset_10_v1_TrainValidate.pt'\n",
    "TEST_DATASET_LOCATION = 'StockData/Datasets/Dataset_10_v1_TrainValidate.pt'\n",
    "\n",
    "DATASET_NAME = 'DS5v1'\n",
    "DATASET_SPLIT = [0.7,0.3]\n",
    "\n",
    "INPUT_LENGTH = 90\n",
    "INPUT_FEATURES = 22\n",
    "OUTPUT_LENGTH = 14\n",
    "OUTPUT_FEATURES = 1\n",
    "\n",
    "NUM_EPOCHS = 30\n",
    "MODEL_HIDDEN_SIZE = 256\n",
    "MODEL_NUM_LAYERS = 3\n",
    "BATCH_SIZE = 3\n",
    "\n",
    "MODEL_NAME = f'{INPUT_FEATURES}IF_{MODEL_HIDDEN_SIZE}HS_{MODEL_NUM_LAYERS}L_{OUTPUT_LENGTH}OS_{DATASET_NAME}_{BATCH_SIZE}B_{NUM_EPOCHS}E'"
   ],
   "metadata": {
    "collapsed": false
   }
  },
  {
   "cell_type": "code",
   "execution_count": 13,
   "outputs": [],
   "source": [
    "torch.cuda.is_available()\n",
    "device = torch.device('cuda')"
   ],
   "metadata": {
    "collapsed": false
   }
  },
  {
   "cell_type": "code",
   "execution_count": 14,
   "outputs": [],
   "source": [
    "dataset = torch.load(MAIN_DATASET_LOCATION)"
   ],
   "metadata": {
    "collapsed": false
   }
  },
  {
   "cell_type": "code",
   "execution_count": 15,
   "outputs": [],
   "source": [
    "train_dataset, validation_dataset = torch.utils.data.random_split(dataset, DATASET_SPLIT)"
   ],
   "metadata": {
    "collapsed": false
   }
  },
  {
   "cell_type": "code",
   "execution_count": 16,
   "outputs": [],
   "source": [
    "train_dataloader = DataLoader(train_dataset, batch_size=BATCH_SIZE,shuffle=True, drop_last=True)\n",
    "validation_dataloader = DataLoader(validation_dataset, batch_size=BATCH_SIZE,shuffle=False, drop_last=True)"
   ],
   "metadata": {
    "collapsed": false
   }
  },
  {
   "cell_type": "code",
   "execution_count": 17,
   "outputs": [
    {
     "data": {
      "text/plain": "LSTM(\n  (lstm): LSTM(22, 256, num_layers=3, dropout=0.2)\n  (fc): Linear(in_features=256, out_features=14, bias=True)\n  (dropout): Dropout(p=0.2, inplace=False)\n)"
     },
     "execution_count": 17,
     "metadata": {},
     "output_type": "execute_result"
    }
   ],
   "source": [
    "model = LSTM(INPUT_FEATURES, MODEL_HIDDEN_SIZE, MODEL_NUM_LAYERS, OUTPUT_LENGTH)\n",
    "model.to(device)\n",
    "summary(model)"
   ],
   "metadata": {
    "collapsed": false
   }
  },
  {
   "cell_type": "code",
   "execution_count": 19,
   "outputs": [],
   "source": [
    "criterion = nn.MSELoss()\n",
    "optimizer = torch.optim.Adam(model.parameters())\n",
    "\n",
    "train_losses = []\n",
    "test_losses = []\n",
    "epoch_times = []"
   ],
   "metadata": {
    "collapsed": false
   }
  },
  {
   "cell_type": "code",
   "execution_count": 20,
   "outputs": [
    {
     "name": "stdout",
     "output_type": "stream",
     "text": [
      "Epoch 1/50, Train Loss: 0.00106467, Test Loss: 0.00037200 | Time taken: 170.5 seconds\n",
      "Epoch 2/50, Train Loss: 0.00059397, Test Loss: 0.00037587 | Time taken: 170.2 seconds\n",
      "Epoch 3/50, Train Loss: 0.00054039, Test Loss: 0.00037611 | Time taken: 170.7 seconds\n",
      "Epoch 4/50, Train Loss: 0.00051568, Test Loss: 0.00047101 | Time taken: 171.1 seconds\n",
      "Epoch 5/50, Train Loss: 0.00048724, Test Loss: 0.00035533 | Time taken: 170.5 seconds\n",
      "Epoch 6/50, Train Loss: 0.00047173, Test Loss: 0.00036902 | Time taken: 170.2 seconds\n",
      "Epoch 7/50, Train Loss: 0.00046514, Test Loss: 0.00037010 | Time taken: 170.3 seconds\n",
      "Epoch 8/50, Train Loss: 0.00045622, Test Loss: 0.00037584 | Time taken: 170.6 seconds\n",
      "Epoch 9/50, Train Loss: 0.00044628, Test Loss: 0.00034509 | Time taken: 171.0 seconds\n",
      "Epoch 10/50, Train Loss: 0.00044042, Test Loss: 0.00034508 | Time taken: 170.4 seconds\n",
      "Epoch 11/50, Train Loss: 0.00043725, Test Loss: 0.00033499 | Time taken: 170.4 seconds\n",
      "Epoch 12/50, Train Loss: 0.00043217, Test Loss: 0.00037877 | Time taken: 170.9 seconds\n",
      "Epoch 13/50, Train Loss: 0.00042681, Test Loss: 0.00034086 | Time taken: 170.5 seconds\n",
      "Epoch 14/50, Train Loss: 0.00042980, Test Loss: 0.00032621 | Time taken: 170.5 seconds\n",
      "Epoch 15/50, Train Loss: 0.00041312, Test Loss: 0.00033020 | Time taken: 170.4 seconds\n",
      "Epoch 16/50, Train Loss: 0.00041560, Test Loss: 0.00039953 | Time taken: 170.4 seconds\n",
      "Epoch 17/50, Train Loss: 0.00041594, Test Loss: 0.00035614 | Time taken: 170.5 seconds\n",
      "Epoch 18/50, Train Loss: 0.00041245, Test Loss: 0.00037440 | Time taken: 170.3 seconds\n",
      "Epoch 19/50, Train Loss: 0.00040356, Test Loss: 0.00031232 | Time taken: 170.5 seconds\n",
      "Epoch 20/50, Train Loss: 0.00040288, Test Loss: 0.00031737 | Time taken: 170.4 seconds\n",
      "Epoch 21/50, Train Loss: 0.00039772, Test Loss: 0.00031782 | Time taken: 170.2 seconds\n",
      "Epoch 22/50, Train Loss: 0.00039898, Test Loss: 0.00031690 | Time taken: 170.3 seconds\n",
      "Epoch 23/50, Train Loss: 0.00039437, Test Loss: 0.00032499 | Time taken: 170.4 seconds\n",
      "Epoch 24/50, Train Loss: 0.00039030, Test Loss: 0.00034353 | Time taken: 170.6 seconds\n",
      "Epoch 25/50, Train Loss: 0.00038914, Test Loss: 0.00031810 | Time taken: 170.4 seconds\n",
      "Epoch 26/50, Train Loss: 0.00038488, Test Loss: 0.00031280 | Time taken: 170.6 seconds\n",
      "Epoch 27/50, Train Loss: 0.00038096, Test Loss: 0.00034054 | Time taken: 170.4 seconds\n",
      "Epoch 28/50, Train Loss: 0.00037793, Test Loss: 0.00033530 | Time taken: 170.6 seconds\n",
      "Epoch 29/50, Train Loss: 0.00037854, Test Loss: 0.00041795 | Time taken: 170.6 seconds\n",
      "Epoch 30/50, Train Loss: 0.00037539, Test Loss: 0.00029856 | Time taken: 170.5 seconds\n",
      "Epoch 31/50, Train Loss: 0.00036818, Test Loss: 0.00029502 | Time taken: 170.6 seconds\n",
      "Epoch 32/50, Train Loss: 0.00036883, Test Loss: 0.00030109 | Time taken: 170.8 seconds\n",
      "Epoch 33/50, Train Loss: 0.00036523, Test Loss: 0.00029643 | Time taken: 170.6 seconds\n",
      "Epoch 34/50, Train Loss: 0.00036318, Test Loss: 0.00030710 | Time taken: 170.5 seconds\n",
      "Epoch 35/50, Train Loss: 0.00035649, Test Loss: 0.00027862 | Time taken: 170.5 seconds\n",
      "Epoch 36/50, Train Loss: 0.00035708, Test Loss: 0.00030707 | Time taken: 170.5 seconds\n",
      "Epoch 37/50, Train Loss: 0.00034744, Test Loss: 0.00030824 | Time taken: 170.7 seconds\n",
      "Epoch 38/50, Train Loss: 0.00035637, Test Loss: 0.00029129 | Time taken: 170.8 seconds\n",
      "Epoch 39/50, Train Loss: 0.00034576, Test Loss: 0.00030968 | Time taken: 170.8 seconds\n",
      "Epoch 40/50, Train Loss: 0.00035041, Test Loss: 0.00028676 | Time taken: 170.8 seconds\n",
      "Epoch 41/50, Train Loss: 0.00034110, Test Loss: 0.00027342 | Time taken: 170.6 seconds\n",
      "Epoch 42/50, Train Loss: 0.00034212, Test Loss: 0.00030011 | Time taken: 171.0 seconds\n",
      "Epoch 43/50, Train Loss: 0.00033743, Test Loss: 0.00030485 | Time taken: 172.2 seconds\n",
      "Epoch 44/50, Train Loss: 0.00033568, Test Loss: 0.00027258 | Time taken: 171.5 seconds\n",
      "Epoch 45/50, Train Loss: 0.00033840, Test Loss: 0.00029902 | Time taken: 171.9 seconds\n",
      "Epoch 46/50, Train Loss: 0.00033145, Test Loss: 0.00030413 | Time taken: 171.8 seconds\n",
      "Epoch 47/50, Train Loss: 0.00033117, Test Loss: 0.00025024 | Time taken: 171.7 seconds\n",
      "Epoch 48/50, Train Loss: 0.00032236, Test Loss: 0.00031110 | Time taken: 171.9 seconds\n",
      "Epoch 49/50, Train Loss: 0.00031830, Test Loss: 0.00026476 | Time taken: 172.2 seconds\n",
      "Epoch 50/50, Train Loss: 0.00031399, Test Loss: 0.00025938 | Time taken: 172.6 seconds\n"
     ]
    }
   ],
   "source": [
    "for epoch in range(NUM_EPOCHS):\n",
    "    start_time = time.time()\n",
    "    train_loss = 0\n",
    "\n",
    "    # Train for epoch\n",
    "    model.train()\n",
    "    for inputs, targets in train_dataloader:\n",
    "        inputs, targets = inputs.float().to(device), targets.float().to(device)\n",
    "\n",
    "        optimizer.zero_grad()\n",
    "        outputs = model(inputs).float()\n",
    "        loss = criterion(outputs, targets)\n",
    "        loss.backward()\n",
    "        optimizer.step()\n",
    "\n",
    "        train_loss += loss.item()\n",
    "\n",
    "    train_loss /= len(train_dataloader)\n",
    "    train_losses.append(train_loss)\n",
    "\n",
    "    # Evaluate for epoch\n",
    "    with torch.no_grad():\n",
    "        test_loss = 0\n",
    "        model.eval()\n",
    "\n",
    "        for inputs, targets in validation_dataloader:\n",
    "            inputs, targets = inputs.float().to(device), targets.to(device)\n",
    "\n",
    "            outputs = model(inputs)\n",
    "            loss = criterion(outputs, targets)\n",
    "            test_loss += loss.item()\n",
    "\n",
    "        test_loss /= len(validation_dataloader)\n",
    "        test_losses.append(test_loss)\n",
    "\n",
    "    epoch_time = time.time() - start_time\n",
    "    epoch_times.append(epoch_time)\n",
    "\n",
    "    print(f\"Epoch {epoch+1}/{NUM_EPOCHS}, Train Loss: {train_loss:.8f}, Test Loss: {test_loss:.8f} | Time taken: {epoch_time:.1f} seconds\")"
   ],
   "metadata": {
    "collapsed": false
   }
  },
  {
   "cell_type": "code",
   "execution_count": 21,
   "outputs": [],
   "source": [
    "torch.save(model.state_dict(), f'{MODEL_NAME}.pt')"
   ],
   "metadata": {
    "collapsed": false
   }
  },
  {
   "cell_type": "code",
   "execution_count": 22,
   "outputs": [
    {
     "data": {
      "text/plain": "[<matplotlib.lines.Line2D at 0x7fae11f86a70>]"
     },
     "execution_count": 22,
     "metadata": {},
     "output_type": "execute_result"
    },
    {
     "data": {
      "text/plain": "<Figure size 640x480 with 1 Axes>",
      "image/png": "[encoded data removed]"
     },
     "metadata": {},
     "output_type": "display_data"
    }
   ],
   "source": [
    "plt.plot(train_losses)\n",
    "plt.plot(test_losses)"
   ],
   "metadata": {
    "collapsed": false
   }
  },
  {
   "cell_type": "code",
   "execution_count": 25,
   "outputs": [
    {
     "data": {
      "text/plain": "    TrainLoss  TestLoss\n0    0.001065  0.000372\n1    0.000594  0.000376\n2    0.000540  0.000376\n3    0.000516  0.000471\n4    0.000487  0.000355\n5    0.000472  0.000369\n6    0.000465  0.000370\n7    0.000456  0.000376\n8    0.000446  0.000345\n9    0.000440  0.000345\n10   0.000437  0.000335\n11   0.000432  0.000379\n12   0.000427  0.000341\n13   0.000430  0.000326\n14   0.000413  0.000330\n15   0.000416  0.000400\n16   0.000416  0.000356\n17   0.000412  0.000374\n18   0.000404  0.000312\n19   0.000403  0.000317\n20   0.000398  0.000318\n21   0.000399  0.000317\n22   0.000394  0.000325\n23   0.000390  0.000344\n24   0.000389  0.000318\n25   0.000385  0.000313\n26   0.000381  0.000341\n27   0.000378  0.000335\n28   0.000379  0.000418\n29   0.000375  0.000299\n30   0.000368  0.000295\n31   0.000369  0.000301\n32   0.000365  0.000296\n33   0.000363  0.000307\n34   0.000356  0.000279\n35   0.000357  0.000307\n36   0.000347  0.000308\n37   0.000356  0.000291\n38   0.000346  0.000310\n39   0.000350  0.000287\n40   0.000341  0.000273\n41   0.000342  0.000300\n42   0.000337  0.000305\n43   0.000336  0.000273\n44   0.000338  0.000299\n45   0.000331  0.000304\n46   0.000331  0.000250\n47   0.000322  0.000311\n48   0.000318  0.000265\n49   0.000314  0.000259",
      "text/html": "<div>\n<style scoped>\n    .dataframe tbody tr th:only-of-type {\n        vertical-align: middle;\n    }\n\n    .dataframe tbody tr th {\n        vertical-align: top;\n    }\n\n    .dataframe thead th {\n        text-align: right;\n    }\n</style>\n<table border=\"1\" class=\"dataframe\">\n  <thead>\n    <tr style=\"text-align: right;\">\n      <th></th>\n      <th>TrainLoss</th>\n      <th>TestLoss</th>\n    </tr>\n  </thead>\n  <tbody>\n    <tr>\n      <th>0</th>\n      <td>0.001065</td>\n      <td>0.000372</td>\n    </tr>\n    <tr>\n      <th>1</th>\n      <td>0.000594</td>\n      <td>0.000376</td>\n    </tr>\n    <tr>\n      <th>2</th>\n      <td>0.000540</td>\n      <td>0.000376</td>\n    </tr>\n    <tr>\n      <th>3</th>\n      <td>0.000516</td>\n      <td>0.000471</td>\n    </tr>\n    <tr>\n      <th>4</th>\n      <td>0.000487</td>\n      <td>0.000355</td>\n    </tr>\n    <tr>\n      <th>5</th>\n      <td>0.000472</td>\n      <td>0.000369</td>\n    </tr>\n    <tr>\n      <th>6</th>\n      <td>0.000465</td>\n      <td>0.000370</td>\n    </tr>\n    <tr>\n      <th>7</th>\n      <td>0.000456</td>\n      <td>0.000376</td>\n    </tr>\n    <tr>\n      <th>8</th>\n      <td>0.000446</td>\n      <td>0.000345</td>\n    </tr>\n    <tr>\n      <th>9</th>\n      <td>0.000440</td>\n      <td>0.000345</td>\n    </tr>\n    <tr>\n      <th>10</th>\n      <td>0.000437</td>\n      <td>0.000335</td>\n    </tr>\n    <tr>\n      <th>11</th>\n      <td>0.000432</td>\n      <td>0.000379</td>\n    </tr>\n    <tr>\n      <th>12</th>\n      <td>0.000427</td>\n      <td>0.000341</td>\n    </tr>\n    <tr>\n      <th>13</th>\n      <td>0.000430</td>\n      <td>0.000326</td>\n    </tr>\n    <tr>\n      <th>14</th>\n      <td>0.000413</td>\n      <td>0.000330</td>\n    </tr>\n    <tr>\n      <th>15</th>\n      <td>0.000416</td>\n      <td>0.000400</td>\n    </tr>\n    <tr>\n      <th>16</th>\n      <td>0.000416</td>\n      <td>0.000356</td>\n    </tr>\n    <tr>\n      <th>17</th>\n      <td>0.000412</td>\n      <td>0.000374</td>\n    </tr>\n    <tr>\n      <th>18</th>\n      <td>0.000404</td>\n      <td>0.000312</td>\n    </tr>\n    <tr>\n      <th>19</th>\n      <td>0.000403</td>\n      <td>0.000317</td>\n    </tr>\n    <tr>\n      <th>20</th>\n      <td>0.000398</td>\n      <td>0.000318</td>\n    </tr>\n    <tr>\n      <th>21</th>\n      <td>0.000399</td>\n      <td>0.000317</td>\n    </tr>\n    <tr>\n      <th>22</th>\n      <td>0.000394</td>\n      <td>0.000325</td>\n    </tr>\n    <tr>\n      <th>23</th>\n      <td>0.000390</td>\n      <td>0.000344</td>\n    </tr>\n    <tr>\n      <th>24</th>\n      <td>0.000389</td>\n      <td>0.000318</td>\n    </tr>\n    <tr>\n      <th>25</th>\n      <td>0.000385</td>\n      <td>0.000313</td>\n    </tr>\n    <tr>\n      <th>26</th>\n      <td>0.000381</td>\n      <td>0.000341</td>\n    </tr>\n    <tr>\n      <th>27</th>\n      <td>0.000378</td>\n      <td>0.000335</td>\n    </tr>\n    <tr>\n      <th>28</th>\n      <td>0.000379</td>\n      <td>0.000418</td>\n    </tr>\n    <tr>\n      <th>29</th>\n      <td>0.000375</td>\n      <td>0.000299</td>\n    </tr>\n    <tr>\n      <th>30</th>\n      <td>0.000368</td>\n      <td>0.000295</td>\n    </tr>\n    <tr>\n      <th>31</th>\n      <td>0.000369</td>\n      <td>0.000301</td>\n    </tr>\n    <tr>\n      <th>32</th>\n      <td>0.000365</td>\n      <td>0.000296</td>\n    </tr>\n    <tr>\n      <th>33</th>\n      <td>0.000363</td>\n      <td>0.000307</td>\n    </tr>\n    <tr>\n      <th>34</th>\n      <td>0.000356</td>\n      <td>0.000279</td>\n    </tr>\n    <tr>\n      <th>35</th>\n      <td>0.000357</td>\n      <td>0.000307</td>\n    </tr>\n    <tr>\n      <th>36</th>\n      <td>0.000347</td>\n      <td>0.000308</td>\n    </tr>\n    <tr>\n      <th>37</th>\n      <td>0.000356</td>\n      <td>0.000291</td>\n    </tr>\n    <tr>\n      <th>38</th>\n      <td>0.000346</td>\n      <td>0.000310</td>\n    </tr>\n    <tr>\n      <th>39</th>\n      <td>0.000350</td>\n      <td>0.000287</td>\n    </tr>\n    <tr>\n      <th>40</th>\n      <td>0.000341</td>\n      <td>0.000273</td>\n    </tr>\n    <tr>\n      <th>41</th>\n      <td>0.000342</td>\n      <td>0.000300</td>\n    </tr>\n    <tr>\n      <th>42</th>\n      <td>0.000337</td>\n      <td>0.000305</td>\n    </tr>\n    <tr>\n      <th>43</th>\n      <td>0.000336</td>\n      <td>0.000273</td>\n    </tr>\n    <tr>\n      <th>44</th>\n      <td>0.000338</td>\n      <td>0.000299</td>\n    </tr>\n    <tr>\n      <th>45</th>\n      <td>0.000331</td>\n      <td>0.000304</td>\n    </tr>\n    <tr>\n      <th>46</th>\n      <td>0.000331</td>\n      <td>0.000250</td>\n    </tr>\n    <tr>\n      <th>47</th>\n      <td>0.000322</td>\n      <td>0.000311</td>\n    </tr>\n    <tr>\n      <th>48</th>\n      <td>0.000318</td>\n      <td>0.000265</td>\n    </tr>\n    <tr>\n      <th>49</th>\n      <td>0.000314</td>\n      <td>0.000259</td>\n    </tr>\n  </tbody>\n</table>\n</div>"
     },
     "execution_count": 25,
     "metadata": {},
     "output_type": "execute_result"
    }
   ],
   "source": [
    "epochData = pd.DataFrame({'TrainLoss':train_losses, 'TestLoss':test_losses})\n",
    "epochData.to_csv(f'{MODEL_NAME}.csv', index=False)\n",
    "epochData"
   ],
   "metadata": {
    "collapsed": false
   }
  }
 ],
 "metadata": {
  "kernelspec": {
   "display_name": "Python 3",
   "language": "python",
   "name": "python3"
  },
  "language_info": {
   "codemirror_mode": {
    "name": "ipython",
    "version": 2
   },
   "file_extension": ".py",
   "mimetype": "text/x-python",
   "name": "python",
   "nbconvert_exporter": "python",
   "pygments_lexer": "ipython2",
   "version": "2.7.6"
  }
 },
 "nbformat": 4,
 "nbformat_minor": 0
}
