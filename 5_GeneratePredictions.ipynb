{
 "cells": [
  {
   "cell_type": "code",
   "execution_count": 75,
   "metadata": {
    "collapsed": true
   },
   "outputs": [
    {
     "name": "stdout",
     "output_type": "stream",
     "text": [
      "env: HSA_OVERRIDE_GFX_VERSION=10.3.0\n"
     ]
    }
   ],
   "source": [
    "%reset\n",
    "%env HSA_OVERRIDE_GFX_VERSION=10.3.0"
   ]
  },
  {
   "cell_type": "code",
   "execution_count": 76,
   "outputs": [],
   "source": [
    "import os\n",
    "import warnings\n",
    "\n",
    "import torch\n",
    "from torch.utils.data import Dataset, DataLoader\n",
    "from torch import nn\n",
    "from torchinfo import summary\n",
    "from Classes import StockData, LSTM\n",
    "\n",
    "from sklearn.preprocessing import MinMaxScaler\n",
    "\n",
    "import pandas as pd\n",
    "import numpy as np\n",
    "import matplotlib.pyplot as plt\n",
    "import ta\n",
    "\n",
    "warnings.filterwarnings(\"ignore\", category=UserWarning)\n",
    "\n",
    "RawStockDataDirectory = 'StockData/Raw/'\n",
    "ProcessedStockDataDirectory = 'StockData/Processed/'\n",
    "DatasetsDirectory = 'StockData/Datasets/'\n",
    "\n",
    "inputLength = 90\n",
    "outputLength = 14"
   ],
   "metadata": {
    "collapsed": false
   }
  },
  {
   "cell_type": "code",
   "execution_count": 77,
   "outputs": [],
   "source": [
    "torch.cuda.is_available()\n",
    "device = torch.device('cuda')"
   ],
   "metadata": {
    "collapsed": false
   }
  },
  {
   "cell_type": "code",
   "execution_count": 78,
   "outputs": [
    {
     "data": {
      "text/plain": "LSTM(\n  (lstm): LSTM(22, 64, num_layers=5, dropout=0.2)\n  (fc): Linear(in_features=64, out_features=14, bias=True)\n  (dropout): Dropout(p=0.2, inplace=False)\n)"
     },
     "execution_count": 78,
     "metadata": {},
     "output_type": "execute_result"
    }
   ],
   "source": [
    "model = LSTM(22,64,5,14)\n",
    "model.load_state_dict(torch.load('Models/22IS_64HS_5L_14OS_DS5v1_S_50E_Model1.pt'))\n",
    "model.to(device)"
   ],
   "metadata": {
    "collapsed": false
   }
  },
  {
   "cell_type": "code",
   "execution_count": 79,
   "outputs": [],
   "source": [
    "data = pd.read_csv('StockData/Raw/MSFT', usecols=[1,2,3,4,5])"
   ],
   "metadata": {
    "collapsed": false
   }
  },
  {
   "cell_type": "code",
   "execution_count": 80,
   "outputs": [],
   "source": [
    "# Calculate moving averages\n",
    "data['MA10'] = data['Close'].rolling(window=10).mean()\n",
    "data['MA20'] = data['Close'].rolling(window=20).mean()\n",
    "data['MA50'] = data['Close'].rolling(window=50).mean()\n",
    "data['MA100'] = data['Close'].rolling(window=100).mean()\n",
    "data['MA200'] = data['Close'].rolling(window=200).mean()\n",
    "\n",
    "# Calculate RSI\n",
    "data['RSI'] = ta.momentum.rsi(data['Close'], window=14)\n",
    "\n",
    "# Calculate Bollinger Bands\n",
    "BB = ta.volatility.BollingerBands(data['Close'])\n",
    "data['BBup'], data['BBmid'], data['BBlow'] = BB.bollinger_hband(), BB.bollinger_mavg(), BB.bollinger_lband()\n",
    "\n",
    "# Calculate MACD\n",
    "MACD = ta.trend.MACD(data['Close'])\n",
    "data['MACD'], data['MACDsig'], data['MACDdiff'] = MACD.macd(), MACD.macd_signal(), MACD.macd_diff()\n",
    "\n",
    "# Calculate ROC\n",
    "data['ROC'] = ta.momentum.ROCIndicator(data['Close']).roc()\n",
    "\n",
    "# Calculate KAMA\n",
    "data['KAMA'] = ta.momentum.kama(data['Close'])\n",
    "\n",
    "# Calculate OBV\n",
    "data['OBX'] = ta.volume.OnBalanceVolumeIndicator(close=data['Close'], volume=data['Volume']).on_balance_volume()\n",
    "\n",
    "# Calculate STOCH\n",
    "STOCH = ta.momentum.StochasticOscillator(close=data['Close'], high=data['High'], low=data['Low'])\n",
    "data['STOCH'] = STOCH.stoch()\n",
    "data['STOCHsig'] = STOCH.stoch_signal()\n",
    "\n",
    "data.dropna(inplace=True)\n",
    "data.reset_index(drop=True, inplace=True)"
   ],
   "metadata": {
    "collapsed": false
   }
  },
  {
   "cell_type": "code",
   "execution_count": 81,
   "outputs": [
    {
     "data": {
      "text/plain": "            Open        High         Low       Close    Volume        MA10  \\\n0       0.107232    0.107232    0.106691    0.106962   7027200    0.103875   \n1       0.106962    0.107774    0.106691    0.106691   3715200    0.103929   \n2       0.106691    0.107774    0.102359    0.102359  41702400    0.103929   \n3       0.102359    0.103983    0.101275    0.103442  25401600    0.104308   \n4       0.103442    0.106149    0.103442    0.104525  23356800    0.104687   \n...          ...         ...         ...         ...       ...         ...   \n9119  252.190002  255.619995  251.389999  255.289993  30741300  251.848000   \n9120  256.429993  260.119995  255.979996  256.869995  24109800  251.728999   \n9121  256.299988  257.690002  253.389999  254.149994  21473200  251.876999   \n9122  254.039993  254.539993  250.809998  253.699997  17340200  252.095999   \n9123  255.820007  259.549988  251.580002  252.320007  26589195  251.850999   \n\n            MA20        MA50       MA100       MA200  ...       BBmid  \\\n0       0.105039    0.095394    0.079777    0.072750  ...    0.105039   \n1       0.104904    0.096011    0.080238    0.072980  ...    0.104904   \n2       0.104633    0.096542    0.080660    0.073178  ...    0.104633   \n3       0.104525    0.097051    0.081099    0.073376  ...    0.104525   \n4       0.104443    0.097571    0.081543    0.073587  ...    0.104443   \n...          ...         ...         ...         ...  ...         ...   \n9119  258.213712  246.495585  242.609573  251.375664  ...  258.213712   \n9120  258.171986  246.809068  242.897927  251.338875  ...  258.171986   \n9121  258.073063  247.015682  243.197278  251.348637  ...  258.073063   \n9122  257.413487  247.337784  243.488746  251.360814  ...  257.413487   \n9123  256.726308  247.621513  243.681965  251.368969  ...  256.726308   \n\n           BBlow      MACD   MACDsig  MACDdiff       ROC        KAMA  \\\n0       0.100256  0.002771  0.003256 -0.000485  1.803958    0.103117   \n1       0.100483  0.002731  0.003151 -0.000421  2.072453    0.103144   \n2       0.100285  0.002322  0.002985 -0.000663 -2.827564    0.103141   \n3       0.100172  0.002062  0.002801 -0.000738 -2.550843    0.103157   \n4       0.100155  0.001921  0.002625 -0.000703  2.116238    0.103232   \n...          ...       ...       ...       ...       ...         ...   \n9119  242.957086  0.425385  2.081006 -1.655620 -5.967080  252.576971   \n9120  242.905455  0.666543  1.798113 -1.131570 -4.622758  252.610057   \n9121  242.729403  0.630908  1.564672 -0.933764 -3.051688  252.624310   \n9122  242.515183  0.559902  1.363718 -0.803816 -1.689530  252.637955   \n9123  242.224776  0.387805  1.168535 -0.780731 -0.138517  252.633199   \n\n              OBX      STOCH   STOCHsig  \n0      3235881600  97.058331  91.612546  \n1      3232166400  88.889691  93.464336  \n2      3190464000  44.447787  76.798603  \n3      3215865600  55.558454  62.965311  \n4      3239222400  66.668357  55.558199  \n...           ...        ...        ...  \n9119  25242494600  33.759943  18.208802  \n9120  25266604400  39.270358  30.737367  \n9121  25245131200  33.996775  35.675692  \n9122  25227791000  38.286797  37.184643  \n9123  25201201805  46.244033  39.509202  \n\n[9124 rows x 22 columns]",
      "text/html": "<div>\n<style scoped>\n    .dataframe tbody tr th:only-of-type {\n        vertical-align: middle;\n    }\n\n    .dataframe tbody tr th {\n        vertical-align: top;\n    }\n\n    .dataframe thead th {\n        text-align: right;\n    }\n</style>\n<table border=\"1\" class=\"dataframe\">\n  <thead>\n    <tr style=\"text-align: right;\">\n      <th></th>\n      <th>Open</th>\n      <th>High</th>\n      <th>Low</th>\n      <th>Close</th>\n      <th>Volume</th>\n      <th>MA10</th>\n      <th>MA20</th>\n      <th>MA50</th>\n      <th>MA100</th>\n      <th>MA200</th>\n      <th>...</th>\n      <th>BBmid</th>\n      <th>BBlow</th>\n      <th>MACD</th>\n      <th>MACDsig</th>\n      <th>MACDdiff</th>\n      <th>ROC</th>\n      <th>KAMA</th>\n      <th>OBX</th>\n      <th>STOCH</th>\n      <th>STOCHsig</th>\n    </tr>\n  </thead>\n  <tbody>\n    <tr>\n      <th>0</th>\n      <td>0.107232</td>\n      <td>0.107232</td>\n      <td>0.106691</td>\n      <td>0.106962</td>\n      <td>7027200</td>\n      <td>0.103875</td>\n      <td>0.105039</td>\n      <td>0.095394</td>\n      <td>0.079777</td>\n      <td>0.072750</td>\n      <td>...</td>\n      <td>0.105039</td>\n      <td>0.100256</td>\n      <td>0.002771</td>\n      <td>0.003256</td>\n      <td>-0.000485</td>\n      <td>1.803958</td>\n      <td>0.103117</td>\n      <td>3235881600</td>\n      <td>97.058331</td>\n      <td>91.612546</td>\n    </tr>\n    <tr>\n      <th>1</th>\n      <td>0.106962</td>\n      <td>0.107774</td>\n      <td>0.106691</td>\n      <td>0.106691</td>\n      <td>3715200</td>\n      <td>0.103929</td>\n      <td>0.104904</td>\n      <td>0.096011</td>\n      <td>0.080238</td>\n      <td>0.072980</td>\n      <td>...</td>\n      <td>0.104904</td>\n      <td>0.100483</td>\n      <td>0.002731</td>\n      <td>0.003151</td>\n      <td>-0.000421</td>\n      <td>2.072453</td>\n      <td>0.103144</td>\n      <td>3232166400</td>\n      <td>88.889691</td>\n      <td>93.464336</td>\n    </tr>\n    <tr>\n      <th>2</th>\n      <td>0.106691</td>\n      <td>0.107774</td>\n      <td>0.102359</td>\n      <td>0.102359</td>\n      <td>41702400</td>\n      <td>0.103929</td>\n      <td>0.104633</td>\n      <td>0.096542</td>\n      <td>0.080660</td>\n      <td>0.073178</td>\n      <td>...</td>\n      <td>0.104633</td>\n      <td>0.100285</td>\n      <td>0.002322</td>\n      <td>0.002985</td>\n      <td>-0.000663</td>\n      <td>-2.827564</td>\n      <td>0.103141</td>\n      <td>3190464000</td>\n      <td>44.447787</td>\n      <td>76.798603</td>\n    </tr>\n    <tr>\n      <th>3</th>\n      <td>0.102359</td>\n      <td>0.103983</td>\n      <td>0.101275</td>\n      <td>0.103442</td>\n      <td>25401600</td>\n      <td>0.104308</td>\n      <td>0.104525</td>\n      <td>0.097051</td>\n      <td>0.081099</td>\n      <td>0.073376</td>\n      <td>...</td>\n      <td>0.104525</td>\n      <td>0.100172</td>\n      <td>0.002062</td>\n      <td>0.002801</td>\n      <td>-0.000738</td>\n      <td>-2.550843</td>\n      <td>0.103157</td>\n      <td>3215865600</td>\n      <td>55.558454</td>\n      <td>62.965311</td>\n    </tr>\n    <tr>\n      <th>4</th>\n      <td>0.103442</td>\n      <td>0.106149</td>\n      <td>0.103442</td>\n      <td>0.104525</td>\n      <td>23356800</td>\n      <td>0.104687</td>\n      <td>0.104443</td>\n      <td>0.097571</td>\n      <td>0.081543</td>\n      <td>0.073587</td>\n      <td>...</td>\n      <td>0.104443</td>\n      <td>0.100155</td>\n      <td>0.001921</td>\n      <td>0.002625</td>\n      <td>-0.000703</td>\n      <td>2.116238</td>\n      <td>0.103232</td>\n      <td>3239222400</td>\n      <td>66.668357</td>\n      <td>55.558199</td>\n    </tr>\n    <tr>\n      <th>...</th>\n      <td>...</td>\n      <td>...</td>\n      <td>...</td>\n      <td>...</td>\n      <td>...</td>\n      <td>...</td>\n      <td>...</td>\n      <td>...</td>\n      <td>...</td>\n      <td>...</td>\n      <td>...</td>\n      <td>...</td>\n      <td>...</td>\n      <td>...</td>\n      <td>...</td>\n      <td>...</td>\n      <td>...</td>\n      <td>...</td>\n      <td>...</td>\n      <td>...</td>\n      <td>...</td>\n    </tr>\n    <tr>\n      <th>9119</th>\n      <td>252.190002</td>\n      <td>255.619995</td>\n      <td>251.389999</td>\n      <td>255.289993</td>\n      <td>30741300</td>\n      <td>251.848000</td>\n      <td>258.213712</td>\n      <td>246.495585</td>\n      <td>242.609573</td>\n      <td>251.375664</td>\n      <td>...</td>\n      <td>258.213712</td>\n      <td>242.957086</td>\n      <td>0.425385</td>\n      <td>2.081006</td>\n      <td>-1.655620</td>\n      <td>-5.967080</td>\n      <td>252.576971</td>\n      <td>25242494600</td>\n      <td>33.759943</td>\n      <td>18.208802</td>\n    </tr>\n    <tr>\n      <th>9120</th>\n      <td>256.429993</td>\n      <td>260.119995</td>\n      <td>255.979996</td>\n      <td>256.869995</td>\n      <td>24109800</td>\n      <td>251.728999</td>\n      <td>258.171986</td>\n      <td>246.809068</td>\n      <td>242.897927</td>\n      <td>251.338875</td>\n      <td>...</td>\n      <td>258.171986</td>\n      <td>242.905455</td>\n      <td>0.666543</td>\n      <td>1.798113</td>\n      <td>-1.131570</td>\n      <td>-4.622758</td>\n      <td>252.610057</td>\n      <td>25266604400</td>\n      <td>39.270358</td>\n      <td>30.737367</td>\n    </tr>\n    <tr>\n      <th>9121</th>\n      <td>256.299988</td>\n      <td>257.690002</td>\n      <td>253.389999</td>\n      <td>254.149994</td>\n      <td>21473200</td>\n      <td>251.876999</td>\n      <td>258.073063</td>\n      <td>247.015682</td>\n      <td>243.197278</td>\n      <td>251.348637</td>\n      <td>...</td>\n      <td>258.073063</td>\n      <td>242.729403</td>\n      <td>0.630908</td>\n      <td>1.564672</td>\n      <td>-0.933764</td>\n      <td>-3.051688</td>\n      <td>252.624310</td>\n      <td>25245131200</td>\n      <td>33.996775</td>\n      <td>35.675692</td>\n    </tr>\n    <tr>\n      <th>9122</th>\n      <td>254.039993</td>\n      <td>254.539993</td>\n      <td>250.809998</td>\n      <td>253.699997</td>\n      <td>17340200</td>\n      <td>252.095999</td>\n      <td>257.413487</td>\n      <td>247.337784</td>\n      <td>243.488746</td>\n      <td>251.360814</td>\n      <td>...</td>\n      <td>257.413487</td>\n      <td>242.515183</td>\n      <td>0.559902</td>\n      <td>1.363718</td>\n      <td>-0.803816</td>\n      <td>-1.689530</td>\n      <td>252.637955</td>\n      <td>25227791000</td>\n      <td>38.286797</td>\n      <td>37.184643</td>\n    </tr>\n    <tr>\n      <th>9123</th>\n      <td>255.820007</td>\n      <td>259.549988</td>\n      <td>251.580002</td>\n      <td>252.320007</td>\n      <td>26589195</td>\n      <td>251.850999</td>\n      <td>256.726308</td>\n      <td>247.621513</td>\n      <td>243.681965</td>\n      <td>251.368969</td>\n      <td>...</td>\n      <td>256.726308</td>\n      <td>242.224776</td>\n      <td>0.387805</td>\n      <td>1.168535</td>\n      <td>-0.780731</td>\n      <td>-0.138517</td>\n      <td>252.633199</td>\n      <td>25201201805</td>\n      <td>46.244033</td>\n      <td>39.509202</td>\n    </tr>\n  </tbody>\n</table>\n<p>9124 rows × 22 columns</p>\n</div>"
     },
     "execution_count": 81,
     "metadata": {},
     "output_type": "execute_result"
    }
   ],
   "source": [
    "data"
   ],
   "metadata": {
    "collapsed": false
   }
  },
  {
   "cell_type": "code",
   "execution_count": 82,
   "outputs": [],
   "source": [
    "dataset = StockData(data)\n",
    "dataloader = DataLoader(dataset,shuffle=False, drop_last=False)"
   ],
   "metadata": {
    "collapsed": false
   }
  },
  {
   "cell_type": "code",
   "execution_count": 83,
   "outputs": [],
   "source": [
    "predictions = []\n",
    "actual = []"
   ],
   "metadata": {
    "collapsed": false
   }
  },
  {
   "cell_type": "code",
   "execution_count": 84,
   "outputs": [],
   "source": [
    "for i, (x,y) in enumerate(dataloader):\n",
    "    if i == 0:\n",
    "        actual.append(x.float().numpy().reshape(90,22)[:,3])\n",
    "\n",
    "        for nan in range(inputLength):\n",
    "            predictions.append(np.array([[np.nan]]))\n",
    "\n",
    "        x = x.float().to(device)\n",
    "        with torch.no_grad():\n",
    "            modelPrediction = model(x)\n",
    "\n",
    "        predictions.append(modelPrediction.cpu().numpy().reshape(14,1))\n",
    "\n",
    "        continue\n",
    "\n",
    "    if (i-14) % 90 == 0:\n",
    "        for nan in range(inputLength - outputLength):\n",
    "            predictions.append(np.array([[np.nan]]))\n",
    "\n",
    "        x = x.float().to(device)\n",
    "        with torch.no_grad():\n",
    "            modelPrediction = model(x)\n",
    "\n",
    "        predictions.append(modelPrediction.cpu().numpy().reshape(14,1))\n",
    "\n",
    "    if i % 90 == 0:\n",
    "        actual.append(x.float().numpy().reshape(90,22)[:,3])"
   ],
   "metadata": {
    "collapsed": false
   }
  },
  {
   "cell_type": "code",
   "execution_count": 85,
   "outputs": [],
   "source": [
    "actual = np.concatenate(actual).reshape(-1,1)\n",
    "predictions = np.concatenate(predictions).reshape(-1,1)\n",
    "\n",
    "actual = dataset.outputScaler.inverse_transform(actual)\n",
    "predictions = dataset.outputScaler.inverse_transform(predictions)"
   ],
   "metadata": {
    "collapsed": false
   }
  },
  {
   "cell_type": "code",
   "execution_count": 86,
   "outputs": [
    {
     "data": {
      "text/plain": "array([[         nan],\n       [         nan],\n       [         nan],\n       ...,\n       [280.792373  ],\n       [279.76582909],\n       [280.52694812]])"
     },
     "execution_count": 86,
     "metadata": {},
     "output_type": "execute_result"
    }
   ],
   "source": [
    "predictions"
   ],
   "metadata": {
    "collapsed": false
   }
  },
  {
   "cell_type": "code",
   "execution_count": 87,
   "outputs": [
    {
     "data": {
      "text/plain": "array([[1.06961705e-01],\n       [1.06690988e-01],\n       [1.02358609e-01],\n       ...,\n       [2.39749512e+02],\n       [2.35220840e+02],\n       [2.31350525e+02]], dtype=float32)"
     },
     "execution_count": 87,
     "metadata": {},
     "output_type": "execute_result"
    }
   ],
   "source": [
    "actual"
   ],
   "metadata": {
    "collapsed": false
   }
  },
  {
   "cell_type": "code",
   "execution_count": 92,
   "outputs": [
    {
     "data": {
      "text/plain": "(75.0, 225.0)"
     },
     "execution_count": 92,
     "metadata": {},
     "output_type": "execute_result"
    },
    {
     "data": {
      "text/plain": "<Figure size 640x480 with 1 Axes>",
      "image/png": "[encoded data removed]"
     },
     "metadata": {},
     "output_type": "display_data"
    }
   ],
   "source": [
    "plt.plot(actual)\n",
    "plt.plot(predictions)\n",
    "plt.xlim(8000,8500)\n",
    "plt.ylim(75,225)"
   ],
   "metadata": {
    "collapsed": false
   }
  },
  {
   "cell_type": "code",
   "execution_count": 88,
   "outputs": [],
   "source": [],
   "metadata": {
    "collapsed": false
   }
  }
 ],
 "metadata": {
  "kernelspec": {
   "display_name": "Python 3",
   "language": "python",
   "name": "python3"
  },
  "language_info": {
   "codemirror_mode": {
    "name": "ipython",
    "version": 2
   },
   "file_extension": ".py",
   "mimetype": "text/x-python",
   "name": "python",
   "nbconvert_exporter": "python",
   "pygments_lexer": "ipython2",
   "version": "2.7.6"
  }
 },
 "nbformat": 4,
 "nbformat_minor": 0
}
