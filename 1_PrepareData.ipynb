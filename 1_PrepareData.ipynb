{
 "cells": [
  {
   "cell_type": "code",
   "execution_count": 1,
   "metadata": {
    "collapsed": true
   },
   "outputs": [],
   "source": [
    "%reset\n",
    "import os\n",
    "import datetime\n",
    "\n",
    "import pandas as pd\n",
    "import matplotlib.pyplot as plt\n",
    "import numpy as np\n",
    "\n",
    "import ta\n",
    "\n",
    "RawStockDataDirectory = 'StockData/Raw/'\n",
    "ProcessedStockDataDirectory = 'StockData/Processed/'"
   ]
  },
  {
   "cell_type": "code",
   "execution_count": 2,
   "outputs": [],
   "source": [
    "allData = list()\n",
    "\n",
    "for stockData in os.listdir(RawStockDataDirectory):\n",
    "    allData.append(pd.read_csv(RawStockDataDirectory + stockData, usecols=[1,2,3,4,5]))"
   ],
   "metadata": {
    "collapsed": false
   }
  },
  {
   "cell_type": "code",
   "execution_count": 3,
   "outputs": [
    {
     "data": {
      "text/plain": "             Open        High         Low       Close     Volume\n0        0.099874    0.100308    0.099874    0.099874  469033600\n1        0.095098    0.095098    0.094663    0.094663  175884800\n2        0.088149    0.088149    0.087715    0.087715  105728000\n3        0.089886    0.090320    0.089886    0.089886   86441600\n4        0.092492    0.092927    0.092492    0.092492   73449600\n...           ...         ...         ...         ...        ...\n10616  138.119995  143.320007  137.899994  141.110001   81760300\n10617  140.309998  143.160004  140.300003  142.529999   66435100\n10618  140.889999  142.429993  138.809998  141.860001   65799300\n10619  143.169998  144.250000  141.899994  143.960007   54105100\n10620  143.160004  147.229996  143.080002  145.929993   70492800\n\n[10621 rows x 5 columns]",
      "text/html": "<div>\n<style scoped>\n    .dataframe tbody tr th:only-of-type {\n        vertical-align: middle;\n    }\n\n    .dataframe tbody tr th {\n        vertical-align: top;\n    }\n\n    .dataframe thead th {\n        text-align: right;\n    }\n</style>\n<table border=\"1\" class=\"dataframe\">\n  <thead>\n    <tr style=\"text-align: right;\">\n      <th></th>\n      <th>Open</th>\n      <th>High</th>\n      <th>Low</th>\n      <th>Close</th>\n      <th>Volume</th>\n    </tr>\n  </thead>\n  <tbody>\n    <tr>\n      <th>0</th>\n      <td>0.099874</td>\n      <td>0.100308</td>\n      <td>0.099874</td>\n      <td>0.099874</td>\n      <td>469033600</td>\n    </tr>\n    <tr>\n      <th>1</th>\n      <td>0.095098</td>\n      <td>0.095098</td>\n      <td>0.094663</td>\n      <td>0.094663</td>\n      <td>175884800</td>\n    </tr>\n    <tr>\n      <th>2</th>\n      <td>0.088149</td>\n      <td>0.088149</td>\n      <td>0.087715</td>\n      <td>0.087715</td>\n      <td>105728000</td>\n    </tr>\n    <tr>\n      <th>3</th>\n      <td>0.089886</td>\n      <td>0.090320</td>\n      <td>0.089886</td>\n      <td>0.089886</td>\n      <td>86441600</td>\n    </tr>\n    <tr>\n      <th>4</th>\n      <td>0.092492</td>\n      <td>0.092927</td>\n      <td>0.092492</td>\n      <td>0.092492</td>\n      <td>73449600</td>\n    </tr>\n    <tr>\n      <th>...</th>\n      <td>...</td>\n      <td>...</td>\n      <td>...</td>\n      <td>...</td>\n      <td>...</td>\n    </tr>\n    <tr>\n      <th>10616</th>\n      <td>138.119995</td>\n      <td>143.320007</td>\n      <td>137.899994</td>\n      <td>141.110001</td>\n      <td>81760300</td>\n    </tr>\n    <tr>\n      <th>10617</th>\n      <td>140.309998</td>\n      <td>143.160004</td>\n      <td>140.300003</td>\n      <td>142.529999</td>\n      <td>66435100</td>\n    </tr>\n    <tr>\n      <th>10618</th>\n      <td>140.889999</td>\n      <td>142.429993</td>\n      <td>138.809998</td>\n      <td>141.860001</td>\n      <td>65799300</td>\n    </tr>\n    <tr>\n      <th>10619</th>\n      <td>143.169998</td>\n      <td>144.250000</td>\n      <td>141.899994</td>\n      <td>143.960007</td>\n      <td>54105100</td>\n    </tr>\n    <tr>\n      <th>10620</th>\n      <td>143.160004</td>\n      <td>147.229996</td>\n      <td>143.080002</td>\n      <td>145.929993</td>\n      <td>70492800</td>\n    </tr>\n  </tbody>\n</table>\n<p>10621 rows × 5 columns</p>\n</div>"
     },
     "execution_count": 3,
     "metadata": {},
     "output_type": "execute_result"
    }
   ],
   "source": [
    "allData[0]"
   ],
   "metadata": {
    "collapsed": false
   }
  },
  {
   "cell_type": "code",
   "execution_count": 4,
   "outputs": [],
   "source": [
    "count = 1\n",
    "for stock in allData:\n",
    "    # Calculate moving averages\n",
    "    stock['MA10'] = stock['Close'].rolling(window=10).mean()\n",
    "    stock['MA20'] = stock['Close'].rolling(window=20).mean()\n",
    "    stock['MA50'] = stock['Close'].rolling(window=50).mean()\n",
    "    stock['MA100'] = stock['Close'].rolling(window=100).mean()\n",
    "    stock['MA200'] = stock['Close'].rolling(window=200).mean()\n",
    "\n",
    "    # Calculate RSI\n",
    "    stock['RSI'] = ta.momentum.rsi(stock['Close'], window=14)\n",
    "\n",
    "    # Calculate Bollinger Bands\n",
    "    BB = ta.volatility.BollingerBands(stock['Close'])\n",
    "    stock['BBup'], stock['BBmid'], stock['BBlow'] = BB.bollinger_hband(), BB.bollinger_mavg(), BB.bollinger_lband()\n",
    "\n",
    "    # Calculate MACD\n",
    "    MACD = ta.trend.MACD(stock['Close'])\n",
    "    stock['MACD'], stock['MACDsig'], stock['MACDdiff'] = MACD.macd(), MACD.macd_signal(), MACD.macd_diff()\n",
    "\n",
    "    # Calculate ROC\n",
    "    stock['ROC'] = ta.momentum.ROCIndicator(stock['Close']).roc()\n",
    "\n",
    "    # Calculate KAMA\n",
    "    stock['KAMA'] = ta.momentum.kama(stock['Close'])\n",
    "\n",
    "    # Calculate OBV\n",
    "    stock['OBX'] = ta.volume.OnBalanceVolumeIndicator(close=stock['Close'], volume=stock['Volume']).on_balance_volume()\n",
    "\n",
    "    # Calculate STOCH\n",
    "    STOCH = ta.momentum.StochasticOscillator(close=stock['Close'], high=stock['High'], low=stock['Low'])\n",
    "    stock['STOCH'] = STOCH.stoch()\n",
    "    stock['STOCHsig'] = STOCH.stoch_signal()\n",
    "\n",
    "    stock.dropna(inplace=True)\n",
    "    stock.reset_index(drop=True, inplace=True)\n",
    "\n",
    "    stock.to_csv(ProcessedStockDataDirectory + \"Processed_\" + str(count))\n",
    "    count += 1"
   ],
   "metadata": {
    "collapsed": false
   }
  },
  {
   "cell_type": "code",
   "execution_count": 5,
   "outputs": [
    {
     "data": {
      "text/plain": "             Open        High         Low       Close    Volume        MA10  \\\n0        0.049937    0.050371    0.049937    0.049937  91728000    0.058448   \n1        0.052542    0.052976    0.052542    0.052542  94684800    0.057276   \n2        0.052976    0.053411    0.052976    0.052976  49996800    0.056277   \n3        0.052976    0.053411    0.052976    0.052976  61129600    0.055452   \n4        0.057319    0.057753    0.057319    0.057319  45046400    0.055018   \n...           ...         ...         ...         ...       ...         ...   \n10417  138.119995  143.320007  137.899994  141.110001  81760300  134.794000   \n10418  140.309998  143.160004  140.300003  142.529999  66435100  136.032001   \n10419  140.889999  142.429993  138.809998  141.860001  65799300  137.145001   \n10420  143.169998  144.250000  141.899994  143.960007  54105100  138.192001   \n10421  143.160004  147.229996  143.080002  145.929993  70492800  139.444000   \n\n             MA20        MA50       MA100       MA200  ...       BBmid  \\\n0        0.064354    0.073681    0.086830    0.091919  ...    0.064354   \n1        0.063485    0.073056    0.086391    0.091682  ...    0.063485   \n2        0.062421    0.072448    0.085948    0.091474  ...    0.062421   \n3        0.061292    0.071935    0.085527    0.091300  ...    0.061292   \n4        0.060576    0.071466    0.085149    0.091137  ...    0.060576   \n...           ...         ...         ...         ...  ...         ...   \n10417  131.685499  139.215399  143.749921  148.521099  ...  131.685499   \n10418  132.200499  139.368599  143.588753  148.378469  ...  132.200499   \n10419  132.700499  139.268399  143.437757  148.230945  ...  132.700499   \n10420  133.397000  139.153599  143.300373  148.104125  ...  133.397000   \n10421  134.391499  139.106599  143.204153  148.008757  ...  134.391499   \n\n            BBlow      MACD   MACDsig  MACDdiff        ROC        KAMA  \\\n0        0.050105 -0.006029 -0.004929 -0.001100 -27.673372    0.053634   \n1        0.048595 -0.006080 -0.005160 -0.000921 -22.930672    0.053436   \n2        0.047721 -0.006016 -0.005331 -0.000685 -19.736863    0.053367   \n3        0.047352 -0.005898 -0.005444 -0.000453 -17.567731    0.053317   \n4        0.047386 -0.005391 -0.005434  0.000042  -8.964986    0.053462   \n...           ...       ...       ...       ...        ...         ...   \n10417  123.288547 -0.039581 -1.694167  1.654586  11.672998  137.123860   \n10418  122.561555  0.566284 -1.242077  1.808361  14.005761  139.050589   \n10419  122.186354  0.981064 -0.797449  1.778513   9.442992  139.870324   \n10420  121.884581  1.462376 -0.345484  1.807860  10.610844  141.036311   \n10421  122.177992  1.979957  0.119605  1.860352  11.627016  142.552464   \n\n                OBX      STOCH   STOCHsig  \n0         -87180800   2.173659   0.724553  \n1           7504000  15.216113   5.796591  \n2          57500800  18.180337  11.856703  \n3         118630400  20.511872  17.969441  \n4         163676800  51.430994  30.041068  \n...             ...        ...        ...  \n10417  224228370400  88.459500  86.734882  \n10418  224294805500  95.743490  93.026100  \n10419  224229006200  92.133587  92.112192  \n10420  224283111300  98.502101  95.459726  \n10421  224353604100  93.197263  94.610984  \n\n[10422 rows x 22 columns]",
      "text/html": "<div>\n<style scoped>\n    .dataframe tbody tr th:only-of-type {\n        vertical-align: middle;\n    }\n\n    .dataframe tbody tr th {\n        vertical-align: top;\n    }\n\n    .dataframe thead th {\n        text-align: right;\n    }\n</style>\n<table border=\"1\" class=\"dataframe\">\n  <thead>\n    <tr style=\"text-align: right;\">\n      <th></th>\n      <th>Open</th>\n      <th>High</th>\n      <th>Low</th>\n      <th>Close</th>\n      <th>Volume</th>\n      <th>MA10</th>\n      <th>MA20</th>\n      <th>MA50</th>\n      <th>MA100</th>\n      <th>MA200</th>\n      <th>...</th>\n      <th>BBmid</th>\n      <th>BBlow</th>\n      <th>MACD</th>\n      <th>MACDsig</th>\n      <th>MACDdiff</th>\n      <th>ROC</th>\n      <th>KAMA</th>\n      <th>OBX</th>\n      <th>STOCH</th>\n      <th>STOCHsig</th>\n    </tr>\n  </thead>\n  <tbody>\n    <tr>\n      <th>0</th>\n      <td>0.049937</td>\n      <td>0.050371</td>\n      <td>0.049937</td>\n      <td>0.049937</td>\n      <td>91728000</td>\n      <td>0.058448</td>\n      <td>0.064354</td>\n      <td>0.073681</td>\n      <td>0.086830</td>\n      <td>0.091919</td>\n      <td>...</td>\n      <td>0.064354</td>\n      <td>0.050105</td>\n      <td>-0.006029</td>\n      <td>-0.004929</td>\n      <td>-0.001100</td>\n      <td>-27.673372</td>\n      <td>0.053634</td>\n      <td>-87180800</td>\n      <td>2.173659</td>\n      <td>0.724553</td>\n    </tr>\n    <tr>\n      <th>1</th>\n      <td>0.052542</td>\n      <td>0.052976</td>\n      <td>0.052542</td>\n      <td>0.052542</td>\n      <td>94684800</td>\n      <td>0.057276</td>\n      <td>0.063485</td>\n      <td>0.073056</td>\n      <td>0.086391</td>\n      <td>0.091682</td>\n      <td>...</td>\n      <td>0.063485</td>\n      <td>0.048595</td>\n      <td>-0.006080</td>\n      <td>-0.005160</td>\n      <td>-0.000921</td>\n      <td>-22.930672</td>\n      <td>0.053436</td>\n      <td>7504000</td>\n      <td>15.216113</td>\n      <td>5.796591</td>\n    </tr>\n    <tr>\n      <th>2</th>\n      <td>0.052976</td>\n      <td>0.053411</td>\n      <td>0.052976</td>\n      <td>0.052976</td>\n      <td>49996800</td>\n      <td>0.056277</td>\n      <td>0.062421</td>\n      <td>0.072448</td>\n      <td>0.085948</td>\n      <td>0.091474</td>\n      <td>...</td>\n      <td>0.062421</td>\n      <td>0.047721</td>\n      <td>-0.006016</td>\n      <td>-0.005331</td>\n      <td>-0.000685</td>\n      <td>-19.736863</td>\n      <td>0.053367</td>\n      <td>57500800</td>\n      <td>18.180337</td>\n      <td>11.856703</td>\n    </tr>\n    <tr>\n      <th>3</th>\n      <td>0.052976</td>\n      <td>0.053411</td>\n      <td>0.052976</td>\n      <td>0.052976</td>\n      <td>61129600</td>\n      <td>0.055452</td>\n      <td>0.061292</td>\n      <td>0.071935</td>\n      <td>0.085527</td>\n      <td>0.091300</td>\n      <td>...</td>\n      <td>0.061292</td>\n      <td>0.047352</td>\n      <td>-0.005898</td>\n      <td>-0.005444</td>\n      <td>-0.000453</td>\n      <td>-17.567731</td>\n      <td>0.053317</td>\n      <td>118630400</td>\n      <td>20.511872</td>\n      <td>17.969441</td>\n    </tr>\n    <tr>\n      <th>4</th>\n      <td>0.057319</td>\n      <td>0.057753</td>\n      <td>0.057319</td>\n      <td>0.057319</td>\n      <td>45046400</td>\n      <td>0.055018</td>\n      <td>0.060576</td>\n      <td>0.071466</td>\n      <td>0.085149</td>\n      <td>0.091137</td>\n      <td>...</td>\n      <td>0.060576</td>\n      <td>0.047386</td>\n      <td>-0.005391</td>\n      <td>-0.005434</td>\n      <td>0.000042</td>\n      <td>-8.964986</td>\n      <td>0.053462</td>\n      <td>163676800</td>\n      <td>51.430994</td>\n      <td>30.041068</td>\n    </tr>\n    <tr>\n      <th>...</th>\n      <td>...</td>\n      <td>...</td>\n      <td>...</td>\n      <td>...</td>\n      <td>...</td>\n      <td>...</td>\n      <td>...</td>\n      <td>...</td>\n      <td>...</td>\n      <td>...</td>\n      <td>...</td>\n      <td>...</td>\n      <td>...</td>\n      <td>...</td>\n      <td>...</td>\n      <td>...</td>\n      <td>...</td>\n      <td>...</td>\n      <td>...</td>\n      <td>...</td>\n      <td>...</td>\n    </tr>\n    <tr>\n      <th>10417</th>\n      <td>138.119995</td>\n      <td>143.320007</td>\n      <td>137.899994</td>\n      <td>141.110001</td>\n      <td>81760300</td>\n      <td>134.794000</td>\n      <td>131.685499</td>\n      <td>139.215399</td>\n      <td>143.749921</td>\n      <td>148.521099</td>\n      <td>...</td>\n      <td>131.685499</td>\n      <td>123.288547</td>\n      <td>-0.039581</td>\n      <td>-1.694167</td>\n      <td>1.654586</td>\n      <td>11.672998</td>\n      <td>137.123860</td>\n      <td>224228370400</td>\n      <td>88.459500</td>\n      <td>86.734882</td>\n    </tr>\n    <tr>\n      <th>10418</th>\n      <td>140.309998</td>\n      <td>143.160004</td>\n      <td>140.300003</td>\n      <td>142.529999</td>\n      <td>66435100</td>\n      <td>136.032001</td>\n      <td>132.200499</td>\n      <td>139.368599</td>\n      <td>143.588753</td>\n      <td>148.378469</td>\n      <td>...</td>\n      <td>132.200499</td>\n      <td>122.561555</td>\n      <td>0.566284</td>\n      <td>-1.242077</td>\n      <td>1.808361</td>\n      <td>14.005761</td>\n      <td>139.050589</td>\n      <td>224294805500</td>\n      <td>95.743490</td>\n      <td>93.026100</td>\n    </tr>\n    <tr>\n      <th>10419</th>\n      <td>140.889999</td>\n      <td>142.429993</td>\n      <td>138.809998</td>\n      <td>141.860001</td>\n      <td>65799300</td>\n      <td>137.145001</td>\n      <td>132.700499</td>\n      <td>139.268399</td>\n      <td>143.437757</td>\n      <td>148.230945</td>\n      <td>...</td>\n      <td>132.700499</td>\n      <td>122.186354</td>\n      <td>0.981064</td>\n      <td>-0.797449</td>\n      <td>1.778513</td>\n      <td>9.442992</td>\n      <td>139.870324</td>\n      <td>224229006200</td>\n      <td>92.133587</td>\n      <td>92.112192</td>\n    </tr>\n    <tr>\n      <th>10420</th>\n      <td>143.169998</td>\n      <td>144.250000</td>\n      <td>141.899994</td>\n      <td>143.960007</td>\n      <td>54105100</td>\n      <td>138.192001</td>\n      <td>133.397000</td>\n      <td>139.153599</td>\n      <td>143.300373</td>\n      <td>148.104125</td>\n      <td>...</td>\n      <td>133.397000</td>\n      <td>121.884581</td>\n      <td>1.462376</td>\n      <td>-0.345484</td>\n      <td>1.807860</td>\n      <td>10.610844</td>\n      <td>141.036311</td>\n      <td>224283111300</td>\n      <td>98.502101</td>\n      <td>95.459726</td>\n    </tr>\n    <tr>\n      <th>10421</th>\n      <td>143.160004</td>\n      <td>147.229996</td>\n      <td>143.080002</td>\n      <td>145.929993</td>\n      <td>70492800</td>\n      <td>139.444000</td>\n      <td>134.391499</td>\n      <td>139.106599</td>\n      <td>143.204153</td>\n      <td>148.008757</td>\n      <td>...</td>\n      <td>134.391499</td>\n      <td>122.177992</td>\n      <td>1.979957</td>\n      <td>0.119605</td>\n      <td>1.860352</td>\n      <td>11.627016</td>\n      <td>142.552464</td>\n      <td>224353604100</td>\n      <td>93.197263</td>\n      <td>94.610984</td>\n    </tr>\n  </tbody>\n</table>\n<p>10422 rows × 22 columns</p>\n</div>"
     },
     "execution_count": 5,
     "metadata": {},
     "output_type": "execute_result"
    }
   ],
   "source": [
    "allData[0]"
   ],
   "metadata": {
    "collapsed": false
   }
  },
  {
   "cell_type": "code",
   "execution_count": 5,
   "outputs": [],
   "source": [],
   "metadata": {
    "collapsed": false
   }
  }
 ],
 "metadata": {
  "kernelspec": {
   "display_name": "Python 3",
   "language": "python",
   "name": "python3"
  },
  "language_info": {
   "codemirror_mode": {
    "name": "ipython",
    "version": 2
   },
   "file_extension": ".py",
   "mimetype": "text/x-python",
   "name": "python",
   "nbconvert_exporter": "python",
   "pygments_lexer": "ipython2",
   "version": "2.7.6"
  }
 },
 "nbformat": 4,
 "nbformat_minor": 0
}
