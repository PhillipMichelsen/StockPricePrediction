{
 "cells": [
  {
   "cell_type": "code",
   "execution_count": 1,
   "metadata": {
    "collapsed": true,
    "ExecuteTime": {
     "end_time": "2023-05-18T14:42:41.989996772Z",
     "start_time": "2023-05-18T14:42:39.558422239Z"
    }
   },
   "outputs": [
    {
     "name": "stdout",
     "output_type": "stream",
     "text": [
      "env: HSA_OVERRIDE_GFX_VERSION=10.3.0\n"
     ]
    }
   ],
   "source": [
    "%reset\n",
    "%env HSA_OVERRIDE_GFX_VERSION=10.3.0"
   ]
  },
  {
   "cell_type": "code",
   "execution_count": 2,
   "outputs": [],
   "source": [
    "import os\n",
    "import warnings\n",
    "\n",
    "import torch\n",
    "from torch.utils.data import Dataset, DataLoader\n",
    "from torch import nn\n",
    "from torchinfo import summary\n",
    "from Classes import StockData, LSTM\n",
    "\n",
    "from sklearn.preprocessing import MinMaxScaler\n",
    "from sklearn.metrics import mean_squared_error, mean_absolute_error, r2_score\n",
    "\n",
    "import pandas as pd\n",
    "import numpy as np\n",
    "import matplotlib.pyplot as plt\n",
    "import ta\n",
    "\n",
    "warnings.filterwarnings(\"ignore\", category=UserWarning)\n",
    "\n",
    "RawStockDataDirectory = 'Data/Raw/Stock'\n",
    "ProcessedStockDataDirectory = 'Data/Processed/'\n",
    "DatasetsDirectory = 'Data/Datasets/Stock_100'\n",
    "\n",
    "inputLength = 90\n",
    "outputLength = 14"
   ],
   "metadata": {
    "collapsed": false,
    "ExecuteTime": {
     "end_time": "2023-05-18T14:47:46.174118811Z",
     "start_time": "2023-05-18T14:42:41.964303173Z"
    }
   }
  },
  {
   "cell_type": "code",
   "execution_count": 3,
   "outputs": [],
   "source": [
    "torch.cuda.is_available()\n",
    "device = torch.device('cuda')"
   ],
   "metadata": {
    "collapsed": false,
    "ExecuteTime": {
     "end_time": "2023-05-18T14:47:54.619399461Z",
     "start_time": "2023-05-18T14:47:46.173146169Z"
    }
   }
  },
  {
   "cell_type": "code",
   "execution_count": 4,
   "outputs": [
    {
     "data": {
      "text/plain": "LSTM(\n  (lstm): LSTM(22, 256, num_layers=5, batch_first=True, dropout=0.3)\n  (fc): Linear(in_features=256, out_features=14, bias=True)\n  (dropout): Dropout(p=0.3, inplace=False)\n)"
     },
     "execution_count": 4,
     "metadata": {},
     "output_type": "execute_result"
    }
   ],
   "source": [
    "model = LSTM(22,256,5,14)\n",
    "model.load_state_dict(torch.load('Models/I(90,22)_O(14,1)_256HS_5L_256B/test01.pt'))\n",
    "model.to(device)\n",
    "model.eval()"
   ],
   "metadata": {
    "collapsed": false,
    "ExecuteTime": {
     "end_time": "2023-05-18T14:47:56.259930645Z",
     "start_time": "2023-05-18T14:47:54.621033498Z"
    }
   }
  },
  {
   "cell_type": "code",
   "execution_count": 5,
   "outputs": [],
   "source": [
    "data = pd.read_csv('Data/Raw/Stock/NVDA', usecols=[1,2,3,4,5])"
   ],
   "metadata": {
    "collapsed": false,
    "ExecuteTime": {
     "end_time": "2023-05-18T14:47:56.304595115Z",
     "start_time": "2023-05-18T14:47:56.259558309Z"
    }
   }
  },
  {
   "cell_type": "code",
   "execution_count": 6,
   "outputs": [],
   "source": [
    "# Calculate moving averages\n",
    "data['MA10'] = data['Close'].rolling(window=10).mean()\n",
    "data['MA20'] = data['Close'].rolling(window=20).mean()\n",
    "data['MA50'] = data['Close'].rolling(window=50).mean()\n",
    "data['MA100'] = data['Close'].rolling(window=100).mean()\n",
    "data['MA200'] = data['Close'].rolling(window=200).mean()\n",
    "\n",
    "# Calculate RSI\n",
    "data['RSI'] = ta.momentum.rsi(data['Close'], window=14)\n",
    "\n",
    "# Calculate Bollinger Bands\n",
    "BB = ta.volatility.BollingerBands(data['Close'])\n",
    "data['BBup'], data['BBmid'], data['BBlow'] = BB.bollinger_hband(), BB.bollinger_mavg(), BB.bollinger_lband()\n",
    "\n",
    "# Calculate MACD\n",
    "MACD = ta.trend.MACD(data['Close'])\n",
    "data['MACD'], data['MACDsig'], data['MACDdiff'] = MACD.macd(), MACD.macd_signal(), MACD.macd_diff()\n",
    "\n",
    "# Calculate ROC\n",
    "data['ROC'] = ta.momentum.ROCIndicator(data['Close']).roc()\n",
    "\n",
    "# Calculate KAMA\n",
    "data['KAMA'] = ta.momentum.kama(data['Close'])\n",
    "\n",
    "# Calculate OBV\n",
    "data['OBX'] = ta.volume.OnBalanceVolumeIndicator(close=data['Close'], volume=data['Volume']).on_balance_volume()\n",
    "\n",
    "# Calculate STOCH\n",
    "STOCH = ta.momentum.StochasticOscillator(close=data['Close'], high=data['High'], low=data['Low'])\n",
    "data['STOCH'] = STOCH.stoch()\n",
    "data['STOCHsig'] = STOCH.stoch_signal()\n",
    "\n",
    "data.dropna(inplace=True)\n",
    "data.reset_index(drop=True, inplace=True)"
   ],
   "metadata": {
    "collapsed": false,
    "ExecuteTime": {
     "end_time": "2023-05-18T14:47:56.407953787Z",
     "start_time": "2023-05-18T14:47:56.304846302Z"
    }
   }
  },
  {
   "cell_type": "code",
   "execution_count": 7,
   "outputs": [
    {
     "data": {
      "text/plain": "            Open        High         Low       Close     Volume        MA10   \n0       0.530485    0.572303    0.530485    0.557965  126033600    0.446970  \\\n1       0.573498    0.578277    0.513759    0.540044   61636800    0.459754   \n2       0.523317    0.571108    0.506589    0.555576   47001600    0.476123   \n3       0.554381    0.556771    0.525706    0.547212   27235200    0.487832   \n4       0.549004    0.549602    0.531680    0.542433   14404800    0.500974   \n...          ...         ...         ...         ...        ...         ...   \n5916  288.959991  289.500000  282.459991  285.779999   32214900  284.097998   \n5917  285.290009  287.799988  280.459991  283.399994   27402700  284.688998   \n5918  285.079987  289.690002  281.519989  289.529999   29392600  284.731998   \n5919  288.410004  298.700012  288.320007  292.130005   44940500  285.734998   \n5920  295.839996  301.989990  294.299988  301.779999   43117900  288.110999   \n\n            MA20        MA50       MA100       MA200  ...       BBmid   \n0       0.428630    0.440769    0.415583    0.392329  ...    0.428630  \\\n1       0.433170    0.442155    0.417638    0.393148  ...    0.433170   \n2       0.439084    0.443326    0.419944    0.393847  ...    0.439084   \n3       0.444879    0.444365    0.422286    0.394665  ...    0.444879   \n4       0.451032    0.444461    0.424412    0.395466  ...    0.451032   \n...          ...         ...         ...         ...  ...         ...   \n5916  277.572000  265.389396  226.709130  188.803277  ...  277.572000   \n5917  278.363000  266.395388  227.886311  189.331419  ...  278.363000   \n5918  279.338501  267.408800  229.156487  189.880519  ...  279.338501   \n5919  280.111501  268.541400  230.469561  190.433675  ...  280.111501   \n5920  281.235001  269.919400  231.837541  191.021191  ...  281.235001   \n\n           BBlow      MACD   MACDsig  MACDdiff        ROC        KAMA   \n0       0.338104  0.020395  0.003349  0.017046  50.160738    0.449806  \\\n1       0.330651  0.025454  0.007770  0.017685  40.372668    0.460157   \n2       0.323483  0.030368  0.012289  0.018078  37.982234    0.477120   \n3       0.320157  0.033204  0.016472  0.016731  32.753480    0.485754   \n4       0.319970  0.034666  0.020111  0.014555  38.414750    0.495094   \n...          ...       ...       ...       ...        ...         ...   \n5916  261.353605  6.524162  6.242398  0.281764   8.905909  275.707983   \n5917  262.635361  6.120837  6.218086 -0.097248   5.134292  275.835564   \n5918  263.383206  6.224093  6.219287  0.004806   6.343197  275.902105   \n5919  263.274587  6.441469  6.263723  0.177745   5.275871  276.533703   \n5920  261.942283  7.308171  6.472613  0.835558   4.386023  279.533726   \n\n              OBX      STOCH   STOCHsig  \n0      1057166400  93.103462  94.484927  \n1       995529600  82.123196  89.213482  \n2      1042531200  89.017496  88.081384  \n3      1015296000  84.883686  85.341459  \n4      1000891200  81.012758  84.971313  \n...           ...        ...        ...  \n5916  16737231300  78.564238  81.903134  \n5917  16709828600  70.617647  79.332187  \n5918  16739221200  89.710936  79.630940  \n5919  16784161700  79.753452  80.027345  \n5920  16827279600  99.328672  89.597686  \n\n[5921 rows x 22 columns]",
      "text/html": "<div>\n<style scoped>\n    .dataframe tbody tr th:only-of-type {\n        vertical-align: middle;\n    }\n\n    .dataframe tbody tr th {\n        vertical-align: top;\n    }\n\n    .dataframe thead th {\n        text-align: right;\n    }\n</style>\n<table border=\"1\" class=\"dataframe\">\n  <thead>\n    <tr style=\"text-align: right;\">\n      <th></th>\n      <th>Open</th>\n      <th>High</th>\n      <th>Low</th>\n      <th>Close</th>\n      <th>Volume</th>\n      <th>MA10</th>\n      <th>MA20</th>\n      <th>MA50</th>\n      <th>MA100</th>\n      <th>MA200</th>\n      <th>...</th>\n      <th>BBmid</th>\n      <th>BBlow</th>\n      <th>MACD</th>\n      <th>MACDsig</th>\n      <th>MACDdiff</th>\n      <th>ROC</th>\n      <th>KAMA</th>\n      <th>OBX</th>\n      <th>STOCH</th>\n      <th>STOCHsig</th>\n    </tr>\n  </thead>\n  <tbody>\n    <tr>\n      <th>0</th>\n      <td>0.530485</td>\n      <td>0.572303</td>\n      <td>0.530485</td>\n      <td>0.557965</td>\n      <td>126033600</td>\n      <td>0.446970</td>\n      <td>0.428630</td>\n      <td>0.440769</td>\n      <td>0.415583</td>\n      <td>0.392329</td>\n      <td>...</td>\n      <td>0.428630</td>\n      <td>0.338104</td>\n      <td>0.020395</td>\n      <td>0.003349</td>\n      <td>0.017046</td>\n      <td>50.160738</td>\n      <td>0.449806</td>\n      <td>1057166400</td>\n      <td>93.103462</td>\n      <td>94.484927</td>\n    </tr>\n    <tr>\n      <th>1</th>\n      <td>0.573498</td>\n      <td>0.578277</td>\n      <td>0.513759</td>\n      <td>0.540044</td>\n      <td>61636800</td>\n      <td>0.459754</td>\n      <td>0.433170</td>\n      <td>0.442155</td>\n      <td>0.417638</td>\n      <td>0.393148</td>\n      <td>...</td>\n      <td>0.433170</td>\n      <td>0.330651</td>\n      <td>0.025454</td>\n      <td>0.007770</td>\n      <td>0.017685</td>\n      <td>40.372668</td>\n      <td>0.460157</td>\n      <td>995529600</td>\n      <td>82.123196</td>\n      <td>89.213482</td>\n    </tr>\n    <tr>\n      <th>2</th>\n      <td>0.523317</td>\n      <td>0.571108</td>\n      <td>0.506589</td>\n      <td>0.555576</td>\n      <td>47001600</td>\n      <td>0.476123</td>\n      <td>0.439084</td>\n      <td>0.443326</td>\n      <td>0.419944</td>\n      <td>0.393847</td>\n      <td>...</td>\n      <td>0.439084</td>\n      <td>0.323483</td>\n      <td>0.030368</td>\n      <td>0.012289</td>\n      <td>0.018078</td>\n      <td>37.982234</td>\n      <td>0.477120</td>\n      <td>1042531200</td>\n      <td>89.017496</td>\n      <td>88.081384</td>\n    </tr>\n    <tr>\n      <th>3</th>\n      <td>0.554381</td>\n      <td>0.556771</td>\n      <td>0.525706</td>\n      <td>0.547212</td>\n      <td>27235200</td>\n      <td>0.487832</td>\n      <td>0.444879</td>\n      <td>0.444365</td>\n      <td>0.422286</td>\n      <td>0.394665</td>\n      <td>...</td>\n      <td>0.444879</td>\n      <td>0.320157</td>\n      <td>0.033204</td>\n      <td>0.016472</td>\n      <td>0.016731</td>\n      <td>32.753480</td>\n      <td>0.485754</td>\n      <td>1015296000</td>\n      <td>84.883686</td>\n      <td>85.341459</td>\n    </tr>\n    <tr>\n      <th>4</th>\n      <td>0.549004</td>\n      <td>0.549602</td>\n      <td>0.531680</td>\n      <td>0.542433</td>\n      <td>14404800</td>\n      <td>0.500974</td>\n      <td>0.451032</td>\n      <td>0.444461</td>\n      <td>0.424412</td>\n      <td>0.395466</td>\n      <td>...</td>\n      <td>0.451032</td>\n      <td>0.319970</td>\n      <td>0.034666</td>\n      <td>0.020111</td>\n      <td>0.014555</td>\n      <td>38.414750</td>\n      <td>0.495094</td>\n      <td>1000891200</td>\n      <td>81.012758</td>\n      <td>84.971313</td>\n    </tr>\n    <tr>\n      <th>...</th>\n      <td>...</td>\n      <td>...</td>\n      <td>...</td>\n      <td>...</td>\n      <td>...</td>\n      <td>...</td>\n      <td>...</td>\n      <td>...</td>\n      <td>...</td>\n      <td>...</td>\n      <td>...</td>\n      <td>...</td>\n      <td>...</td>\n      <td>...</td>\n      <td>...</td>\n      <td>...</td>\n      <td>...</td>\n      <td>...</td>\n      <td>...</td>\n      <td>...</td>\n      <td>...</td>\n    </tr>\n    <tr>\n      <th>5916</th>\n      <td>288.959991</td>\n      <td>289.500000</td>\n      <td>282.459991</td>\n      <td>285.779999</td>\n      <td>32214900</td>\n      <td>284.097998</td>\n      <td>277.572000</td>\n      <td>265.389396</td>\n      <td>226.709130</td>\n      <td>188.803277</td>\n      <td>...</td>\n      <td>277.572000</td>\n      <td>261.353605</td>\n      <td>6.524162</td>\n      <td>6.242398</td>\n      <td>0.281764</td>\n      <td>8.905909</td>\n      <td>275.707983</td>\n      <td>16737231300</td>\n      <td>78.564238</td>\n      <td>81.903134</td>\n    </tr>\n    <tr>\n      <th>5917</th>\n      <td>285.290009</td>\n      <td>287.799988</td>\n      <td>280.459991</td>\n      <td>283.399994</td>\n      <td>27402700</td>\n      <td>284.688998</td>\n      <td>278.363000</td>\n      <td>266.395388</td>\n      <td>227.886311</td>\n      <td>189.331419</td>\n      <td>...</td>\n      <td>278.363000</td>\n      <td>262.635361</td>\n      <td>6.120837</td>\n      <td>6.218086</td>\n      <td>-0.097248</td>\n      <td>5.134292</td>\n      <td>275.835564</td>\n      <td>16709828600</td>\n      <td>70.617647</td>\n      <td>79.332187</td>\n    </tr>\n    <tr>\n      <th>5918</th>\n      <td>285.079987</td>\n      <td>289.690002</td>\n      <td>281.519989</td>\n      <td>289.529999</td>\n      <td>29392600</td>\n      <td>284.731998</td>\n      <td>279.338501</td>\n      <td>267.408800</td>\n      <td>229.156487</td>\n      <td>189.880519</td>\n      <td>...</td>\n      <td>279.338501</td>\n      <td>263.383206</td>\n      <td>6.224093</td>\n      <td>6.219287</td>\n      <td>0.004806</td>\n      <td>6.343197</td>\n      <td>275.902105</td>\n      <td>16739221200</td>\n      <td>89.710936</td>\n      <td>79.630940</td>\n    </tr>\n    <tr>\n      <th>5919</th>\n      <td>288.410004</td>\n      <td>298.700012</td>\n      <td>288.320007</td>\n      <td>292.130005</td>\n      <td>44940500</td>\n      <td>285.734998</td>\n      <td>280.111501</td>\n      <td>268.541400</td>\n      <td>230.469561</td>\n      <td>190.433675</td>\n      <td>...</td>\n      <td>280.111501</td>\n      <td>263.274587</td>\n      <td>6.441469</td>\n      <td>6.263723</td>\n      <td>0.177745</td>\n      <td>5.275871</td>\n      <td>276.533703</td>\n      <td>16784161700</td>\n      <td>79.753452</td>\n      <td>80.027345</td>\n    </tr>\n    <tr>\n      <th>5920</th>\n      <td>295.839996</td>\n      <td>301.989990</td>\n      <td>294.299988</td>\n      <td>301.779999</td>\n      <td>43117900</td>\n      <td>288.110999</td>\n      <td>281.235001</td>\n      <td>269.919400</td>\n      <td>231.837541</td>\n      <td>191.021191</td>\n      <td>...</td>\n      <td>281.235001</td>\n      <td>261.942283</td>\n      <td>7.308171</td>\n      <td>6.472613</td>\n      <td>0.835558</td>\n      <td>4.386023</td>\n      <td>279.533726</td>\n      <td>16827279600</td>\n      <td>99.328672</td>\n      <td>89.597686</td>\n    </tr>\n  </tbody>\n</table>\n<p>5921 rows × 22 columns</p>\n</div>"
     },
     "execution_count": 7,
     "metadata": {},
     "output_type": "execute_result"
    }
   ],
   "source": [
    "data"
   ],
   "metadata": {
    "collapsed": false,
    "ExecuteTime": {
     "end_time": "2023-05-18T14:47:56.460446984Z",
     "start_time": "2023-05-18T14:47:56.408792720Z"
    }
   }
  },
  {
   "cell_type": "code",
   "execution_count": 8,
   "outputs": [],
   "source": [
    "dataset = StockData(data)\n",
    "dataloader = DataLoader(dataset,shuffle=False, drop_last=False)"
   ],
   "metadata": {
    "collapsed": false,
    "ExecuteTime": {
     "end_time": "2023-05-18T14:47:57.777940517Z",
     "start_time": "2023-05-18T14:47:56.461370519Z"
    }
   }
  },
  {
   "cell_type": "code",
   "execution_count": 9,
   "outputs": [],
   "source": [
    "predictions = []\n",
    "actual = []"
   ],
   "metadata": {
    "collapsed": false,
    "ExecuteTime": {
     "end_time": "2023-05-18T14:47:57.779443279Z",
     "start_time": "2023-05-18T14:47:57.778214842Z"
    }
   }
  },
  {
   "cell_type": "code",
   "execution_count": 10,
   "outputs": [],
   "source": [
    "for i, (x,y) in enumerate(dataloader):\n",
    "    if i == 0:\n",
    "        actual.append(x.float().numpy().reshape(90,22)[:,3])\n",
    "\n",
    "        for nan in range(inputLength):\n",
    "            predictions.append(np.array([[np.nan]]))\n",
    "\n",
    "        x = x.float().to(device)\n",
    "        with torch.no_grad():\n",
    "            modelPrediction = model(x)\n",
    "\n",
    "        predictions.append(modelPrediction.cpu().numpy().reshape(14,1))\n",
    "\n",
    "        continue\n",
    "\n",
    "    if (i-14) % 90 == 0:\n",
    "        for nan in range(inputLength - outputLength):\n",
    "            predictions.append(np.array([[np.nan]]))\n",
    "\n",
    "        x = x.float().to(device)\n",
    "        with torch.no_grad():\n",
    "            modelPrediction = model(x)\n",
    "\n",
    "        predictions.append(modelPrediction.cpu().numpy().reshape(14,1))\n",
    "\n",
    "    if i % 90 == 0:\n",
    "        actual.append(x.float().numpy().reshape(90,22)[:,3])"
   ],
   "metadata": {
    "collapsed": false,
    "ExecuteTime": {
     "end_time": "2023-05-18T14:48:01.149008260Z",
     "start_time": "2023-05-18T14:47:57.781228996Z"
    }
   }
  },
  {
   "cell_type": "code",
   "execution_count": 11,
   "outputs": [],
   "source": [
    "actual = np.concatenate(actual).reshape(-1,1)\n",
    "predictions = np.concatenate(predictions).reshape(-1,1)\n",
    "\n",
    "actual = dataset.outputScaler.inverse_transform(actual)\n",
    "predictions = dataset.outputScaler.inverse_transform(predictions)"
   ],
   "metadata": {
    "collapsed": false,
    "ExecuteTime": {
     "end_time": "2023-05-18T14:48:01.153092089Z",
     "start_time": "2023-05-18T14:48:01.150210484Z"
    }
   }
  },
  {
   "cell_type": "code",
   "execution_count": 15,
   "outputs": [
    {
     "data": {
      "text/plain": "(-16.100493705272676, 349.99133733510973)"
     },
     "execution_count": 15,
     "metadata": {},
     "output_type": "execute_result"
    },
    {
     "data": {
      "text/plain": "<Figure size 640x480 with 1 Axes>",
      "image/png": "[encoded data removed]"
     },
     "metadata": {},
     "output_type": "display_data"
    }
   ],
   "source": [
    "plt.plot(actual)\n",
    "plt.plot(predictions)\n",
    "plt.xlim(5500,6000)\n",
    "plt.ylim()"
   ],
   "metadata": {
    "collapsed": false,
    "ExecuteTime": {
     "end_time": "2023-05-18T14:52:43.912263133Z",
     "start_time": "2023-05-18T14:52:43.838331348Z"
    }
   }
  },
  {
   "cell_type": "code",
   "execution_count": 12,
   "outputs": [],
   "source": [],
   "metadata": {
    "collapsed": false,
    "ExecuteTime": {
     "end_time": "2023-05-18T14:48:01.504250994Z",
     "start_time": "2023-05-18T14:48:01.501885354Z"
    }
   }
  }
 ],
 "metadata": {
  "kernelspec": {
   "display_name": "Python 3",
   "language": "python",
   "name": "python3"
  },
  "language_info": {
   "codemirror_mode": {
    "name": "ipython",
    "version": 2
   },
   "file_extension": ".py",
   "mimetype": "text/x-python",
   "name": "python",
   "nbconvert_exporter": "python",
   "pygments_lexer": "ipython2",
   "version": "2.7.6"
  }
 },
 "nbformat": 4,
 "nbformat_minor": 0
}
