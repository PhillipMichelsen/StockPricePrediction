{
 "cells": [
  {
   "cell_type": "code",
   "execution_count": 128,
   "metadata": {
    "collapsed": true
   },
   "outputs": [
    {
     "name": "stdout",
     "output_type": "stream",
     "text": [
      "env: HSA_OVERRIDE_GFX_VERSION=10.3.0\n"
     ]
    }
   ],
   "source": [
    "%reset\n",
    "%env HSA_OVERRIDE_GFX_VERSION=10.3.0"
   ]
  },
  {
   "cell_type": "code",
   "execution_count": 129,
   "outputs": [],
   "source": [
    "import os\n",
    "import warnings\n",
    "\n",
    "import torch\n",
    "from torch.utils.data import Dataset, DataLoader\n",
    "from torch import nn\n",
    "from torchinfo import summary\n",
    "from Classes import StockData, LSTM\n",
    "\n",
    "from sklearn.preprocessing import MinMaxScaler\n",
    "from sklearn.metrics import mean_squared_error, mean_absolute_error, r2_score\n",
    "\n",
    "import pandas as pd\n",
    "import numpy as np\n",
    "import matplotlib.pyplot as plt\n",
    "import ta\n",
    "\n",
    "warnings.filterwarnings(\"ignore\", category=UserWarning)\n",
    "\n",
    "RawStockDataDirectory = 'StockData/Raw/'\n",
    "ProcessedStockDataDirectory = 'StockData/Processed/'\n",
    "DatasetsDirectory = 'StockData/Datasets/'\n",
    "\n",
    "inputLength = 90\n",
    "outputLength = 14"
   ],
   "metadata": {
    "collapsed": false
   }
  },
  {
   "cell_type": "code",
   "execution_count": 130,
   "outputs": [],
   "source": [
    "torch.cuda.is_available()\n",
    "device = torch.device('cuda')"
   ],
   "metadata": {
    "collapsed": false
   }
  },
  {
   "cell_type": "code",
   "execution_count": 131,
   "outputs": [
    {
     "data": {
      "text/plain": "LSTM(\n  (lstm): LSTM(22, 128, num_layers=5, dropout=0.2)\n  (fc): Linear(in_features=128, out_features=14, bias=True)\n  (dropout): Dropout(p=0.2, inplace=False)\n)"
     },
     "execution_count": 131,
     "metadata": {},
     "output_type": "execute_result"
    }
   ],
   "source": [
    "model = LSTM(22,128,5,14)\n",
    "model.load_state_dict(torch.load('Models/I(90,22)_O(14,1)_128HS_5L_64B/Pass5.pt'))\n",
    "model.to(device)\n",
    "model.eval()"
   ],
   "metadata": {
    "collapsed": false
   }
  },
  {
   "cell_type": "code",
   "execution_count": 132,
   "outputs": [],
   "source": [
    "data = pd.read_csv('Data/Raw/Forex/EURUSD=X', usecols=[1,2,3,4,5])"
   ],
   "metadata": {
    "collapsed": false
   }
  },
  {
   "cell_type": "code",
   "execution_count": 133,
   "outputs": [],
   "source": [
    "# Calculate moving averages\n",
    "data['MA10'] = data['Close'].rolling(window=10).mean()\n",
    "data['MA20'] = data['Close'].rolling(window=20).mean()\n",
    "data['MA50'] = data['Close'].rolling(window=50).mean()\n",
    "data['MA100'] = data['Close'].rolling(window=100).mean()\n",
    "data['MA200'] = data['Close'].rolling(window=200).mean()\n",
    "\n",
    "# Calculate RSI\n",
    "data['RSI'] = ta.momentum.rsi(data['Close'], window=14)\n",
    "\n",
    "# Calculate Bollinger Bands\n",
    "BB = ta.volatility.BollingerBands(data['Close'])\n",
    "data['BBup'], data['BBmid'], data['BBlow'] = BB.bollinger_hband(), BB.bollinger_mavg(), BB.bollinger_lband()\n",
    "\n",
    "# Calculate MACD\n",
    "MACD = ta.trend.MACD(data['Close'])\n",
    "data['MACD'], data['MACDsig'], data['MACDdiff'] = MACD.macd(), MACD.macd_signal(), MACD.macd_diff()\n",
    "\n",
    "# Calculate ROC\n",
    "data['ROC'] = ta.momentum.ROCIndicator(data['Close']).roc()\n",
    "\n",
    "# Calculate KAMA\n",
    "data['KAMA'] = ta.momentum.kama(data['Close'])\n",
    "\n",
    "# Calculate OBV\n",
    "data['OBX'] = ta.volume.OnBalanceVolumeIndicator(close=data['Close'], volume=data['Volume']).on_balance_volume()\n",
    "\n",
    "# Calculate STOCH\n",
    "STOCH = ta.momentum.StochasticOscillator(close=data['Close'], high=data['High'], low=data['Low'])\n",
    "data['STOCH'] = STOCH.stoch()\n",
    "data['STOCHsig'] = STOCH.stoch_signal()\n",
    "\n",
    "data.dropna(inplace=True)\n",
    "data.reset_index(drop=True, inplace=True)"
   ],
   "metadata": {
    "collapsed": false
   }
  },
  {
   "cell_type": "code",
   "execution_count": 134,
   "outputs": [
    {
     "data": {
      "text/plain": "          Open      High       Low     Close  Volume      MA10      MA20  \\\n0     1.217493  1.218294  1.204602  1.205502       0  1.210842  1.220840   \n1     1.206302  1.208299  1.205197  1.206593       0  1.209982  1.219805   \n2     1.206797  1.211299  1.205705  1.209907       0  1.210153  1.219120   \n3     1.209907  1.219393  1.203297  1.218903       0  1.211182  1.218956   \n4     1.219096  1.224500  1.216293  1.224200       0  1.212612  1.218971   \n...        ...       ...       ...       ...     ...       ...       ...   \n4798  1.068833  1.069633  1.057161  1.068833       0  1.061823  1.066193   \n4799  1.055075  1.057328  1.052665  1.055075       0  1.060811  1.065298   \n4800  1.054953  1.058649  1.053852  1.054953       0  1.060248  1.064467   \n4801  1.058470  1.069862  1.057574  1.058470       0  1.060115  1.063679   \n4802  1.064169  1.064169  1.064169  1.064169       0  1.060984  1.063499   \n\n          MA50     MA100     MA200  ...     BBmid     BBlow      MACD  \\\n0     1.222006  1.213190  1.226859  ...  1.220840  1.197799 -0.002837   \n1     1.221764  1.213249  1.226909  ...  1.219805  1.196164 -0.003269   \n2     1.221766  1.213500  1.226914  ...  1.219120  1.195168 -0.003305   \n3     1.221776  1.213879  1.226947  ...  1.218956  1.195045 -0.002579   \n4     1.221936  1.214196  1.227028  ...  1.218971  1.195047 -0.001557   \n...        ...       ...       ...  ...       ...       ...       ...   \n4798  1.073060  1.050637  1.032960  ...  1.066193  1.055182 -0.003311   \n4799  1.072887  1.051324  1.032869  ...  1.065298  1.053741 -0.003820   \n4800  1.072727  1.052107  1.032816  ...  1.064467  1.052454 -0.004184   \n4801  1.072575  1.052913  1.032733  ...  1.063679  1.052279 -0.004142   \n4802  1.072439  1.053694  1.032691  ...  1.063499  1.052250 -0.003606   \n\n       MACDsig  MACDdiff       ROC      KAMA  OBX      STOCH   STOCHsig  \n0    -0.001721 -0.001116 -2.309735  1.214578    0  16.038695  37.501175  \n1    -0.002031 -0.001238 -2.473516  1.214341    0  18.814593  26.971507  \n2    -0.002286 -0.001019 -1.808812  1.214307    0  27.247246  20.700178  \n3    -0.002344 -0.000234  0.304723  1.214458    0  50.138780  32.066873  \n4    -0.002187  0.000630  1.324587  1.214909    0  76.687424  51.357817  \n...        ...       ...       ...       ...  ...        ...        ...  \n4798 -0.003463  0.000152  0.211633  1.067024    0  82.025935  50.308855  \n4799 -0.003535 -0.000285 -1.251311  1.066676    0  13.476331  46.469957  \n4800 -0.003664 -0.000520 -1.245900  1.066482    0  12.791783  36.098016  \n4801 -0.003760 -0.000382 -0.631903  1.066432    0  33.756178  20.008097  \n4802 -0.003729  0.000123  0.338403  1.066377    0  66.898191  37.815384  \n\n[4803 rows x 22 columns]",
      "text/html": "<div>\n<style scoped>\n    .dataframe tbody tr th:only-of-type {\n        vertical-align: middle;\n    }\n\n    .dataframe tbody tr th {\n        vertical-align: top;\n    }\n\n    .dataframe thead th {\n        text-align: right;\n    }\n</style>\n<table border=\"1\" class=\"dataframe\">\n  <thead>\n    <tr style=\"text-align: right;\">\n      <th></th>\n      <th>Open</th>\n      <th>High</th>\n      <th>Low</th>\n      <th>Close</th>\n      <th>Volume</th>\n      <th>MA10</th>\n      <th>MA20</th>\n      <th>MA50</th>\n      <th>MA100</th>\n      <th>MA200</th>\n      <th>...</th>\n      <th>BBmid</th>\n      <th>BBlow</th>\n      <th>MACD</th>\n      <th>MACDsig</th>\n      <th>MACDdiff</th>\n      <th>ROC</th>\n      <th>KAMA</th>\n      <th>OBX</th>\n      <th>STOCH</th>\n      <th>STOCHsig</th>\n    </tr>\n  </thead>\n  <tbody>\n    <tr>\n      <th>0</th>\n      <td>1.217493</td>\n      <td>1.218294</td>\n      <td>1.204602</td>\n      <td>1.205502</td>\n      <td>0</td>\n      <td>1.210842</td>\n      <td>1.220840</td>\n      <td>1.222006</td>\n      <td>1.213190</td>\n      <td>1.226859</td>\n      <td>...</td>\n      <td>1.220840</td>\n      <td>1.197799</td>\n      <td>-0.002837</td>\n      <td>-0.001721</td>\n      <td>-0.001116</td>\n      <td>-2.309735</td>\n      <td>1.214578</td>\n      <td>0</td>\n      <td>16.038695</td>\n      <td>37.501175</td>\n    </tr>\n    <tr>\n      <th>1</th>\n      <td>1.206302</td>\n      <td>1.208299</td>\n      <td>1.205197</td>\n      <td>1.206593</td>\n      <td>0</td>\n      <td>1.209982</td>\n      <td>1.219805</td>\n      <td>1.221764</td>\n      <td>1.213249</td>\n      <td>1.226909</td>\n      <td>...</td>\n      <td>1.219805</td>\n      <td>1.196164</td>\n      <td>-0.003269</td>\n      <td>-0.002031</td>\n      <td>-0.001238</td>\n      <td>-2.473516</td>\n      <td>1.214341</td>\n      <td>0</td>\n      <td>18.814593</td>\n      <td>26.971507</td>\n    </tr>\n    <tr>\n      <th>2</th>\n      <td>1.206797</td>\n      <td>1.211299</td>\n      <td>1.205705</td>\n      <td>1.209907</td>\n      <td>0</td>\n      <td>1.210153</td>\n      <td>1.219120</td>\n      <td>1.221766</td>\n      <td>1.213500</td>\n      <td>1.226914</td>\n      <td>...</td>\n      <td>1.219120</td>\n      <td>1.195168</td>\n      <td>-0.003305</td>\n      <td>-0.002286</td>\n      <td>-0.001019</td>\n      <td>-1.808812</td>\n      <td>1.214307</td>\n      <td>0</td>\n      <td>27.247246</td>\n      <td>20.700178</td>\n    </tr>\n    <tr>\n      <th>3</th>\n      <td>1.209907</td>\n      <td>1.219393</td>\n      <td>1.203297</td>\n      <td>1.218903</td>\n      <td>0</td>\n      <td>1.211182</td>\n      <td>1.218956</td>\n      <td>1.221776</td>\n      <td>1.213879</td>\n      <td>1.226947</td>\n      <td>...</td>\n      <td>1.218956</td>\n      <td>1.195045</td>\n      <td>-0.002579</td>\n      <td>-0.002344</td>\n      <td>-0.000234</td>\n      <td>0.304723</td>\n      <td>1.214458</td>\n      <td>0</td>\n      <td>50.138780</td>\n      <td>32.066873</td>\n    </tr>\n    <tr>\n      <th>4</th>\n      <td>1.219096</td>\n      <td>1.224500</td>\n      <td>1.216293</td>\n      <td>1.224200</td>\n      <td>0</td>\n      <td>1.212612</td>\n      <td>1.218971</td>\n      <td>1.221936</td>\n      <td>1.214196</td>\n      <td>1.227028</td>\n      <td>...</td>\n      <td>1.218971</td>\n      <td>1.195047</td>\n      <td>-0.001557</td>\n      <td>-0.002187</td>\n      <td>0.000630</td>\n      <td>1.324587</td>\n      <td>1.214909</td>\n      <td>0</td>\n      <td>76.687424</td>\n      <td>51.357817</td>\n    </tr>\n    <tr>\n      <th>...</th>\n      <td>...</td>\n      <td>...</td>\n      <td>...</td>\n      <td>...</td>\n      <td>...</td>\n      <td>...</td>\n      <td>...</td>\n      <td>...</td>\n      <td>...</td>\n      <td>...</td>\n      <td>...</td>\n      <td>...</td>\n      <td>...</td>\n      <td>...</td>\n      <td>...</td>\n      <td>...</td>\n      <td>...</td>\n      <td>...</td>\n      <td>...</td>\n      <td>...</td>\n      <td>...</td>\n    </tr>\n    <tr>\n      <th>4798</th>\n      <td>1.068833</td>\n      <td>1.069633</td>\n      <td>1.057161</td>\n      <td>1.068833</td>\n      <td>0</td>\n      <td>1.061823</td>\n      <td>1.066193</td>\n      <td>1.073060</td>\n      <td>1.050637</td>\n      <td>1.032960</td>\n      <td>...</td>\n      <td>1.066193</td>\n      <td>1.055182</td>\n      <td>-0.003311</td>\n      <td>-0.003463</td>\n      <td>0.000152</td>\n      <td>0.211633</td>\n      <td>1.067024</td>\n      <td>0</td>\n      <td>82.025935</td>\n      <td>50.308855</td>\n    </tr>\n    <tr>\n      <th>4799</th>\n      <td>1.055075</td>\n      <td>1.057328</td>\n      <td>1.052665</td>\n      <td>1.055075</td>\n      <td>0</td>\n      <td>1.060811</td>\n      <td>1.065298</td>\n      <td>1.072887</td>\n      <td>1.051324</td>\n      <td>1.032869</td>\n      <td>...</td>\n      <td>1.065298</td>\n      <td>1.053741</td>\n      <td>-0.003820</td>\n      <td>-0.003535</td>\n      <td>-0.000285</td>\n      <td>-1.251311</td>\n      <td>1.066676</td>\n      <td>0</td>\n      <td>13.476331</td>\n      <td>46.469957</td>\n    </tr>\n    <tr>\n      <th>4800</th>\n      <td>1.054953</td>\n      <td>1.058649</td>\n      <td>1.053852</td>\n      <td>1.054953</td>\n      <td>0</td>\n      <td>1.060248</td>\n      <td>1.064467</td>\n      <td>1.072727</td>\n      <td>1.052107</td>\n      <td>1.032816</td>\n      <td>...</td>\n      <td>1.064467</td>\n      <td>1.052454</td>\n      <td>-0.004184</td>\n      <td>-0.003664</td>\n      <td>-0.000520</td>\n      <td>-1.245900</td>\n      <td>1.066482</td>\n      <td>0</td>\n      <td>12.791783</td>\n      <td>36.098016</td>\n    </tr>\n    <tr>\n      <th>4801</th>\n      <td>1.058470</td>\n      <td>1.069862</td>\n      <td>1.057574</td>\n      <td>1.058470</td>\n      <td>0</td>\n      <td>1.060115</td>\n      <td>1.063679</td>\n      <td>1.072575</td>\n      <td>1.052913</td>\n      <td>1.032733</td>\n      <td>...</td>\n      <td>1.063679</td>\n      <td>1.052279</td>\n      <td>-0.004142</td>\n      <td>-0.003760</td>\n      <td>-0.000382</td>\n      <td>-0.631903</td>\n      <td>1.066432</td>\n      <td>0</td>\n      <td>33.756178</td>\n      <td>20.008097</td>\n    </tr>\n    <tr>\n      <th>4802</th>\n      <td>1.064169</td>\n      <td>1.064169</td>\n      <td>1.064169</td>\n      <td>1.064169</td>\n      <td>0</td>\n      <td>1.060984</td>\n      <td>1.063499</td>\n      <td>1.072439</td>\n      <td>1.053694</td>\n      <td>1.032691</td>\n      <td>...</td>\n      <td>1.063499</td>\n      <td>1.052250</td>\n      <td>-0.003606</td>\n      <td>-0.003729</td>\n      <td>0.000123</td>\n      <td>0.338403</td>\n      <td>1.066377</td>\n      <td>0</td>\n      <td>66.898191</td>\n      <td>37.815384</td>\n    </tr>\n  </tbody>\n</table>\n<p>4803 rows × 22 columns</p>\n</div>"
     },
     "execution_count": 134,
     "metadata": {},
     "output_type": "execute_result"
    }
   ],
   "source": [
    "data"
   ],
   "metadata": {
    "collapsed": false
   }
  },
  {
   "cell_type": "code",
   "execution_count": 135,
   "outputs": [],
   "source": [
    "dataset = StockData(data)\n",
    "dataloader = DataLoader(dataset,shuffle=False, drop_last=False)"
   ],
   "metadata": {
    "collapsed": false
   }
  },
  {
   "cell_type": "code",
   "execution_count": 136,
   "outputs": [],
   "source": [
    "predictions = []\n",
    "actual = []"
   ],
   "metadata": {
    "collapsed": false
   }
  },
  {
   "cell_type": "code",
   "execution_count": 137,
   "outputs": [],
   "source": [
    "for i, (x,y) in enumerate(dataloader):\n",
    "    if i == 0:\n",
    "        actual.append(x.float().numpy().reshape(90,22)[:,3])\n",
    "\n",
    "        for nan in range(inputLength):\n",
    "            predictions.append(np.array([[np.nan]]))\n",
    "\n",
    "        x = x.float().to(device)\n",
    "        with torch.no_grad():\n",
    "            modelPrediction = model(x)\n",
    "\n",
    "        predictions.append(modelPrediction.cpu().numpy().reshape(14,1))\n",
    "\n",
    "        continue\n",
    "\n",
    "    if (i-14) % 90 == 0:\n",
    "        for nan in range(inputLength - outputLength):\n",
    "            predictions.append(np.array([[np.nan]]))\n",
    "\n",
    "        x = x.float().to(device)\n",
    "        with torch.no_grad():\n",
    "            modelPrediction = model(x)\n",
    "\n",
    "        predictions.append(modelPrediction.cpu().numpy().reshape(14,1))\n",
    "\n",
    "    if i % 90 == 0:\n",
    "        actual.append(x.float().numpy().reshape(90,22)[:,3])"
   ],
   "metadata": {
    "collapsed": false
   }
  },
  {
   "cell_type": "code",
   "execution_count": 138,
   "outputs": [],
   "source": [
    "actual = np.concatenate(actual).reshape(-1,1)\n",
    "predictions = np.concatenate(predictions).reshape(-1,1)\n",
    "\n",
    "actual = dataset.outputScaler.inverse_transform(actual)\n",
    "predictions = dataset.outputScaler.inverse_transform(predictions)"
   ],
   "metadata": {
    "collapsed": false
   }
  },
  {
   "cell_type": "code",
   "execution_count": 139,
   "outputs": [
    {
     "data": {
      "text/plain": "(0.9276602327823639, 1.6307567298412322)"
     },
     "execution_count": 139,
     "metadata": {},
     "output_type": "execute_result"
    },
    {
     "data": {
      "text/plain": "<Figure size 640x480 with 1 Axes>",
      "image/png": "[encoded data removed]"
     },
     "metadata": {},
     "output_type": "display_data"
    }
   ],
   "source": [
    "plt.plot(actual)\n",
    "plt.plot(predictions)\n",
    "plt.xlim(0,300)\n",
    "plt.ylim()"
   ],
   "metadata": {
    "collapsed": false
   }
  }
 ],
 "metadata": {
  "kernelspec": {
   "display_name": "Python 3",
   "language": "python",
   "name": "python3"
  },
  "language_info": {
   "codemirror_mode": {
    "name": "ipython",
    "version": 2
   },
   "file_extension": ".py",
   "mimetype": "text/x-python",
   "name": "python",
   "nbconvert_exporter": "python",
   "pygments_lexer": "ipython2",
   "version": "2.7.6"
  }
 },
 "nbformat": 4,
 "nbformat_minor": 0
}
