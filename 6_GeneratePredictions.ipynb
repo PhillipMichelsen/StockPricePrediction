{
 "cells": [
  {
   "cell_type": "code",
   "execution_count": 1,
   "metadata": {
    "collapsed": true
   },
   "outputs": [
    {
     "name": "stdout",
     "output_type": "stream",
     "text": [
      "env: HSA_OVERRIDE_GFX_VERSION=10.3.0\n"
     ]
    }
   ],
   "source": [
    "%reset\n",
    "%env HSA_OVERRIDE_GFX_VERSION=10.3.0"
   ]
  },
  {
   "cell_type": "code",
   "execution_count": 2,
   "outputs": [],
   "source": [
    "import os\n",
    "import warnings\n",
    "\n",
    "import torch\n",
    "from torch.utils.data import Dataset, DataLoader\n",
    "from torch import nn\n",
    "from torchinfo import summary\n",
    "from Classes import StockData, LSTM\n",
    "\n",
    "from sklearn.preprocessing import MinMaxScaler\n",
    "from sklearn.metrics import mean_squared_error, mean_absolute_error, r2_score\n",
    "\n",
    "import pandas as pd\n",
    "import numpy as np\n",
    "import matplotlib.pyplot as plt\n",
    "import ta\n",
    "\n",
    "warnings.filterwarnings(\"ignore\", category=UserWarning)\n",
    "\n",
    "RawStockDataDirectory = 'StockData/Raw/'\n",
    "ProcessedStockDataDirectory = 'StockData/Processed/'\n",
    "DatasetsDirectory = 'StockData/Datasets/'\n",
    "\n",
    "inputLength = 90\n",
    "outputLength = 14"
   ],
   "metadata": {
    "collapsed": false
   }
  },
  {
   "cell_type": "code",
   "execution_count": 3,
   "outputs": [],
   "source": [
    "torch.cuda.is_available()\n",
    "device = torch.device('cuda')"
   ],
   "metadata": {
    "collapsed": false
   }
  },
  {
   "cell_type": "code",
   "execution_count": 4,
   "outputs": [
    {
     "data": {
      "text/plain": "LSTM(\n  (lstm): LSTM(22, 128, num_layers=5, batch_first=True, dropout=0.3)\n  (fc): Linear(in_features=128, out_features=14, bias=True)\n  (dropout): Dropout(p=0.3, inplace=False)\n)"
     },
     "execution_count": 4,
     "metadata": {},
     "output_type": "execute_result"
    }
   ],
   "source": [
    "model = LSTM(22,128,5,14)\n",
    "model.load_state_dict(torch.load('Models/I(90,22)_O(14,1)_128HS_5L_64B/Model_State_Epoch_10.pt'))\n",
    "model.to(device)\n",
    "model.eval()"
   ],
   "metadata": {
    "collapsed": false
   }
  },
  {
   "cell_type": "code",
   "execution_count": 5,
   "outputs": [],
   "source": [
    "data = pd.read_csv('Data/Raw/Stock/NVDA', usecols=[1,2,3,4,5])"
   ],
   "metadata": {
    "collapsed": false
   }
  },
  {
   "cell_type": "code",
   "execution_count": 6,
   "outputs": [],
   "source": [
    "# Calculate moving averages\n",
    "data['MA10'] = data['Close'].rolling(window=10).mean()\n",
    "data['MA20'] = data['Close'].rolling(window=20).mean()\n",
    "data['MA50'] = data['Close'].rolling(window=50).mean()\n",
    "data['MA100'] = data['Close'].rolling(window=100).mean()\n",
    "data['MA200'] = data['Close'].rolling(window=200).mean()\n",
    "\n",
    "# Calculate RSI\n",
    "data['RSI'] = ta.momentum.rsi(data['Close'], window=14)\n",
    "\n",
    "# Calculate Bollinger Bands\n",
    "BB = ta.volatility.BollingerBands(data['Close'])\n",
    "data['BBup'], data['BBmid'], data['BBlow'] = BB.bollinger_hband(), BB.bollinger_mavg(), BB.bollinger_lband()\n",
    "\n",
    "# Calculate MACD\n",
    "MACD = ta.trend.MACD(data['Close'])\n",
    "data['MACD'], data['MACDsig'], data['MACDdiff'] = MACD.macd(), MACD.macd_signal(), MACD.macd_diff()\n",
    "\n",
    "# Calculate ROC\n",
    "data['ROC'] = ta.momentum.ROCIndicator(data['Close']).roc()\n",
    "\n",
    "# Calculate KAMA\n",
    "data['KAMA'] = ta.momentum.kama(data['Close'])\n",
    "\n",
    "# Calculate OBV\n",
    "data['OBX'] = ta.volume.OnBalanceVolumeIndicator(close=data['Close'], volume=data['Volume']).on_balance_volume()\n",
    "\n",
    "# Calculate STOCH\n",
    "STOCH = ta.momentum.StochasticOscillator(close=data['Close'], high=data['High'], low=data['Low'])\n",
    "data['STOCH'] = STOCH.stoch()\n",
    "data['STOCHsig'] = STOCH.stoch_signal()\n",
    "\n",
    "data.dropna(inplace=True)\n",
    "data.reset_index(drop=True, inplace=True)"
   ],
   "metadata": {
    "collapsed": false
   }
  },
  {
   "cell_type": "code",
   "execution_count": 7,
   "outputs": [
    {
     "data": {
      "text/plain": "            Open        High         Low       Close     Volume        MA10  \\\n0       0.530485    0.572303    0.530485    0.557965  126033600    0.446970   \n1       0.573498    0.578277    0.513758    0.540044   61636800    0.459754   \n2       0.523317    0.571108    0.506589    0.555576   47001600    0.476123   \n3       0.554382    0.556771    0.525707    0.547212   27235200    0.487832   \n4       0.549004    0.549602    0.531680    0.542433   14404800    0.500974   \n...          ...         ...         ...         ...        ...         ...   \n5869  238.869438  242.438824  234.830116  235.500000   43742900  228.493188   \n5870  236.000000  241.250000  232.410004  232.880005   51515400  231.129697   \n5871  234.869995  242.000000  234.240005  241.809998   51357300  234.560222   \n5872  241.750000  244.539993  233.830002  234.360001   50125700  234.336241   \n5873  234.089996  236.270004  227.259995  229.649994   47453200  234.019194   \n\n            MA20        MA50       MA100       MA200  ...       BBmid  \\\n0       0.428630    0.440769    0.415583    0.392329  ...    0.428630   \n1       0.433170    0.442155    0.417638    0.393148  ...    0.433170   \n2       0.439084    0.443326    0.419944    0.393847  ...    0.439084   \n3       0.444879    0.444365    0.422286    0.394665  ...    0.444879   \n4       0.451032    0.444461    0.424412    0.395466  ...    0.451032   \n...          ...         ...         ...         ...  ...         ...   \n5869  224.218916  192.397721  170.546482  165.268284  ...  224.218916   \n5870  225.320207  193.755682  171.717175  165.586575  ...  225.320207   \n5871  226.326090  195.524603  172.985764  165.940224  ...  226.326090   \n5872  226.943475  197.171119  174.133873  166.278103  ...  226.943475   \n5873  227.259372  198.940399  175.308151  166.582242  ...  227.259372   \n\n           BBlow       MACD    MACDsig  MACDdiff        ROC        KAMA  \\\n0       0.338104   0.020395   0.003349  0.017046  50.160718    0.449806   \n1       0.330651   0.025454   0.007770  0.017684  40.372659    0.460157   \n2       0.323483   0.030368   0.012289  0.018078  37.982288    0.477120   \n3       0.320157   0.033204   0.016472  0.016731  32.753581    0.485755   \n4       0.319970   0.034666   0.020111  0.014555  38.414785    0.495095   \n...          ...        ...        ...       ...        ...         ...   \n5869  204.426320  11.118690  11.467934 -0.349243   3.470389  217.434639   \n5870  206.184503  10.633549  11.301057 -0.667507   5.862903  219.024411   \n5871  205.982091  10.844637  11.209773 -0.365135  13.077921  221.979419   \n5872  206.412020  10.292132  11.026245 -0.734112  13.483325  222.085298   \n5873  206.765517   9.366242  10.694244 -1.328002  10.672165  222.166092   \n\n              OBX      STOCH   STOCHsig  \n0      1057166400  93.103460  94.484925  \n1       995529600  82.123181  89.213476  \n2      1042531200  89.017641  88.081427  \n3      1015296000  84.883886  85.341569  \n4      1000891200  81.012904  84.971477  \n...           ...        ...        ...  \n5869  16208394400  81.865684  88.340704  \n5870  16156879000  75.018440  85.532222  \n5871  16208236300  98.356589  85.080238  \n5872  16158110600  74.779943  82.718324  \n5873  16110657400  63.111305  78.749279  \n\n[5874 rows x 22 columns]",
      "text/html": "<div>\n<style scoped>\n    .dataframe tbody tr th:only-of-type {\n        vertical-align: middle;\n    }\n\n    .dataframe tbody tr th {\n        vertical-align: top;\n    }\n\n    .dataframe thead th {\n        text-align: right;\n    }\n</style>\n<table border=\"1\" class=\"dataframe\">\n  <thead>\n    <tr style=\"text-align: right;\">\n      <th></th>\n      <th>Open</th>\n      <th>High</th>\n      <th>Low</th>\n      <th>Close</th>\n      <th>Volume</th>\n      <th>MA10</th>\n      <th>MA20</th>\n      <th>MA50</th>\n      <th>MA100</th>\n      <th>MA200</th>\n      <th>...</th>\n      <th>BBmid</th>\n      <th>BBlow</th>\n      <th>MACD</th>\n      <th>MACDsig</th>\n      <th>MACDdiff</th>\n      <th>ROC</th>\n      <th>KAMA</th>\n      <th>OBX</th>\n      <th>STOCH</th>\n      <th>STOCHsig</th>\n    </tr>\n  </thead>\n  <tbody>\n    <tr>\n      <th>0</th>\n      <td>0.530485</td>\n      <td>0.572303</td>\n      <td>0.530485</td>\n      <td>0.557965</td>\n      <td>126033600</td>\n      <td>0.446970</td>\n      <td>0.428630</td>\n      <td>0.440769</td>\n      <td>0.415583</td>\n      <td>0.392329</td>\n      <td>...</td>\n      <td>0.428630</td>\n      <td>0.338104</td>\n      <td>0.020395</td>\n      <td>0.003349</td>\n      <td>0.017046</td>\n      <td>50.160718</td>\n      <td>0.449806</td>\n      <td>1057166400</td>\n      <td>93.103460</td>\n      <td>94.484925</td>\n    </tr>\n    <tr>\n      <th>1</th>\n      <td>0.573498</td>\n      <td>0.578277</td>\n      <td>0.513758</td>\n      <td>0.540044</td>\n      <td>61636800</td>\n      <td>0.459754</td>\n      <td>0.433170</td>\n      <td>0.442155</td>\n      <td>0.417638</td>\n      <td>0.393148</td>\n      <td>...</td>\n      <td>0.433170</td>\n      <td>0.330651</td>\n      <td>0.025454</td>\n      <td>0.007770</td>\n      <td>0.017684</td>\n      <td>40.372659</td>\n      <td>0.460157</td>\n      <td>995529600</td>\n      <td>82.123181</td>\n      <td>89.213476</td>\n    </tr>\n    <tr>\n      <th>2</th>\n      <td>0.523317</td>\n      <td>0.571108</td>\n      <td>0.506589</td>\n      <td>0.555576</td>\n      <td>47001600</td>\n      <td>0.476123</td>\n      <td>0.439084</td>\n      <td>0.443326</td>\n      <td>0.419944</td>\n      <td>0.393847</td>\n      <td>...</td>\n      <td>0.439084</td>\n      <td>0.323483</td>\n      <td>0.030368</td>\n      <td>0.012289</td>\n      <td>0.018078</td>\n      <td>37.982288</td>\n      <td>0.477120</td>\n      <td>1042531200</td>\n      <td>89.017641</td>\n      <td>88.081427</td>\n    </tr>\n    <tr>\n      <th>3</th>\n      <td>0.554382</td>\n      <td>0.556771</td>\n      <td>0.525707</td>\n      <td>0.547212</td>\n      <td>27235200</td>\n      <td>0.487832</td>\n      <td>0.444879</td>\n      <td>0.444365</td>\n      <td>0.422286</td>\n      <td>0.394665</td>\n      <td>...</td>\n      <td>0.444879</td>\n      <td>0.320157</td>\n      <td>0.033204</td>\n      <td>0.016472</td>\n      <td>0.016731</td>\n      <td>32.753581</td>\n      <td>0.485755</td>\n      <td>1015296000</td>\n      <td>84.883886</td>\n      <td>85.341569</td>\n    </tr>\n    <tr>\n      <th>4</th>\n      <td>0.549004</td>\n      <td>0.549602</td>\n      <td>0.531680</td>\n      <td>0.542433</td>\n      <td>14404800</td>\n      <td>0.500974</td>\n      <td>0.451032</td>\n      <td>0.444461</td>\n      <td>0.424412</td>\n      <td>0.395466</td>\n      <td>...</td>\n      <td>0.451032</td>\n      <td>0.319970</td>\n      <td>0.034666</td>\n      <td>0.020111</td>\n      <td>0.014555</td>\n      <td>38.414785</td>\n      <td>0.495095</td>\n      <td>1000891200</td>\n      <td>81.012904</td>\n      <td>84.971477</td>\n    </tr>\n    <tr>\n      <th>...</th>\n      <td>...</td>\n      <td>...</td>\n      <td>...</td>\n      <td>...</td>\n      <td>...</td>\n      <td>...</td>\n      <td>...</td>\n      <td>...</td>\n      <td>...</td>\n      <td>...</td>\n      <td>...</td>\n      <td>...</td>\n      <td>...</td>\n      <td>...</td>\n      <td>...</td>\n      <td>...</td>\n      <td>...</td>\n      <td>...</td>\n      <td>...</td>\n      <td>...</td>\n      <td>...</td>\n    </tr>\n    <tr>\n      <th>5869</th>\n      <td>238.869438</td>\n      <td>242.438824</td>\n      <td>234.830116</td>\n      <td>235.500000</td>\n      <td>43742900</td>\n      <td>228.493188</td>\n      <td>224.218916</td>\n      <td>192.397721</td>\n      <td>170.546482</td>\n      <td>165.268284</td>\n      <td>...</td>\n      <td>224.218916</td>\n      <td>204.426320</td>\n      <td>11.118690</td>\n      <td>11.467934</td>\n      <td>-0.349243</td>\n      <td>3.470389</td>\n      <td>217.434639</td>\n      <td>16208394400</td>\n      <td>81.865684</td>\n      <td>88.340704</td>\n    </tr>\n    <tr>\n      <th>5870</th>\n      <td>236.000000</td>\n      <td>241.250000</td>\n      <td>232.410004</td>\n      <td>232.880005</td>\n      <td>51515400</td>\n      <td>231.129697</td>\n      <td>225.320207</td>\n      <td>193.755682</td>\n      <td>171.717175</td>\n      <td>165.586575</td>\n      <td>...</td>\n      <td>225.320207</td>\n      <td>206.184503</td>\n      <td>10.633549</td>\n      <td>11.301057</td>\n      <td>-0.667507</td>\n      <td>5.862903</td>\n      <td>219.024411</td>\n      <td>16156879000</td>\n      <td>75.018440</td>\n      <td>85.532222</td>\n    </tr>\n    <tr>\n      <th>5871</th>\n      <td>234.869995</td>\n      <td>242.000000</td>\n      <td>234.240005</td>\n      <td>241.809998</td>\n      <td>51357300</td>\n      <td>234.560222</td>\n      <td>226.326090</td>\n      <td>195.524603</td>\n      <td>172.985764</td>\n      <td>165.940224</td>\n      <td>...</td>\n      <td>226.326090</td>\n      <td>205.982091</td>\n      <td>10.844637</td>\n      <td>11.209773</td>\n      <td>-0.365135</td>\n      <td>13.077921</td>\n      <td>221.979419</td>\n      <td>16208236300</td>\n      <td>98.356589</td>\n      <td>85.080238</td>\n    </tr>\n    <tr>\n      <th>5872</th>\n      <td>241.750000</td>\n      <td>244.539993</td>\n      <td>233.830002</td>\n      <td>234.360001</td>\n      <td>50125700</td>\n      <td>234.336241</td>\n      <td>226.943475</td>\n      <td>197.171119</td>\n      <td>174.133873</td>\n      <td>166.278103</td>\n      <td>...</td>\n      <td>226.943475</td>\n      <td>206.412020</td>\n      <td>10.292132</td>\n      <td>11.026245</td>\n      <td>-0.734112</td>\n      <td>13.483325</td>\n      <td>222.085298</td>\n      <td>16158110600</td>\n      <td>74.779943</td>\n      <td>82.718324</td>\n    </tr>\n    <tr>\n      <th>5873</th>\n      <td>234.089996</td>\n      <td>236.270004</td>\n      <td>227.259995</td>\n      <td>229.649994</td>\n      <td>47453200</td>\n      <td>234.019194</td>\n      <td>227.259372</td>\n      <td>198.940399</td>\n      <td>175.308151</td>\n      <td>166.582242</td>\n      <td>...</td>\n      <td>227.259372</td>\n      <td>206.765517</td>\n      <td>9.366242</td>\n      <td>10.694244</td>\n      <td>-1.328002</td>\n      <td>10.672165</td>\n      <td>222.166092</td>\n      <td>16110657400</td>\n      <td>63.111305</td>\n      <td>78.749279</td>\n    </tr>\n  </tbody>\n</table>\n<p>5874 rows × 22 columns</p>\n</div>"
     },
     "execution_count": 7,
     "metadata": {},
     "output_type": "execute_result"
    }
   ],
   "source": [
    "data"
   ],
   "metadata": {
    "collapsed": false
   }
  },
  {
   "cell_type": "code",
   "execution_count": 8,
   "outputs": [],
   "source": [
    "dataset = StockData(data)\n",
    "dataloader = DataLoader(dataset,shuffle=False, drop_last=False)"
   ],
   "metadata": {
    "collapsed": false
   }
  },
  {
   "cell_type": "code",
   "execution_count": 9,
   "outputs": [],
   "source": [
    "predictions = []\n",
    "actual = []"
   ],
   "metadata": {
    "collapsed": false
   }
  },
  {
   "cell_type": "code",
   "execution_count": 10,
   "outputs": [
    {
     "name": "stderr",
     "output_type": "stream",
     "text": [
      "MIOpen(HIP): Warning [SQLiteBase] Missing system database file: gfx1030_20.kdb Performance may degrade. Please follow instructions to install: https://github.com/ROCmSoftwarePlatform/MIOpen#installing-miopen-kernels-package\n"
     ]
    }
   ],
   "source": [
    "for i, (x,y) in enumerate(dataloader):\n",
    "    if i == 0:\n",
    "        actual.append(x.float().numpy().reshape(90,22)[:,3])\n",
    "\n",
    "        for nan in range(inputLength):\n",
    "            predictions.append(np.array([[np.nan]]))\n",
    "\n",
    "        x = x.float().to(device)\n",
    "        with torch.no_grad():\n",
    "            modelPrediction = model(x)\n",
    "\n",
    "        predictions.append(modelPrediction.cpu().numpy().reshape(14,1))\n",
    "\n",
    "        continue\n",
    "\n",
    "    if (i-14) % 90 == 0:\n",
    "        for nan in range(inputLength - outputLength):\n",
    "            predictions.append(np.array([[np.nan]]))\n",
    "\n",
    "        x = x.float().to(device)\n",
    "        with torch.no_grad():\n",
    "            modelPrediction = model(x)\n",
    "\n",
    "        predictions.append(modelPrediction.cpu().numpy().reshape(14,1))\n",
    "\n",
    "    if i % 90 == 0:\n",
    "        actual.append(x.float().numpy().reshape(90,22)[:,3])"
   ],
   "metadata": {
    "collapsed": false
   }
  },
  {
   "cell_type": "code",
   "execution_count": 11,
   "outputs": [],
   "source": [
    "actual = np.concatenate(actual).reshape(-1,1)\n",
    "predictions = np.concatenate(predictions).reshape(-1,1)\n",
    "\n",
    "actual = dataset.outputScaler.inverse_transform(actual)\n",
    "predictions = dataset.outputScaler.inverse_transform(predictions)"
   ],
   "metadata": {
    "collapsed": false
   }
  },
  {
   "cell_type": "code",
   "execution_count": 12,
   "outputs": [
    {
     "data": {
      "text/plain": "(-16.284966223092802, 350.00008976992405)"
     },
     "execution_count": 12,
     "metadata": {},
     "output_type": "execute_result"
    },
    {
     "data": {
      "text/plain": "<Figure size 640x480 with 1 Axes>",
      "image/png": "[encoded data removed]"
     },
     "metadata": {},
     "output_type": "display_data"
    }
   ],
   "source": [
    "plt.plot(actual)\n",
    "plt.plot(predictions)\n",
    "plt.xlim(5000,5250)\n",
    "plt.ylim()"
   ],
   "metadata": {
    "collapsed": false
   }
  },
  {
   "cell_type": "code",
   "execution_count": 12,
   "outputs": [],
   "source": [],
   "metadata": {
    "collapsed": false
   }
  }
 ],
 "metadata": {
  "kernelspec": {
   "display_name": "Python 3",
   "language": "python",
   "name": "python3"
  },
  "language_info": {
   "codemirror_mode": {
    "name": "ipython",
    "version": 2
   },
   "file_extension": ".py",
   "mimetype": "text/x-python",
   "name": "python",
   "nbconvert_exporter": "python",
   "pygments_lexer": "ipython2",
   "version": "2.7.6"
  }
 },
 "nbformat": 4,
 "nbformat_minor": 0
}
