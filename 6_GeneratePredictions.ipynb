{
 "cells": [
  {
   "cell_type": "code",
   "execution_count": 27,
   "metadata": {
    "collapsed": true
   },
   "outputs": [
    {
     "name": "stdout",
     "output_type": "stream",
     "text": [
      "env: HSA_OVERRIDE_GFX_VERSION=10.3.0\n"
     ]
    }
   ],
   "source": [
    "%reset\n",
    "%env HSA_OVERRIDE_GFX_VERSION=10.3.0"
   ]
  },
  {
   "cell_type": "code",
   "execution_count": 28,
   "outputs": [],
   "source": [
    "import os\n",
    "import warnings\n",
    "\n",
    "import torch\n",
    "from torch.utils.data import Dataset, DataLoader\n",
    "from torch import nn\n",
    "from torchinfo import summary\n",
    "from Classes import StockData, LSTM\n",
    "\n",
    "from sklearn.preprocessing import MinMaxScaler\n",
    "from sklearn.metrics import mean_squared_error, mean_absolute_error, r2_score\n",
    "\n",
    "import pandas as pd\n",
    "import numpy as np\n",
    "import matplotlib.pyplot as plt\n",
    "import ta\n",
    "\n",
    "warnings.filterwarnings(\"ignore\", category=UserWarning)\n",
    "\n",
    "RawStockDataDirectory = 'StockData/Raw/'\n",
    "ProcessedStockDataDirectory = 'StockData/Processed/'\n",
    "DatasetsDirectory = 'StockData/Datasets/'\n",
    "\n",
    "inputLength = 90\n",
    "outputLength = 14"
   ],
   "metadata": {
    "collapsed": false
   }
  },
  {
   "cell_type": "code",
   "execution_count": 29,
   "outputs": [],
   "source": [
    "torch.cuda.is_available()\n",
    "device = torch.device('cuda')"
   ],
   "metadata": {
    "collapsed": false
   }
  },
  {
   "cell_type": "code",
   "execution_count": 30,
   "outputs": [
    {
     "data": {
      "text/plain": "LSTM(\n  (lstm): LSTM(22, 256, num_layers=5, dropout=0.2)\n  (fc): Linear(in_features=256, out_features=14, bias=True)\n  (dropout): Dropout(p=0.2, inplace=False)\n)"
     },
     "execution_count": 30,
     "metadata": {},
     "output_type": "execute_result"
    }
   ],
   "source": [
    "model = LSTM(22,256,5,14)\n",
    "model.load_state_dict(torch.load('Models/I(90,22)_O(14,1)_256HS_5L_64B/Pass8.pt'))\n",
    "model.to(device)\n",
    "model.eval()"
   ],
   "metadata": {
    "collapsed": false
   }
  },
  {
   "cell_type": "code",
   "execution_count": 31,
   "outputs": [],
   "source": [
    "data = pd.read_csv('Data/Raw/Stock/AAPL', usecols=[1,2,3,4,5])"
   ],
   "metadata": {
    "collapsed": false
   }
  },
  {
   "cell_type": "code",
   "execution_count": 32,
   "outputs": [],
   "source": [
    "# Calculate moving averages\n",
    "data['MA10'] = data['Close'].rolling(window=10).mean()\n",
    "data['MA20'] = data['Close'].rolling(window=20).mean()\n",
    "data['MA50'] = data['Close'].rolling(window=50).mean()\n",
    "data['MA100'] = data['Close'].rolling(window=100).mean()\n",
    "data['MA200'] = data['Close'].rolling(window=200).mean()\n",
    "\n",
    "# Calculate RSI\n",
    "data['RSI'] = ta.momentum.rsi(data['Close'], window=14)\n",
    "\n",
    "# Calculate Bollinger Bands\n",
    "BB = ta.volatility.BollingerBands(data['Close'])\n",
    "data['BBup'], data['BBmid'], data['BBlow'] = BB.bollinger_hband(), BB.bollinger_mavg(), BB.bollinger_lband()\n",
    "\n",
    "# Calculate MACD\n",
    "MACD = ta.trend.MACD(data['Close'])\n",
    "data['MACD'], data['MACDsig'], data['MACDdiff'] = MACD.macd(), MACD.macd_signal(), MACD.macd_diff()\n",
    "\n",
    "# Calculate ROC\n",
    "data['ROC'] = ta.momentum.ROCIndicator(data['Close']).roc()\n",
    "\n",
    "# Calculate KAMA\n",
    "data['KAMA'] = ta.momentum.kama(data['Close'])\n",
    "\n",
    "# Calculate OBV\n",
    "data['OBX'] = ta.volume.OnBalanceVolumeIndicator(close=data['Close'], volume=data['Volume']).on_balance_volume()\n",
    "\n",
    "# Calculate STOCH\n",
    "STOCH = ta.momentum.StochasticOscillator(close=data['Close'], high=data['High'], low=data['Low'])\n",
    "data['STOCH'] = STOCH.stoch()\n",
    "data['STOCHsig'] = STOCH.stoch_signal()\n",
    "\n",
    "data.dropna(inplace=True)\n",
    "data.reset_index(drop=True, inplace=True)"
   ],
   "metadata": {
    "collapsed": false
   }
  },
  {
   "cell_type": "code",
   "execution_count": 33,
   "outputs": [
    {
     "data": {
      "text/plain": "             Open        High         Low       Close    Volume        MA10  \\\n0        0.049861    0.050294    0.049861    0.049861  91728000    0.058359   \n1        0.052462    0.052896    0.052462    0.052462  94684800    0.057188   \n2        0.052896    0.053329    0.052896    0.052896  49996800    0.056191   \n3        0.052896    0.053329    0.052896    0.052896  61129600    0.055367   \n4        0.057232    0.057665    0.057232    0.057232  45046400    0.054934   \n...           ...         ...         ...         ...       ...         ...   \n10446  153.789993  156.300003  153.460007  153.830002  87558000  148.491000   \n10447  153.699997  154.029999  151.130005  151.600006  56182000  148.803001   \n10448  152.809998  153.470001  151.830002  152.869995  47204800  149.199001   \n10449  153.559998  154.539993  150.229996  150.589996  53833600  149.318001   \n10450  150.210007  150.940002  147.610001  148.500000  68524400  149.497000   \n\n             MA20        MA50       MA100       MA200  ...       BBmid  \\\n0        0.064256    0.073569    0.086697    0.091779  ...    0.064256   \n1        0.063388    0.072944    0.086259    0.091542  ...    0.063388   \n2        0.062326    0.072337    0.085817    0.091334  ...    0.062326   \n3        0.061199    0.071826    0.085396    0.091161  ...    0.061199   \n4        0.060483    0.071357    0.085019    0.090998  ...    0.060483   \n...           ...         ...         ...         ...  ...         ...   \n10446  150.640067  141.761182  143.000702  146.823158  ...  150.640067   \n10447  150.645132  142.088312  143.131319  146.880270  ...  150.645132   \n10448  150.567921  142.505144  143.281016  146.961002  ...  150.567921   \n10449  150.513000  142.883764  143.361560  147.029139  ...  150.513000   \n10450  150.406001  143.257128  143.467158  147.059353  ...  150.406001   \n\n            BBlow      MACD   MACDsig  MACDdiff        ROC        KAMA  \\\n0        0.050029 -0.006020 -0.004922 -0.001098 -27.673385    0.053552   \n1        0.048521 -0.006071 -0.005152 -0.000919 -22.930639    0.053355   \n2        0.047649 -0.006007 -0.005323 -0.000684 -19.736848    0.053286   \n3        0.047280 -0.005889 -0.005436 -0.000453 -17.567692    0.053236   \n4        0.047314 -0.005383 -0.005425  0.000042  -8.964926    0.053380   \n...           ...       ...       ...       ...        ...         ...   \n10446  144.779566  1.460911  1.910799 -0.449888  -0.965686  148.666778   \n10447  144.781497  1.524348  1.833508 -0.309161  -1.372715  148.749423   \n10448  144.866416  1.657987  1.798404 -0.140417   0.209762  148.897996   \n10449  144.834612  1.561916  1.751106 -0.189191   1.421067  148.914562   \n10450  144.660959  1.302123  1.661310 -0.359187  -0.275337  148.908805   \n\n                OBX      STOCH   STOCHsig  \n0         -87180800   2.173706   0.724569  \n1           7504000  15.216168   5.796625  \n2          57500800  18.180439  11.856771  \n3         118630400  20.511964  17.969524  \n4         163676800  51.431151  30.041185  \n...             ...        ...        ...  \n10446  224730377800  79.887382  51.139744  \n10447  224674195800  61.946961  66.398523  \n10448  224721400600  72.164083  71.332809  \n10449  224667567000  53.951593  62.687546  \n10450  224599042600  37.096796  54.404157  \n\n[10451 rows x 22 columns]",
      "text/html": "<div>\n<style scoped>\n    .dataframe tbody tr th:only-of-type {\n        vertical-align: middle;\n    }\n\n    .dataframe tbody tr th {\n        vertical-align: top;\n    }\n\n    .dataframe thead th {\n        text-align: right;\n    }\n</style>\n<table border=\"1\" class=\"dataframe\">\n  <thead>\n    <tr style=\"text-align: right;\">\n      <th></th>\n      <th>Open</th>\n      <th>High</th>\n      <th>Low</th>\n      <th>Close</th>\n      <th>Volume</th>\n      <th>MA10</th>\n      <th>MA20</th>\n      <th>MA50</th>\n      <th>MA100</th>\n      <th>MA200</th>\n      <th>...</th>\n      <th>BBmid</th>\n      <th>BBlow</th>\n      <th>MACD</th>\n      <th>MACDsig</th>\n      <th>MACDdiff</th>\n      <th>ROC</th>\n      <th>KAMA</th>\n      <th>OBX</th>\n      <th>STOCH</th>\n      <th>STOCHsig</th>\n    </tr>\n  </thead>\n  <tbody>\n    <tr>\n      <th>0</th>\n      <td>0.049861</td>\n      <td>0.050294</td>\n      <td>0.049861</td>\n      <td>0.049861</td>\n      <td>91728000</td>\n      <td>0.058359</td>\n      <td>0.064256</td>\n      <td>0.073569</td>\n      <td>0.086697</td>\n      <td>0.091779</td>\n      <td>...</td>\n      <td>0.064256</td>\n      <td>0.050029</td>\n      <td>-0.006020</td>\n      <td>-0.004922</td>\n      <td>-0.001098</td>\n      <td>-27.673385</td>\n      <td>0.053552</td>\n      <td>-87180800</td>\n      <td>2.173706</td>\n      <td>0.724569</td>\n    </tr>\n    <tr>\n      <th>1</th>\n      <td>0.052462</td>\n      <td>0.052896</td>\n      <td>0.052462</td>\n      <td>0.052462</td>\n      <td>94684800</td>\n      <td>0.057188</td>\n      <td>0.063388</td>\n      <td>0.072944</td>\n      <td>0.086259</td>\n      <td>0.091542</td>\n      <td>...</td>\n      <td>0.063388</td>\n      <td>0.048521</td>\n      <td>-0.006071</td>\n      <td>-0.005152</td>\n      <td>-0.000919</td>\n      <td>-22.930639</td>\n      <td>0.053355</td>\n      <td>7504000</td>\n      <td>15.216168</td>\n      <td>5.796625</td>\n    </tr>\n    <tr>\n      <th>2</th>\n      <td>0.052896</td>\n      <td>0.053329</td>\n      <td>0.052896</td>\n      <td>0.052896</td>\n      <td>49996800</td>\n      <td>0.056191</td>\n      <td>0.062326</td>\n      <td>0.072337</td>\n      <td>0.085817</td>\n      <td>0.091334</td>\n      <td>...</td>\n      <td>0.062326</td>\n      <td>0.047649</td>\n      <td>-0.006007</td>\n      <td>-0.005323</td>\n      <td>-0.000684</td>\n      <td>-19.736848</td>\n      <td>0.053286</td>\n      <td>57500800</td>\n      <td>18.180439</td>\n      <td>11.856771</td>\n    </tr>\n    <tr>\n      <th>3</th>\n      <td>0.052896</td>\n      <td>0.053329</td>\n      <td>0.052896</td>\n      <td>0.052896</td>\n      <td>61129600</td>\n      <td>0.055367</td>\n      <td>0.061199</td>\n      <td>0.071826</td>\n      <td>0.085396</td>\n      <td>0.091161</td>\n      <td>...</td>\n      <td>0.061199</td>\n      <td>0.047280</td>\n      <td>-0.005889</td>\n      <td>-0.005436</td>\n      <td>-0.000453</td>\n      <td>-17.567692</td>\n      <td>0.053236</td>\n      <td>118630400</td>\n      <td>20.511964</td>\n      <td>17.969524</td>\n    </tr>\n    <tr>\n      <th>4</th>\n      <td>0.057232</td>\n      <td>0.057665</td>\n      <td>0.057232</td>\n      <td>0.057232</td>\n      <td>45046400</td>\n      <td>0.054934</td>\n      <td>0.060483</td>\n      <td>0.071357</td>\n      <td>0.085019</td>\n      <td>0.090998</td>\n      <td>...</td>\n      <td>0.060483</td>\n      <td>0.047314</td>\n      <td>-0.005383</td>\n      <td>-0.005425</td>\n      <td>0.000042</td>\n      <td>-8.964926</td>\n      <td>0.053380</td>\n      <td>163676800</td>\n      <td>51.431151</td>\n      <td>30.041185</td>\n    </tr>\n    <tr>\n      <th>...</th>\n      <td>...</td>\n      <td>...</td>\n      <td>...</td>\n      <td>...</td>\n      <td>...</td>\n      <td>...</td>\n      <td>...</td>\n      <td>...</td>\n      <td>...</td>\n      <td>...</td>\n      <td>...</td>\n      <td>...</td>\n      <td>...</td>\n      <td>...</td>\n      <td>...</td>\n      <td>...</td>\n      <td>...</td>\n      <td>...</td>\n      <td>...</td>\n      <td>...</td>\n      <td>...</td>\n    </tr>\n    <tr>\n      <th>10446</th>\n      <td>153.789993</td>\n      <td>156.300003</td>\n      <td>153.460007</td>\n      <td>153.830002</td>\n      <td>87558000</td>\n      <td>148.491000</td>\n      <td>150.640067</td>\n      <td>141.761182</td>\n      <td>143.000702</td>\n      <td>146.823158</td>\n      <td>...</td>\n      <td>150.640067</td>\n      <td>144.779566</td>\n      <td>1.460911</td>\n      <td>1.910799</td>\n      <td>-0.449888</td>\n      <td>-0.965686</td>\n      <td>148.666778</td>\n      <td>224730377800</td>\n      <td>79.887382</td>\n      <td>51.139744</td>\n    </tr>\n    <tr>\n      <th>10447</th>\n      <td>153.699997</td>\n      <td>154.029999</td>\n      <td>151.130005</td>\n      <td>151.600006</td>\n      <td>56182000</td>\n      <td>148.803001</td>\n      <td>150.645132</td>\n      <td>142.088312</td>\n      <td>143.131319</td>\n      <td>146.880270</td>\n      <td>...</td>\n      <td>150.645132</td>\n      <td>144.781497</td>\n      <td>1.524348</td>\n      <td>1.833508</td>\n      <td>-0.309161</td>\n      <td>-1.372715</td>\n      <td>148.749423</td>\n      <td>224674195800</td>\n      <td>61.946961</td>\n      <td>66.398523</td>\n    </tr>\n    <tr>\n      <th>10448</th>\n      <td>152.809998</td>\n      <td>153.470001</td>\n      <td>151.830002</td>\n      <td>152.869995</td>\n      <td>47204800</td>\n      <td>149.199001</td>\n      <td>150.567921</td>\n      <td>142.505144</td>\n      <td>143.281016</td>\n      <td>146.961002</td>\n      <td>...</td>\n      <td>150.567921</td>\n      <td>144.866416</td>\n      <td>1.657987</td>\n      <td>1.798404</td>\n      <td>-0.140417</td>\n      <td>0.209762</td>\n      <td>148.897996</td>\n      <td>224721400600</td>\n      <td>72.164083</td>\n      <td>71.332809</td>\n    </tr>\n    <tr>\n      <th>10449</th>\n      <td>153.559998</td>\n      <td>154.539993</td>\n      <td>150.229996</td>\n      <td>150.589996</td>\n      <td>53833600</td>\n      <td>149.318001</td>\n      <td>150.513000</td>\n      <td>142.883764</td>\n      <td>143.361560</td>\n      <td>147.029139</td>\n      <td>...</td>\n      <td>150.513000</td>\n      <td>144.834612</td>\n      <td>1.561916</td>\n      <td>1.751106</td>\n      <td>-0.189191</td>\n      <td>1.421067</td>\n      <td>148.914562</td>\n      <td>224667567000</td>\n      <td>53.951593</td>\n      <td>62.687546</td>\n    </tr>\n    <tr>\n      <th>10450</th>\n      <td>150.210007</td>\n      <td>150.940002</td>\n      <td>147.610001</td>\n      <td>148.500000</td>\n      <td>68524400</td>\n      <td>149.497000</td>\n      <td>150.406001</td>\n      <td>143.257128</td>\n      <td>143.467158</td>\n      <td>147.059353</td>\n      <td>...</td>\n      <td>150.406001</td>\n      <td>144.660959</td>\n      <td>1.302123</td>\n      <td>1.661310</td>\n      <td>-0.359187</td>\n      <td>-0.275337</td>\n      <td>148.908805</td>\n      <td>224599042600</td>\n      <td>37.096796</td>\n      <td>54.404157</td>\n    </tr>\n  </tbody>\n</table>\n<p>10451 rows × 22 columns</p>\n</div>"
     },
     "execution_count": 33,
     "metadata": {},
     "output_type": "execute_result"
    }
   ],
   "source": [
    "data"
   ],
   "metadata": {
    "collapsed": false
   }
  },
  {
   "cell_type": "code",
   "execution_count": 34,
   "outputs": [],
   "source": [
    "dataset = StockData(data)\n",
    "dataloader = DataLoader(dataset,shuffle=False, drop_last=False)"
   ],
   "metadata": {
    "collapsed": false
   }
  },
  {
   "cell_type": "code",
   "execution_count": 35,
   "outputs": [],
   "source": [
    "predictions = []\n",
    "actual = []"
   ],
   "metadata": {
    "collapsed": false
   }
  },
  {
   "cell_type": "code",
   "execution_count": 36,
   "outputs": [],
   "source": [
    "for i, (x,y) in enumerate(dataloader):\n",
    "    if i == 0:\n",
    "        actual.append(x.float().numpy().reshape(90,22)[:,3])\n",
    "\n",
    "        for nan in range(inputLength):\n",
    "            predictions.append(np.array([[np.nan]]))\n",
    "\n",
    "        x = x.float().to(device)\n",
    "        with torch.no_grad():\n",
    "            modelPrediction = model(x)\n",
    "\n",
    "        predictions.append(modelPrediction.cpu().numpy().reshape(14,1))\n",
    "\n",
    "        continue\n",
    "\n",
    "    if (i-14) % 90 == 0:\n",
    "        for nan in range(inputLength - outputLength):\n",
    "            predictions.append(np.array([[np.nan]]))\n",
    "\n",
    "        x = x.float().to(device)\n",
    "        with torch.no_grad():\n",
    "            modelPrediction = model(x)\n",
    "\n",
    "        predictions.append(modelPrediction.cpu().numpy().reshape(14,1))\n",
    "\n",
    "    if i % 90 == 0:\n",
    "        actual.append(x.float().numpy().reshape(90,22)[:,3])"
   ],
   "metadata": {
    "collapsed": false
   }
  },
  {
   "cell_type": "code",
   "execution_count": 37,
   "outputs": [],
   "source": [
    "actual = np.concatenate(actual).reshape(-1,1)\n",
    "predictions = np.concatenate(predictions).reshape(-1,1)\n",
    "\n",
    "actual = dataset.outputScaler.inverse_transform(actual)\n",
    "predictions = dataset.outputScaler.inverse_transform(predictions)"
   ],
   "metadata": {
    "collapsed": false
   }
  },
  {
   "cell_type": "code",
   "execution_count": 45,
   "outputs": [
    {
     "data": {
      "text/plain": "(-8.99413142465055, 189.7161541145295)"
     },
     "execution_count": 45,
     "metadata": {},
     "output_type": "execute_result"
    },
    {
     "data": {
      "text/plain": "<Figure size 640x480 with 1 Axes>",
      "image/png": "[encoded data removed]"
     },
     "metadata": {},
     "output_type": "display_data"
    }
   ],
   "source": [
    "plt.plot(actual)\n",
    "plt.plot(predictions)\n",
    "plt.xlim(8000,9000)\n",
    "plt.ylim()"
   ],
   "metadata": {
    "collapsed": false
   }
  },
  {
   "cell_type": "code",
   "execution_count": 38,
   "outputs": [],
   "source": [],
   "metadata": {
    "collapsed": false
   }
  }
 ],
 "metadata": {
  "kernelspec": {
   "display_name": "Python 3",
   "language": "python",
   "name": "python3"
  },
  "language_info": {
   "codemirror_mode": {
    "name": "ipython",
    "version": 2
   },
   "file_extension": ".py",
   "mimetype": "text/x-python",
   "name": "python",
   "nbconvert_exporter": "python",
   "pygments_lexer": "ipython2",
   "version": "2.7.6"
  }
 },
 "nbformat": 4,
 "nbformat_minor": 0
}
