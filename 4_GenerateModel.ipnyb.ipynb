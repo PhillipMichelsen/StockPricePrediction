{
 "cells": [
  {
   "cell_type": "code",
   "execution_count": 1,
   "outputs": [
    {
     "name": "stdout",
     "output_type": "stream",
     "text": [
      "env: HSA_OVERRIDE_GFX_VERSION=10.3.0\n"
     ]
    }
   ],
   "source": [
    "%reset\n",
    "%env HSA_OVERRIDE_GFX_VERSION=10.3.0"
   ],
   "metadata": {
    "collapsed": false
   }
  },
  {
   "cell_type": "code",
   "execution_count": 2,
   "outputs": [],
   "source": [
    "import os\n",
    "import warnings\n",
    "\n",
    "import torch\n",
    "from torch import nn\n",
    "from torchinfo import summary\n",
    "from Classes import StockData, LSTM\n",
    "\n",
    "INPUT_LENGTH = 90\n",
    "INPUT_FEATURES = 22\n",
    "OUTPUT_LENGTH = 14\n",
    "OUTPUT_FEATURES = 1\n",
    "\n",
    "MODEL_HIDDEN_SIZE = 128\n",
    "MODEL_NUM_LAYERS = 5\n",
    "BATCH_SIZE = 32\n",
    "\n",
    "MODEL_NAME = f'I({INPUT_LENGTH},{INPUT_FEATURES})_O({OUTPUT_LENGTH},{OUTPUT_FEATURES})_{MODEL_HIDDEN_SIZE}HS_{MODEL_NUM_LAYERS}L_{BATCH_SIZE}B'"
   ],
   "metadata": {
    "collapsed": false
   }
  },
  {
   "cell_type": "code",
   "execution_count": 3,
   "outputs": [
    {
     "data": {
      "text/plain": "=================================================================\nLayer (type:depth-idx)                   Param #\n=================================================================\nLSTM                                     --\n├─LSTM: 1-1                              606,208\n├─Linear: 1-2                            1,806\n├─Dropout: 1-3                           --\n=================================================================\nTotal params: 608,014\nTrainable params: 608,014\nNon-trainable params: 0\n================================================================="
     },
     "execution_count": 3,
     "metadata": {},
     "output_type": "execute_result"
    }
   ],
   "source": [
    "model = LSTM(INPUT_FEATURES, MODEL_HIDDEN_SIZE, MODEL_NUM_LAYERS, OUTPUT_LENGTH)\n",
    "summary(model)"
   ],
   "metadata": {
    "collapsed": false
   }
  },
  {
   "cell_type": "code",
   "execution_count": 4,
   "outputs": [],
   "source": [
    "if not os.path.exists(f'Models/{MODEL_NAME}/BASE.pt'):\n",
    "    if not os.path.exists(f'Models/{MODEL_NAME}'):\n",
    "        os.makedirs(f'Models/{MODEL_NAME}')\n",
    "\n",
    "    torch.save(model.state_dict(), f'Models/{MODEL_NAME}/BASE.pt')\n",
    "\n",
    "else:\n",
    "    print('Model already exists with given parameters...')"
   ],
   "metadata": {
    "collapsed": false
   }
  }
 ],
 "metadata": {
  "kernelspec": {
   "display_name": "Python 3",
   "language": "python",
   "name": "python3"
  },
  "language_info": {
   "codemirror_mode": {
    "name": "ipython",
    "version": 2
   },
   "file_extension": ".py",
   "mimetype": "text/x-python",
   "name": "python",
   "nbconvert_exporter": "python",
   "pygments_lexer": "ipython2",
   "version": "2.7.6"
  }
 },
 "nbformat": 4,
 "nbformat_minor": 0
}
